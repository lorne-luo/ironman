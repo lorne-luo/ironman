{
 "cells": [
  {
   "cell_type": "markdown",
   "metadata": {},
   "source": [
    "# Step 3. Data training and evaluate models\n",
    "Compare several machine learning models on a performance metric\n",
    "\n",
    "Perform hyperparameter tuning on the best model to optimize it for the problem\n",
    "\n",
    "Step 1. [Data exploration](/notebooks/forex/mark1/step%201%20-%20data%20explore.ipynb#Clean-invalid-row)\n",
    "\n",
    "Step 2. [Feature engineering](/notebooks/forex/mark1/step%202%20-%20feature%20enginering.ipynb)\n",
    "\n",
    "Step 3. **Data training and models evaluation**"
   ]
  },
  {
   "cell_type": "markdown",
   "metadata": {},
   "source": [
    "# Import"
   ]
  },
  {
   "cell_type": "code",
   "execution_count": 1,
   "metadata": {},
   "outputs": [],
   "source": [
    "from math import sqrt\n",
    "from datetime import datetime\n",
    "from dateutil.relativedelta import relativedelta\n",
    "import talib as ta\n",
    "\n",
    "import numpy as np\n",
    "import pandas as pd\n",
    "import matplotlib.pyplot as plt\n",
    "%matplotlib inline\n",
    "\n",
    "# Set default font size\n",
    "plt.rcParams['font.size'] = 24\n",
    "\n",
    "# Internal ipython tool for setting figure size\n",
    "from IPython.core.pylabtools import figsize\n",
    "from sklearn.preprocessing import Imputer, MinMaxScaler\n",
    "\n",
    "\n",
    "csv_path = 'data/GBPUSD_Candlestick_1_M_ASK_01.02.2018-01.02.2019_featured.csv'\n",
    "test_csv_path = 'data/GBPUSD_Candlestick_1_M_ASK_01.02.2019-24.04.2019_featured.csv'"
   ]
  },
  {
   "cell_type": "markdown",
   "metadata": {},
   "source": [
    "# Load data"
   ]
  },
  {
   "cell_type": "code",
   "execution_count": 2,
   "metadata": {
    "scrolled": true
   },
   "outputs": [
    {
     "data": {
      "text/html": [
       "<div>\n",
       "<style scoped>\n",
       "    .dataframe tbody tr th:only-of-type {\n",
       "        vertical-align: middle;\n",
       "    }\n",
       "\n",
       "    .dataframe tbody tr th {\n",
       "        vertical-align: top;\n",
       "    }\n",
       "\n",
       "    .dataframe thead th {\n",
       "        text-align: right;\n",
       "    }\n",
       "</style>\n",
       "<table border=\"1\" class=\"dataframe\">\n",
       "  <thead>\n",
       "    <tr style=\"text-align: right;\">\n",
       "      <th></th>\n",
       "      <th>hour</th>\n",
       "      <th>macd</th>\n",
       "      <th>macdsignal</th>\n",
       "      <th>macdhist</th>\n",
       "      <th>rsi</th>\n",
       "      <th>score</th>\n",
       "    </tr>\n",
       "  </thead>\n",
       "  <tbody>\n",
       "    <tr>\n",
       "      <th>374498</th>\n",
       "      <td>20</td>\n",
       "      <td>0.00004</td>\n",
       "      <td>0.00003</td>\n",
       "      <td>0.00001</td>\n",
       "      <td>57.93369</td>\n",
       "      <td>-2.47127</td>\n",
       "    </tr>\n",
       "    <tr>\n",
       "      <th>374499</th>\n",
       "      <td>20</td>\n",
       "      <td>0.00003</td>\n",
       "      <td>0.00003</td>\n",
       "      <td>0.00001</td>\n",
       "      <td>50.40028</td>\n",
       "      <td>-2.03363</td>\n",
       "    </tr>\n",
       "    <tr>\n",
       "      <th>374500</th>\n",
       "      <td>20</td>\n",
       "      <td>0.00002</td>\n",
       "      <td>0.00003</td>\n",
       "      <td>-0.00000</td>\n",
       "      <td>45.90079</td>\n",
       "      <td>2.17653</td>\n",
       "    </tr>\n",
       "    <tr>\n",
       "      <th>374501</th>\n",
       "      <td>20</td>\n",
       "      <td>0.00002</td>\n",
       "      <td>0.00003</td>\n",
       "      <td>-0.00000</td>\n",
       "      <td>52.43383</td>\n",
       "      <td>-2.17653</td>\n",
       "    </tr>\n",
       "    <tr>\n",
       "      <th>374502</th>\n",
       "      <td>20</td>\n",
       "      <td>0.00003</td>\n",
       "      <td>0.00003</td>\n",
       "      <td>0.00000</td>\n",
       "      <td>56.40269</td>\n",
       "      <td>-2.47127</td>\n",
       "    </tr>\n",
       "  </tbody>\n",
       "</table>\n",
       "</div>"
      ],
      "text/plain": [
       "        hour     macd  macdsignal  macdhist       rsi    score\n",
       "374498    20  0.00004     0.00003   0.00001  57.93369 -2.47127\n",
       "374499    20  0.00003     0.00003   0.00001  50.40028 -2.03363\n",
       "374500    20  0.00002     0.00003  -0.00000  45.90079  2.17653\n",
       "374501    20  0.00002     0.00003  -0.00000  52.43383 -2.17653\n",
       "374502    20  0.00003     0.00003   0.00000  56.40269 -2.47127"
      ]
     },
     "execution_count": 2,
     "metadata": {},
     "output_type": "execute_result"
    }
   ],
   "source": [
    "test_df = pd.read_csv(test_csv_path,\n",
    "                      header=0,\n",
    "                      names=[\n",
    "                          'time', 'open', 'high', 'low', 'close', 'volume',\n",
    "                          'macd', 'macdsignal', 'macdhist', 'rsi', 'max_buy',\n",
    "                          'max_buy_count', 'max_sell', 'max_sell_count',\n",
    "                          'score'\n",
    "                      ],\n",
    "                      parse_dates=['time'])\n",
    "time = pd.Series(test_df['time'])\n",
    "hours = time.apply(lambda x: x.hour)\n",
    "test_df['hour'] = hours\n",
    "\n",
    "test_df.drop(columns=[\n",
    "    'time', 'open', 'high', 'low', 'close', 'volume', 'max_buy',\n",
    "    'max_buy_count', 'max_sell', 'max_sell_count'\n",
    "],\n",
    "             inplace=True)\n",
    "\n",
    "df = pd.read_csv(csv_path,\n",
    "                 header=0,\n",
    "                 names=[\n",
    "                     'time', 'open', 'high', 'low', 'close', 'volume', 'hour',\n",
    "                     'volatility', 'macd', 'macdsignal', 'macdhist', 'rsi',\n",
    "                     'max_buy', 'max_buy_count', 'max_sell', 'max_sell_count',\n",
    "                     'score'\n",
    "                 ],\n",
    "                 parse_dates=True)\n",
    "df.drop(columns=[\n",
    "    'time', 'open', 'high', 'low', 'close', 'volume', 'volatility', 'max_buy',\n",
    "    'max_buy_count', 'max_sell', 'max_sell_count'\n",
    "],\n",
    "        inplace=True)\n",
    "df.tail()"
   ]
  },
  {
   "cell_type": "markdown",
   "metadata": {},
   "source": [
    "# Remove outlier score"
   ]
  },
  {
   "cell_type": "code",
   "execution_count": 23,
   "metadata": {},
   "outputs": [
    {
     "data": {
      "text/plain": [
       "<matplotlib.axes._subplots.AxesSubplot at 0x7ff7440317f0>"
      ]
     },
     "execution_count": 23,
     "metadata": {},
     "output_type": "execute_result"
    },
    {
     "data": {
      "image/png": "[encoded data removed]",
      "text/plain": [
       "<Figure size 432x288 with 1 Axes>"
      ]
     },
     "metadata": {
      "needs_background": "light"
     },
     "output_type": "display_data"
    }
   ],
   "source": [
    "df['score'].hist(bins=100)"
   ]
  },
  {
   "cell_type": "code",
   "execution_count": 24,
   "metadata": {},
   "outputs": [
    {
     "data": {
      "text/plain": [
       "<matplotlib.axes._subplots.AxesSubplot at 0x7ff743beee80>"
      ]
     },
     "execution_count": 24,
     "metadata": {},
     "output_type": "execute_result"
    },
    {
     "data": {
      "image/png": "[encoded data removed]",
      "text/plain": [
       "<Figure size 432x288 with 1 Axes>"
      ]
     },
     "metadata": {
      "needs_background": "light"
     },
     "output_type": "display_data"
    }
   ],
   "source": [
    "df[(df['hour'] > 18) & (df['hour'] < 23)]['score'].hist(bins=100)"
   ]
  },
  {
   "cell_type": "code",
   "execution_count": 25,
   "metadata": {
    "scrolled": true
   },
   "outputs": [
    {
     "name": "stdout",
     "output_type": "stream",
     "text": [
      "93\n",
      "103\n",
      "374410\n"
     ]
    },
    {
     "data": {
      "text/plain": [
       "<matplotlib.axes._subplots.AxesSubplot at 0x7ff7413e9e48>"
      ]
     },
     "execution_count": 25,
     "metadata": {},
     "output_type": "execute_result"
    },
    {
     "data": {
      "image/png": "[encoded data removed]",
      "text/plain": [
       "<Figure size 432x288 with 1 Axes>"
      ]
     },
     "metadata": {
      "needs_background": "light"
     },
     "output_type": "display_data"
    }
   ],
   "source": [
    "print(len(df[df['score'] > 19]))\n",
    "print(len(df[df['score'] < -19]))\n",
    "\n",
    "print(len(df[df['score'] < 19]))\n",
    "\n",
    "# df.drop(df[df['score']>19].index,inplace=True)\n",
    "df[(df['score'] < 19) & (df['score'] > -19)]['score'].hist(bins=38)"
   ]
  },
  {
   "cell_type": "code",
   "execution_count": 3,
   "metadata": {},
   "outputs": [
    {
     "name": "stdout",
     "output_type": "stream",
     "text": [
      "374503\n",
      "374307\n"
     ]
    }
   ],
   "source": [
    "print(len(df))\n",
    "df.drop(df[(df['score'] > 19) | (df['score'] < -19)].index, inplace=True)\n",
    "print(len(df))"
   ]
  },
  {
   "cell_type": "markdown",
   "metadata": {},
   "source": [
    "# Filter by scalping hours"
   ]
  },
  {
   "cell_type": "code",
   "execution_count": 4,
   "metadata": {},
   "outputs": [
    {
     "data": {
      "text/html": [
       "<div>\n",
       "<style scoped>\n",
       "    .dataframe tbody tr th:only-of-type {\n",
       "        vertical-align: middle;\n",
       "    }\n",
       "\n",
       "    .dataframe tbody tr th {\n",
       "        vertical-align: top;\n",
       "    }\n",
       "\n",
       "    .dataframe thead th {\n",
       "        text-align: right;\n",
       "    }\n",
       "</style>\n",
       "<table border=\"1\" class=\"dataframe\">\n",
       "  <thead>\n",
       "    <tr style=\"text-align: right;\">\n",
       "      <th></th>\n",
       "      <th>macd</th>\n",
       "      <th>macdsignal</th>\n",
       "      <th>macdhist</th>\n",
       "      <th>rsi</th>\n",
       "      <th>score</th>\n",
       "    </tr>\n",
       "  </thead>\n",
       "  <tbody>\n",
       "    <tr>\n",
       "      <th>1107</th>\n",
       "      <td>0.00030</td>\n",
       "      <td>0.00027</td>\n",
       "      <td>0.00003</td>\n",
       "      <td>60.00639</td>\n",
       "      <td>6.66841</td>\n",
       "    </tr>\n",
       "    <tr>\n",
       "      <th>1108</th>\n",
       "      <td>0.00028</td>\n",
       "      <td>0.00027</td>\n",
       "      <td>0.00001</td>\n",
       "      <td>60.20019</td>\n",
       "      <td>6.45415</td>\n",
       "    </tr>\n",
       "    <tr>\n",
       "      <th>1109</th>\n",
       "      <td>0.00028</td>\n",
       "      <td>0.00027</td>\n",
       "      <td>0.00000</td>\n",
       "      <td>62.17410</td>\n",
       "      <td>5.10763</td>\n",
       "    </tr>\n",
       "    <tr>\n",
       "      <th>1110</th>\n",
       "      <td>0.00029</td>\n",
       "      <td>0.00028</td>\n",
       "      <td>0.00002</td>\n",
       "      <td>67.24726</td>\n",
       "      <td>3.43575</td>\n",
       "    </tr>\n",
       "    <tr>\n",
       "      <th>1111</th>\n",
       "      <td>0.00031</td>\n",
       "      <td>0.00028</td>\n",
       "      <td>0.00003</td>\n",
       "      <td>68.94845</td>\n",
       "      <td>2.86231</td>\n",
       "    </tr>\n",
       "  </tbody>\n",
       "</table>\n",
       "</div>"
      ],
      "text/plain": [
       "         macd  macdsignal  macdhist       rsi    score\n",
       "1107  0.00030     0.00027   0.00003  60.00639  6.66841\n",
       "1108  0.00028     0.00027   0.00001  60.20019  6.45415\n",
       "1109  0.00028     0.00027   0.00000  62.17410  5.10763\n",
       "1110  0.00029     0.00028   0.00002  67.24726  3.43575\n",
       "1111  0.00031     0.00028   0.00003  68.94845  2.86231"
      ]
     },
     "execution_count": 4,
     "metadata": {},
     "output_type": "execute_result"
    }
   ],
   "source": [
    "test_df = test_df[(test_df['hour'] > 18) & (test_df['hour'] < 23)]\n",
    "df = df[(df['hour'] > 18) & (df['hour'] < 23)]\n",
    "test_df.drop(columns=['hour'], inplace=True)\n",
    "df.drop(columns=['hour'], inplace=True)\n",
    "\n",
    "df.to_csv('data/GBPUSD_Candlestick_1_M_ASK_01.02.2018-01.02.2019_training.csv', float_format='%.5f')\n",
    "test_df.to_csv('data/GBPUSD_Candlestick_1_M_ASK_01.02.2019-24.04.2019_training.csv', float_format='%.5f')\n",
    "df.head()\n"
   ]
  },
  {
   "cell_type": "markdown",
   "metadata": {},
   "source": [
    "# Extract labels"
   ]
  },
  {
   "cell_type": "code",
   "execution_count": 5,
   "metadata": {},
   "outputs": [
    {
     "data": {
      "text/html": [
       "<div>\n",
       "<style scoped>\n",
       "    .dataframe tbody tr th:only-of-type {\n",
       "        vertical-align: middle;\n",
       "    }\n",
       "\n",
       "    .dataframe tbody tr th {\n",
       "        vertical-align: top;\n",
       "    }\n",
       "\n",
       "    .dataframe thead th {\n",
       "        text-align: right;\n",
       "    }\n",
       "</style>\n",
       "<table border=\"1\" class=\"dataframe\">\n",
       "  <thead>\n",
       "    <tr style=\"text-align: right;\">\n",
       "      <th></th>\n",
       "      <th>macd</th>\n",
       "      <th>macdsignal</th>\n",
       "      <th>macdhist</th>\n",
       "      <th>rsi</th>\n",
       "    </tr>\n",
       "  </thead>\n",
       "  <tbody>\n",
       "    <tr>\n",
       "      <th>1107</th>\n",
       "      <td>0.00030</td>\n",
       "      <td>0.00027</td>\n",
       "      <td>0.00003</td>\n",
       "      <td>60.00639</td>\n",
       "    </tr>\n",
       "    <tr>\n",
       "      <th>1108</th>\n",
       "      <td>0.00028</td>\n",
       "      <td>0.00027</td>\n",
       "      <td>0.00001</td>\n",
       "      <td>60.20019</td>\n",
       "    </tr>\n",
       "    <tr>\n",
       "      <th>1109</th>\n",
       "      <td>0.00028</td>\n",
       "      <td>0.00027</td>\n",
       "      <td>0.00000</td>\n",
       "      <td>62.17410</td>\n",
       "    </tr>\n",
       "    <tr>\n",
       "      <th>1110</th>\n",
       "      <td>0.00029</td>\n",
       "      <td>0.00028</td>\n",
       "      <td>0.00002</td>\n",
       "      <td>67.24726</td>\n",
       "    </tr>\n",
       "    <tr>\n",
       "      <th>1111</th>\n",
       "      <td>0.00031</td>\n",
       "      <td>0.00028</td>\n",
       "      <td>0.00003</td>\n",
       "      <td>68.94845</td>\n",
       "    </tr>\n",
       "  </tbody>\n",
       "</table>\n",
       "</div>"
      ],
      "text/plain": [
       "         macd  macdsignal  macdhist       rsi\n",
       "1107  0.00030     0.00027   0.00003  60.00639\n",
       "1108  0.00028     0.00027   0.00001  60.20019\n",
       "1109  0.00028     0.00027   0.00000  62.17410\n",
       "1110  0.00029     0.00028   0.00002  67.24726\n",
       "1111  0.00031     0.00028   0.00003  68.94845"
      ]
     },
     "execution_count": 5,
     "metadata": {},
     "output_type": "execute_result"
    }
   ],
   "source": [
    "test_labels = test_df['score']\n",
    "test_features = test_df.drop(columns=['score'])\n",
    "train_labels = df['score']\n",
    "train_features = df.drop(columns=['score'])\n",
    "train_features.head()"
   ]
  },
  {
   "cell_type": "markdown",
   "metadata": {},
   "source": [
    "# Scaling Features"
   ]
  },
  {
   "cell_type": "code",
   "execution_count": 6,
   "metadata": {},
   "outputs": [
    {
     "name": "stdout",
     "output_type": "stream",
     "text": [
      "(62103, 4)\n",
      "(13935, 4)\n"
     ]
    }
   ],
   "source": [
    "# Create the scaler object with a range of 0-1\n",
    "scaler = MinMaxScaler(feature_range=(0, 1))\n",
    "\n",
    "# Fit on the training data\n",
    "scaler.fit(train_features)\n",
    "\n",
    "# Transform both the training and testing data\n",
    "X = scaler.transform(train_features)\n",
    "X_test = scaler.transform(test_features)\n",
    "\n",
    "print(X.shape)\n",
    "print(X_test.shape)"
   ]
  },
  {
   "cell_type": "code",
   "execution_count": 7,
   "metadata": {},
   "outputs": [
    {
     "name": "stdout",
     "output_type": "stream",
     "text": [
      "62103\n",
      "13935\n"
     ]
    }
   ],
   "source": [
    "# Convert y to one-dimensional array (vector)\n",
    "y = np.array(train_labels).reshape((-1, ))\n",
    "y_test = np.array(test_labels).reshape((-1, ))\n",
    "print(len(y))\n",
    "print(len(y_test))"
   ]
  },
  {
   "cell_type": "markdown",
   "metadata": {},
   "source": [
    "# Mean Absolute Error as criteria function"
   ]
  },
  {
   "cell_type": "code",
   "execution_count": 8,
   "metadata": {},
   "outputs": [],
   "source": [
    "# Function to calculate mean absolute error\n",
    "def mae(y_true, y_pred):\n",
    "    return np.mean(abs(y_true - y_pred))\n",
    "\n",
    "# Takes in a model, trains the model, and evaluates the model on the test set\n",
    "def fit_and_evaluate(model):\n",
    "    \n",
    "    # Train the model\n",
    "    model.fit(X, y)\n",
    "    \n",
    "    # Make predictions and evalute\n",
    "    model_pred = model.predict(X_test)\n",
    "    model_mae = mae(y_test, model_pred)\n",
    "    \n",
    "    # Return the performance metric\n",
    "    return model_mae"
   ]
  },
  {
   "cell_type": "markdown",
   "metadata": {},
   "source": [
    "# Regression Models to Evaluate"
   ]
  },
  {
   "cell_type": "code",
   "execution_count": 9,
   "metadata": {},
   "outputs": [],
   "source": [
    "# Machine Learning Models\n",
    "from sklearn.linear_model import LinearRegression\n",
    "from sklearn.ensemble import RandomForestRegressor, GradientBoostingRegressor\n",
    "from sklearn.svm import SVR\n",
    "from sklearn.neighbors import KNeighborsRegressor"
   ]
  },
  {
   "cell_type": "code",
   "execution_count": 10,
   "metadata": {},
   "outputs": [
    {
     "name": "stdout",
     "output_type": "stream",
     "text": [
      "Linear Regression Performance on the test set: MAE = 3.7289\n"
     ]
    }
   ],
   "source": [
    "# Linear regression\n",
    "\n",
    "lr = LinearRegression()\n",
    "lr_mae = fit_and_evaluate(lr)\n",
    "\n",
    "print('Linear Regression Performance on the test set: MAE = %0.4f' % lr_mae)\n"
   ]
  },
  {
   "cell_type": "code",
   "execution_count": 16,
   "metadata": {},
   "outputs": [
    {
     "name": "stdout",
     "output_type": "stream",
     "text": [
      "Support Vector Machine Regression Performance on the test set: MAE = 3.6965\n"
     ]
    }
   ],
   "source": [
    "# SVM\n",
    "\n",
    "svm = SVR(C = 1000, gamma = 0.1)\n",
    "svm_mae = fit_and_evaluate(svm)\n",
    "\n",
    "print('Support Vector Machine Regression Performance on the test set: MAE = %0.4f' % svm_mae)"
   ]
  },
  {
   "cell_type": "code",
   "execution_count": 17,
   "metadata": {},
   "outputs": [
    {
     "name": "stderr",
     "output_type": "stream",
     "text": [
      "/opt/miniconda3/lib/python3.7/site-packages/sklearn/ensemble/forest.py:246: FutureWarning: The default value of n_estimators will change from 10 in version 0.20 to 100 in 0.22.\n",
      "  \"10 in version 0.20 to 100 in 0.22.\", FutureWarning)\n"
     ]
    },
    {
     "name": "stdout",
     "output_type": "stream",
     "text": [
      "Random Forest Regression Performance on the test set: MAE = 3.9382\n"
     ]
    }
   ],
   "source": [
    "# Random forest\n",
    "\n",
    "random_forest = RandomForestRegressor(random_state=60)\n",
    "random_forest_mae = fit_and_evaluate(random_forest)\n",
    "\n",
    "print('Random Forest Regression Performance on the test set: MAE = %0.4f' % random_forest_mae)"
   ]
  },
  {
   "cell_type": "code",
   "execution_count": 18,
   "metadata": {},
   "outputs": [
    {
     "name": "stdout",
     "output_type": "stream",
     "text": [
      "Gradient Boosted Regression Performance on the test set: MAE = 3.7433\n"
     ]
    }
   ],
   "source": [
    "# Gradien boosted\n",
    "\n",
    "gradient_boosted = GradientBoostingRegressor(random_state=60)\n",
    "gradient_boosted_mae = fit_and_evaluate(gradient_boosted)\n",
    "\n",
    "print('Gradient Boosted Regression Performance on the test set: MAE = %0.4f' % gradient_boosted_mae)"
   ]
  },
  {
   "cell_type": "code",
   "execution_count": 19,
   "metadata": {},
   "outputs": [
    {
     "name": "stdout",
     "output_type": "stream",
     "text": [
      "K-Nearest Neighbors Regression Performance on the test set: MAE = 3.7952\n"
     ]
    }
   ],
   "source": [
    "# KNN\n",
    "\n",
    "knn = KNeighborsRegressor(n_neighbors=10)\n",
    "knn_mae = fit_and_evaluate(knn)\n",
    "\n",
    "print('K-Nearest Neighbors Regression Performance on the test set: MAE = %0.4f' % knn_mae)"
   ]
  },
  {
   "cell_type": "code",
   "execution_count": 20,
   "metadata": {
    "scrolled": true
   },
   "outputs": [
    {
     "data": {
      "image/png": "[encoded data removed]",
      "text/plain": [
       "<Figure size 576x432 with 1 Axes>"
      ]
     },
     "metadata": {},
     "output_type": "display_data"
    }
   ],
   "source": [
    "plt.style.use('fivethirtyeight')\n",
    "figsize(8, 6)\n",
    "\n",
    "# Dataframe to hold the results\n",
    "model_comparison = pd.DataFrame({'model': ['Linear Regression', 'Support Vector Machine',\n",
    "                                           'Random Forest', 'Gradient Boosted',\n",
    "                                            'K-Nearest Neighbors'],\n",
    "                                 'mae': [lr_mae, svm_mae, random_forest_mae, \n",
    "                                         gradient_boosted_mae, knn_mae]})\n",
    "\n",
    "# Horizontal bar chart of test mae\n",
    "model_comparison.sort_values('mae', ascending = False).plot(x = 'model', y = 'mae', kind = 'barh',\n",
    "                                                           color = 'red', edgecolor = 'black')\n",
    "\n",
    "# Plot formatting\n",
    "plt.ylabel(''); plt.yticks(size = 14); plt.xlabel('Mean Absolute Error'); plt.xticks(size = 14)\n",
    "plt.title('Model Comparison on Test MAE', size = 20);"
   ]
  },
  {
   "cell_type": "markdown",
   "metadata": {},
   "source": [
    "# Model Optimization"
   ]
  },
  {
   "cell_type": "markdown",
   "metadata": {},
   "source": [
    "SVM is the best one, will select SVM to do Optimization and Hyperparameter Tuning."
   ]
  },
  {
   "cell_type": "code",
   "execution_count": 16,
   "metadata": {},
   "outputs": [
    {
     "name": "stdout",
     "output_type": "stream",
     "text": [
      "(13935,)\n",
      "(13935, 4)\n"
     ]
    }
   ],
   "source": [
    "print(y_test.shape)\n",
    "print(X_test.shape)"
   ]
  },
  {
   "cell_type": "code",
   "execution_count": 18,
   "metadata": {},
   "outputs": [
    {
     "name": "stdout",
     "output_type": "stream",
     "text": [
      "(13935,)\n"
     ]
    }
   ],
   "source": [
    "print(y_test.shape)"
   ]
  },
  {
   "cell_type": "code",
   "execution_count": null,
   "metadata": {},
   "outputs": [],
   "source": [
    "# we explicitly generate the outer_cv decorator so we can use it twice\n",
    "outer_cv = optunity.cross_validated(x=X, y=y, num_folds=3, num_iter=2)\n",
    "\n",
    "# define objective function for tuning\n",
    "@optunity.cross_validated(x=X, y=y, num_iter=2, num_folds=5)\n",
    "def tune_cv(x_train, y_train, x_t, y_t, C, degree, coef0):\n",
    "    model = sklearn.svm.SVR(C=C, degree=degree, coef0=coef0, kernel='poly').fit(x_train, y_train)\n",
    "    predictions = model.predict(x_t)\n",
    "    return optunity.metrics.mse(y_t, predictions)\n",
    "\n",
    "\n",
    "    \n",
    "def compute_mse_standard(x_train, y_train, x_test, y_test):\n",
    "    \"\"\"Computes MSE of an SVR with RBF kernel and default hyperparameters.\n",
    "    \"\"\"\n",
    "    model = sklearn.svm.SVR().fit(x_train, y_train)\n",
    "    predictions = model.predict(x_test)\n",
    "    return optunity.metrics.mse(y_test, predictions)\n",
    "\n",
    "# wrap with outer cross-validation\n",
    "compute_mse_with_cv = outer_cv(compute_mse_standard)\n",
    "compute_mse_with_cv()"
   ]
  },
  {
   "cell_type": "code",
   "execution_count": null,
   "metadata": {},
   "outputs": [],
   "source": [
    "import optunity\n",
    "import optunity.metrics\n",
    "import sklearn.svm\n",
    "\n",
    "# score function: twice iterated 10-fold cross-validated accuracy\n",
    "@optunity.cross_validated(x=X, y=y, num_folds=10, num_iter=2)\n",
    "def svm_auc(x_train, y_train, x_test, y_test, logC, logGamma):\n",
    "    model = SVR(C=10 ** logC, gamma=10 ** logGamma).fit(x_train, y_train)\n",
    "    predictions = model.predict(x_test)\n",
    "    return mae(y_test, predictions)\n",
    "\n",
    "# perform tuning\n",
    "hps, _, _ = optunity.maximize(svm_auc, num_evals=200, logC=[-5, 2], logGamma=[-5, 1])"
   ]
  },
  {
   "cell_type": "code",
   "execution_count": null,
   "metadata": {},
   "outputs": [],
   "source": [
    "# train model on the full training set with tuned hyperparameters\n",
    "optimal_model = sklearn.svm.SVR(C=10 ** hps['logC'], gamma=10 ** hps['logGamma']).fit(X, y)\n",
    "model_pred = optimal_model.predict(X_test)\n",
    "model_mae = mae(y_test, model_pred)\n",
    "print(model_mae)"
   ]
  }
 ],
 "metadata": {
  "hide_input": false,
  "kernelspec": {
   "display_name": "Python 3",
   "language": "python",
   "name": "python3"
  },
  "language_info": {
   "codemirror_mode": {
    "name": "ipython",
    "version": 3
   },
   "file_extension": ".py",
   "mimetype": "text/x-python",
   "name": "python",
   "nbconvert_exporter": "python",
   "pygments_lexer": "ipython3",
   "version": "3.7.1"
  }
 },
 "nbformat": 4,
 "nbformat_minor": 2
}
