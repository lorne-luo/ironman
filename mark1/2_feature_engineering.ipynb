{
 "cells": [
  {
   "cell_type": "markdown",
   "metadata": {},
   "source": [
    "# Step 2 - Feature enginering"
   ]
  },
  {
   "cell_type": "markdown",
   "metadata": {},
   "source": [
    "This is a study case to use regression algorithm to predict 1 minute forex price movement.\n",
    "In this step extract MACD and RSI indicator as feature data.\n",
    "\n",
    "Step 1. [Data exploration](/notebooks/forex/mark1/1_data_explore.ipynb)\n",
    "\n",
    "Step 2. **Feature engineering**\n",
    "\n",
    "Step 3. [Data training and models evaluation](/notebooks/forex/mark1/3_training_and_optimazation.ipynb)"
   ]
  },
  {
   "cell_type": "markdown",
   "metadata": {},
   "source": [
    "# import"
   ]
  },
  {
   "cell_type": "code",
   "execution_count": 2,
   "metadata": {},
   "outputs": [],
   "source": [
    "from math import sqrt\n",
    "from datetime import datetime\n",
    "from dateutil.relativedelta import relativedelta\n",
    "import talib as ta\n",
    "\n",
    "import pandas as pd\n",
    "import matplotlib.pyplot as plt\n",
    "%matplotlib inline\n",
    "\n",
    "# Set default font size\n",
    "plt.rcParams['font.size'] = 24\n",
    "\n",
    "# Internal ipython tool for setting figure size\n",
    "from IPython.core.pylabtools import figsize\n",
    "\n",
    "csv_path = 'data/GBPUSD_Candlestick_1_M_ASK_01.02.2018-01.02.2019_cleaned.csv'\n",
    "test_csv_path = 'data/GBPUSD_Candlestick_1_M_ASK_01.02.2019-24.04.2019_cleaned.csv'"
   ]
  },
  {
   "cell_type": "markdown",
   "metadata": {},
   "source": [
    "# Load cleaned data"
   ]
  },
  {
   "cell_type": "code",
   "execution_count": 3,
   "metadata": {},
   "outputs": [
    {
     "name": "stdout",
     "output_type": "stream",
     "text": [
      "Row count = 374596\n",
      "Row count = 83523\n"
     ]
    },
    {
     "data": {
      "text/html": [
       "<div>\n",
       "<style scoped>\n",
       "    .dataframe tbody tr th:only-of-type {\n",
       "        vertical-align: middle;\n",
       "    }\n",
       "\n",
       "    .dataframe tbody tr th {\n",
       "        vertical-align: top;\n",
       "    }\n",
       "\n",
       "    .dataframe thead th {\n",
       "        text-align: right;\n",
       "    }\n",
       "</style>\n",
       "<table border=\"1\" class=\"dataframe\">\n",
       "  <thead>\n",
       "    <tr style=\"text-align: right;\">\n",
       "      <th></th>\n",
       "      <th>open</th>\n",
       "      <th>high</th>\n",
       "      <th>low</th>\n",
       "      <th>close</th>\n",
       "      <th>volume</th>\n",
       "      <th>hour</th>\n",
       "      <th>volatility</th>\n",
       "    </tr>\n",
       "    <tr>\n",
       "      <th>time</th>\n",
       "      <th></th>\n",
       "      <th></th>\n",
       "      <th></th>\n",
       "      <th></th>\n",
       "      <th></th>\n",
       "      <th></th>\n",
       "      <th></th>\n",
       "    </tr>\n",
       "  </thead>\n",
       "  <tbody>\n",
       "    <tr>\n",
       "      <th>2018-02-01 00:00:00</th>\n",
       "      <td>1.41996</td>\n",
       "      <td>1.42005</td>\n",
       "      <td>1.41994</td>\n",
       "      <td>1.42005</td>\n",
       "      <td>81.63</td>\n",
       "      <td>0</td>\n",
       "      <td>1.1</td>\n",
       "    </tr>\n",
       "    <tr>\n",
       "      <th>2018-02-01 00:01:00</th>\n",
       "      <td>1.42008</td>\n",
       "      <td>1.42014</td>\n",
       "      <td>1.41993</td>\n",
       "      <td>1.41997</td>\n",
       "      <td>130.89</td>\n",
       "      <td>0</td>\n",
       "      <td>2.1</td>\n",
       "    </tr>\n",
       "    <tr>\n",
       "      <th>2018-02-01 00:02:00</th>\n",
       "      <td>1.41996</td>\n",
       "      <td>1.42030</td>\n",
       "      <td>1.41996</td>\n",
       "      <td>1.42020</td>\n",
       "      <td>109.85</td>\n",
       "      <td>0</td>\n",
       "      <td>3.4</td>\n",
       "    </tr>\n",
       "    <tr>\n",
       "      <th>2018-02-01 00:03:00</th>\n",
       "      <td>1.42020</td>\n",
       "      <td>1.42060</td>\n",
       "      <td>1.42020</td>\n",
       "      <td>1.42043</td>\n",
       "      <td>213.38</td>\n",
       "      <td>0</td>\n",
       "      <td>4.0</td>\n",
       "    </tr>\n",
       "    <tr>\n",
       "      <th>2018-02-01 00:04:00</th>\n",
       "      <td>1.42043</td>\n",
       "      <td>1.42048</td>\n",
       "      <td>1.42043</td>\n",
       "      <td>1.42045</td>\n",
       "      <td>133.74</td>\n",
       "      <td>0</td>\n",
       "      <td>0.5</td>\n",
       "    </tr>\n",
       "  </tbody>\n",
       "</table>\n",
       "</div>"
      ],
      "text/plain": [
       "                        open     high      low    close  volume  hour  \\\n",
       "time                                                                    \n",
       "2018-02-01 00:00:00  1.41996  1.42005  1.41994  1.42005   81.63     0   \n",
       "2018-02-01 00:01:00  1.42008  1.42014  1.41993  1.41997  130.89     0   \n",
       "2018-02-01 00:02:00  1.41996  1.42030  1.41996  1.42020  109.85     0   \n",
       "2018-02-01 00:03:00  1.42020  1.42060  1.42020  1.42043  213.38     0   \n",
       "2018-02-01 00:04:00  1.42043  1.42048  1.42043  1.42045  133.74     0   \n",
       "\n",
       "                     volatility  \n",
       "time                             \n",
       "2018-02-01 00:00:00         1.1  \n",
       "2018-02-01 00:01:00         2.1  \n",
       "2018-02-01 00:02:00         3.4  \n",
       "2018-02-01 00:03:00         4.0  \n",
       "2018-02-01 00:04:00         0.5  "
      ]
     },
     "execution_count": 3,
     "metadata": {},
     "output_type": "execute_result"
    }
   ],
   "source": [
    "# load csv\n",
    "df = pd.read_csv(csv_path,\n",
    "                 header=0,\n",
    "                 names=['time', 'open', 'high', 'low', 'close', 'volume', \n",
    "                        'hour', 'volatility'],\n",
    "                 parse_dates=['time'])\n",
    "df = df.set_index('time')\n",
    "print('Row count = %d' % len(df))\n",
    "\n",
    "test_df = pd.read_csv(test_csv_path,\n",
    "                 header=0,\n",
    "                 names=['time', 'open', 'high', 'low', 'close', 'volume'],\n",
    "                 parse_dates=['time'])\n",
    "test_df = test_df.set_index('time')\n",
    "print('Row count = %d' % len(test_df))\n",
    "\n",
    "df.head(5)"
   ]
  },
  {
   "cell_type": "markdown",
   "metadata": {},
   "source": [
    "# Calculate max profit and score each candle"
   ]
  },
  {
   "cell_type": "code",
   "execution_count": 4,
   "metadata": {},
   "outputs": [],
   "source": [
    "# function to calculate pips\n",
    "def pip(price=None, _abs=False):\n",
    "\n",
    "    pip_unit = 0.0001\n",
    "    if price:\n",
    "        price = float(price)\n",
    "        if _abs:\n",
    "            price = abs(price)\n",
    "        return (price / pip_unit)\n",
    "\n",
    "    return pip_unit\n",
    "\n",
    "\n",
    "def score(buy, sell, take_profit):\n",
    "    _max = max(abs(buy), abs(sell))\n",
    "    _min = min(abs(buy), abs(sell))\n",
    "    if _min < 0.2:\n",
    "        safe = _max\n",
    "    else:\n",
    "        safe = _max / _min\n",
    "\n",
    "    safe_score = sqrt(safe)\n",
    "    profit_score = _max / abs(float(take_profit))\n",
    "    loss_score = _min / abs(float(take_profit))\n",
    "\n",
    "    score = safe_score\n",
    "    if profit_score < 1:\n",
    "        score *= profit_score ** 2\n",
    "    elif safe_score > 1:\n",
    "        score += sqrt(profit_score)\n",
    "\n",
    "    if loss_score > 1:\n",
    "        score /= sqrt(loss_score)\n",
    "    elif safe > 1:\n",
    "        score += 1 - sqrt(loss_score)\n",
    "\n",
    "    if abs(sell) > abs(buy):\n",
    "        return -1 * score\n",
    "    return score"
   ]
  },
  {
   "cell_type": "code",
   "execution_count": 5,
   "metadata": {},
   "outputs": [],
   "source": [
    "# the max sell&buy profit during 1 hour\n",
    "\n",
    "def max_profit(path, delta):\n",
    "    parser = lambda time, high, low, close: (datetime.strptime(\n",
    "        time, '%Y-%m-%d %H:%M:%S'), float(high), float(low), float(close))\n",
    "    import csv\n",
    "\n",
    "    with open(path) as tick:\n",
    "        data = csv.reader(tick)\n",
    "        data = list(data)\n",
    "        length = len(data)\n",
    "        result = []\n",
    "        count = 0\n",
    "        now = datetime.now()\n",
    "        take_profit=5\n",
    "        for index, row in enumerate(data):\n",
    "            if index == 0:\n",
    "                continue\n",
    "            time, high, low, close = parser(row[0], row[2], row[3], row[4])\n",
    "            start, end = time, time + delta\n",
    "            max_sell, max_buy = 0, 0\n",
    "            max_sell_count, max_buy_count = 0, 0\n",
    "            itor = 1\n",
    "            while start < end:\n",
    "                i = index + itor\n",
    "                if i >= length:\n",
    "                    break\n",
    "                ctime, chigh, clow, cclose = parser(data[i][0], data[i][2],\n",
    "                                                    data[i][3], data[i][4])\n",
    "                max_s = pip(clow - close)\n",
    "                max_b = pip(chigh - close)\n",
    "                if max_s < max_sell:\n",
    "                    max_sell = max_s\n",
    "                if max_s < 0:\n",
    "                    max_sell_count += 1\n",
    "                if max_b > max_buy:\n",
    "                    max_buy = max_b\n",
    "                if max_b > 0:\n",
    "                    max_buy_count += 1\n",
    "\n",
    "                itor += 1\n",
    "                start = ctime\n",
    "            _score = score(max_buy, max_sell,take_profit)\n",
    "            result.append((time, max_buy, max_buy_count, max_sell,\n",
    "                           max_sell_count, _score))\n",
    "\n",
    "            if not index % 10000:\n",
    "                print(index)\n",
    "\n",
    "    profit_df = pd.DataFrame(result,\n",
    "                             columns=[\n",
    "                                 'time', 'max_buy', 'max_buy_count',\n",
    "                                 'max_sell', 'max_sell_count', 'score'\n",
    "                             ])\n",
    "    profit_df = profit_df.set_index('time')\n",
    "    return profit_df"
   ]
  },
  {
   "cell_type": "code",
   "execution_count": 13,
   "metadata": {
    "scrolled": false
   },
   "outputs": [
    {
     "name": "stdout",
     "output_type": "stream",
     "text": [
      "10000\n",
      "20000\n",
      "30000\n",
      "40000\n",
      "50000\n",
      "60000\n",
      "70000\n",
      "80000\n"
     ]
    }
   ],
   "source": [
    "# %%timeit -n 1 -r 5\n",
    "test_profit_df = max_profit(test_csv_path, relativedelta(minutes=60))\n",
    "test_profit_df.to_csv(\n",
    "    'data/GBPUSD_Candlestick_1_M_ASK_01.02.2019-24.04.2019_profit_H1.csv',\n",
    "    float_format='%.5f')"
   ]
  },
  {
   "cell_type": "code",
   "execution_count": 14,
   "metadata": {},
   "outputs": [
    {
     "name": "stdout",
     "output_type": "stream",
     "text": [
      "10000\n",
      "20000\n",
      "30000\n",
      "40000\n",
      "50000\n",
      "60000\n",
      "70000\n",
      "80000\n",
      "90000\n",
      "100000\n",
      "110000\n",
      "120000\n",
      "130000\n",
      "140000\n",
      "150000\n",
      "160000\n",
      "170000\n",
      "180000\n",
      "190000\n",
      "200000\n",
      "210000\n",
      "220000\n",
      "230000\n",
      "240000\n",
      "250000\n",
      "260000\n",
      "270000\n",
      "280000\n",
      "290000\n",
      "300000\n",
      "310000\n",
      "320000\n",
      "330000\n",
      "340000\n",
      "350000\n",
      "360000\n",
      "370000\n"
     ]
    }
   ],
   "source": [
    "profit_df = max_profit(csv_path, relativedelta(minutes=60))\n",
    "profit_df.to_csv(\n",
    "    'data/GBPUSD_Candlestick_1_M_ASK_01.02.2018-01.02.2019_profit_H1.csv',\n",
    "    float_format='%.5f')"
   ]
  },
  {
   "cell_type": "code",
   "execution_count": 37,
   "metadata": {
    "scrolled": false
   },
   "outputs": [
    {
     "data": {
      "text/html": [
       "<div>\n",
       "<style scoped>\n",
       "    .dataframe tbody tr th:only-of-type {\n",
       "        vertical-align: middle;\n",
       "    }\n",
       "\n",
       "    .dataframe tbody tr th {\n",
       "        vertical-align: top;\n",
       "    }\n",
       "\n",
       "    .dataframe thead th {\n",
       "        text-align: right;\n",
       "    }\n",
       "</style>\n",
       "<table border=\"1\" class=\"dataframe\">\n",
       "  <thead>\n",
       "    <tr style=\"text-align: right;\">\n",
       "      <th></th>\n",
       "      <th>max_buy</th>\n",
       "      <th>max_buy_count</th>\n",
       "      <th>max_sell</th>\n",
       "      <th>max_sell_count</th>\n",
       "      <th>score</th>\n",
       "    </tr>\n",
       "    <tr>\n",
       "      <th>time</th>\n",
       "      <th></th>\n",
       "      <th></th>\n",
       "      <th></th>\n",
       "      <th></th>\n",
       "      <th></th>\n",
       "    </tr>\n",
       "  </thead>\n",
       "  <tbody>\n",
       "    <tr>\n",
       "      <th>2018-02-01 00:00:00</th>\n",
       "      <td>13.6</td>\n",
       "      <td>56</td>\n",
       "      <td>-3.1</td>\n",
       "      <td>14</td>\n",
       "      <td>3.95638</td>\n",
       "    </tr>\n",
       "    <tr>\n",
       "      <th>2018-02-01 00:01:00</th>\n",
       "      <td>14.4</td>\n",
       "      <td>60</td>\n",
       "      <td>-2.3</td>\n",
       "      <td>7</td>\n",
       "      <td>4.52100</td>\n",
       "    </tr>\n",
       "    <tr>\n",
       "      <th>2018-02-01 00:02:00</th>\n",
       "      <td>12.1</td>\n",
       "      <td>51</td>\n",
       "      <td>-4.6</td>\n",
       "      <td>16</td>\n",
       "      <td>3.21833</td>\n",
       "    </tr>\n",
       "    <tr>\n",
       "      <th>2018-02-01 00:03:00</th>\n",
       "      <td>9.8</td>\n",
       "      <td>43</td>\n",
       "      <td>-7.9</td>\n",
       "      <td>34</td>\n",
       "      <td>1.99986</td>\n",
       "    </tr>\n",
       "    <tr>\n",
       "      <th>2018-02-01 00:04:00</th>\n",
       "      <td>9.6</td>\n",
       "      <td>41</td>\n",
       "      <td>-8.1</td>\n",
       "      <td>36</td>\n",
       "      <td>1.94400</td>\n",
       "    </tr>\n",
       "  </tbody>\n",
       "</table>\n",
       "</div>"
      ],
      "text/plain": [
       "                     max_buy  max_buy_count  max_sell  max_sell_count    score\n",
       "time                                                                          \n",
       "2018-02-01 00:00:00     13.6             56      -3.1              14  3.95638\n",
       "2018-02-01 00:01:00     14.4             60      -2.3               7  4.52100\n",
       "2018-02-01 00:02:00     12.1             51      -4.6              16  3.21833\n",
       "2018-02-01 00:03:00      9.8             43      -7.9              34  1.99986\n",
       "2018-02-01 00:04:00      9.6             41      -8.1              36  1.94400"
      ]
     },
     "execution_count": 37,
     "metadata": {},
     "output_type": "execute_result"
    }
   ],
   "source": [
    "# check score\n",
    "test_profit_df = pd.read_csv(\n",
    "    'data/GBPUSD_Candlestick_1_M_ASK_01.02.2019-24.04.2019_profit_H1.csv',\n",
    "    header=0,\n",
    "    names=[\n",
    "        'time', 'max_buy', 'max_buy_count', 'max_sell', 'max_sell_count',\n",
    "        'score'\n",
    "    ],\n",
    "    parse_dates=['time'])\n",
    "test_profit_df = test_profit_df.set_index('time')\n",
    "test_profit_df.head(5)\n",
    "\n",
    "profit_df = pd.read_csv(\n",
    "    'data/GBPUSD_Candlestick_1_M_ASK_01.02.2018-01.02.2019_profit_H1.csv',\n",
    "    header=0,\n",
    "    names=[\n",
    "        'time', 'max_buy', 'max_buy_count', 'max_sell', 'max_sell_count',\n",
    "        'score'\n",
    "    ],\n",
    "    parse_dates=['time'])\n",
    "profit_df = profit_df.set_index('time')\n",
    "profit_df.head()"
   ]
  },
  {
   "cell_type": "code",
   "execution_count": 38,
   "metadata": {},
   "outputs": [
    {
     "data": {
      "text/plain": [
       "<matplotlib.axes._subplots.AxesSubplot at 0x7f3ba7ad1eb8>"
      ]
     },
     "execution_count": 38,
     "metadata": {},
     "output_type": "execute_result"
    },
    {
     "data": {
      "image/png": "[encoded data removed]",
      "text/plain": [
       "<Figure size 432x288 with 1 Axes>"
      ]
     },
     "metadata": {
      "needs_background": "light"
     },
     "output_type": "display_data"
    }
   ],
   "source": [
    "profit_df['max_sell'].hist(bins=200)"
   ]
  },
  {
   "cell_type": "code",
   "execution_count": 39,
   "metadata": {},
   "outputs": [
    {
     "data": {
      "text/plain": [
       "<matplotlib.axes._subplots.AxesSubplot at 0x7f3ba79eb828>"
      ]
     },
     "execution_count": 39,
     "metadata": {},
     "output_type": "execute_result"
    },
    {
     "data": {
      "image/png": "[encoded data removed]",
      "text/plain": [
       "<Figure size 432x288 with 1 Axes>"
      ]
     },
     "metadata": {
      "needs_background": "light"
     },
     "output_type": "display_data"
    }
   ],
   "source": [
    "profit_df['score'].hist(bins=200)"
   ]
  },
  {
   "cell_type": "code",
   "execution_count": 1,
   "metadata": {
    "scrolled": false
   },
   "outputs": [
    {
     "ename": "NameError",
     "evalue": "name 'profit_df' is not defined",
     "output_type": "error",
     "traceback": [
      "\u001b[0;31m---------------------------------------------------------------------------\u001b[0m",
      "\u001b[0;31mNameError\u001b[0m                                 Traceback (most recent call last)",
      "\u001b[0;32m<ipython-input-1-b2fefd92b67d>\u001b[0m in \u001b[0;36m<module>\u001b[0;34m\u001b[0m\n\u001b[1;32m      2\u001b[0m \u001b[0mtake_profit\u001b[0m\u001b[0;34m=\u001b[0m\u001b[0;36m7\u001b[0m\u001b[0;34m\u001b[0m\u001b[0;34m\u001b[0m\u001b[0m\n\u001b[1;32m      3\u001b[0m \u001b[0mstop_loss\u001b[0m\u001b[0;34m=\u001b[0m\u001b[0;36m5\u001b[0m\u001b[0;34m\u001b[0m\u001b[0;34m\u001b[0m\u001b[0m\n\u001b[0;32m----> 4\u001b[0;31m \u001b[0mbuy_df\u001b[0m \u001b[0;34m=\u001b[0m \u001b[0mprofit_df\u001b[0m\u001b[0;34m[\u001b[0m\u001b[0mprofit_df\u001b[0m\u001b[0;34m[\u001b[0m\u001b[0;34m'score'\u001b[0m\u001b[0;34m]\u001b[0m \u001b[0;34m>\u001b[0m \u001b[0;36m0\u001b[0m\u001b[0;34m]\u001b[0m\u001b[0;34m\u001b[0m\u001b[0;34m\u001b[0m\u001b[0m\n\u001b[0m\u001b[1;32m      5\u001b[0m \u001b[0mbuy_df\u001b[0m\u001b[0;34m[\u001b[0m\u001b[0;34m'is_profit'\u001b[0m\u001b[0;34m]\u001b[0m \u001b[0;34m=\u001b[0m \u001b[0;34m(\u001b[0m\u001b[0;34m(\u001b[0m\u001b[0mbuy_df\u001b[0m\u001b[0;34m[\u001b[0m\u001b[0;34m'max_sell'\u001b[0m\u001b[0;34m]\u001b[0m \u001b[0;34m>\u001b[0m \u001b[0;34m-\u001b[0m\u001b[0;36m1\u001b[0m\u001b[0;34m*\u001b[0m\u001b[0mstop_loss\u001b[0m\u001b[0;34m)\u001b[0m \u001b[0;34m&\u001b[0m \u001b[0;34m(\u001b[0m\u001b[0mbuy_df\u001b[0m\u001b[0;34m[\u001b[0m\u001b[0;34m'max_buy'\u001b[0m\u001b[0;34m]\u001b[0m \u001b[0;34m>\u001b[0m \u001b[0mtake_profit\u001b[0m\u001b[0;34m)\u001b[0m\u001b[0;34m)\u001b[0m\u001b[0;34m\u001b[0m\u001b[0;34m\u001b[0m\u001b[0m\n\u001b[1;32m      6\u001b[0m \u001b[0msell_df\u001b[0m \u001b[0;34m=\u001b[0m \u001b[0mprofit_df\u001b[0m\u001b[0;34m[\u001b[0m\u001b[0mprofit_df\u001b[0m\u001b[0;34m[\u001b[0m\u001b[0;34m'score'\u001b[0m\u001b[0;34m]\u001b[0m \u001b[0;34m<\u001b[0m \u001b[0;36m0\u001b[0m\u001b[0;34m]\u001b[0m\u001b[0;34m\u001b[0m\u001b[0;34m\u001b[0m\u001b[0m\n",
      "\u001b[0;31mNameError\u001b[0m: name 'profit_df' is not defined"
     ]
    }
   ],
   "source": [
    "# get is_profit\n",
    "take_profit = 7\n",
    "stop_loss = 5\n",
    "buy_df = profit_df[profit_df['score'] > 0]\n",
    "buy_df['is_profit'] = ((buy_df['max_sell'] > -1 * stop_loss) &\n",
    "                       (buy_df['max_buy'] > take_profit))\n",
    "sell_df = profit_df[profit_df['score'] < 0]\n",
    "sell_df['is_profit'] = ((sell_df['max_buy'] < stop_loss) &\n",
    "                        (sell_df['max_sell'] < -1 * take_profit))\n",
    "sell_df.head()"
   ]
  },
  {
   "cell_type": "code",
   "execution_count": 67,
   "metadata": {},
   "outputs": [
    {
     "data": {
      "text/plain": [
       "<matplotlib.axes._subplots.AxesSubplot at 0x7f3ba5241b38>"
      ]
     },
     "execution_count": 67,
     "metadata": {},
     "output_type": "execute_result"
    },
    {
     "data": {
      "image/png": "[encoded data removed]",
      "text/plain": [
       "<Figure size 432x288 with 1 Axes>"
      ]
     },
     "metadata": {
      "needs_background": "light"
     },
     "output_type": "display_data"
    }
   ],
   "source": [
    "# check percent of is_profit\n",
    "buy_df['is_profit'].hist()"
   ]
  },
  {
   "cell_type": "code",
   "execution_count": 66,
   "metadata": {
    "scrolled": false
   },
   "outputs": [
    {
     "name": "stdout",
     "output_type": "stream",
     "text": [
      "Win = 95929\n",
      "Lose = 89993\n"
     ]
    },
    {
     "data": {
      "image/png": "[encoded data removed]",
      "text/plain": [
       "<Figure size 1152x576 with 1 Axes>"
      ]
     },
     "metadata": {
      "needs_background": "light"
     },
     "output_type": "display_data"
    }
   ],
   "source": [
    "# scatter for score and is_profit\n",
    "\n",
    "data = ( buy_df[buy_df['is_profit']==False],buy_df[buy_df['is_profit']==True])\n",
    "print(f'Lose = {len(data[0])}')\n",
    "print(f'Win = {len(data[1])}')\n",
    "\n",
    "colors = (\"red\", \"green\")\n",
    "groups = (\"Win\", \"loss\")\n",
    "fig = plt.figure(figsize=(16,8))\n",
    "ax = fig.add_subplot(1, 1, 1)\n",
    "\n",
    "for d, color, group in zip(data, colors, groups):\n",
    "    ax.scatter(d.score, d.is_profit, alpha=0.8, c=color, edgecolors='none', s=30, label=group)\n",
    "\n",
    "plt.title('Matplot scatter plot')\n",
    "plt.legend(loc=2)\n",
    "plt.show()"
   ]
  },
  {
   "cell_type": "code",
   "execution_count": 83,
   "metadata": {},
   "outputs": [
    {
     "name": "stdout",
     "output_type": "stream",
     "text": [
      "threshold = 0\n",
      "False    51.596368\n",
      "True     48.403632\n",
      "Name: is_profit, dtype: float64\n",
      "threshold = 1\n",
      "True     50.627549\n",
      "False    49.372451\n",
      "Name: is_profit, dtype: float64\n",
      "threshold = 2\n",
      "True     57.701876\n",
      "False    42.298124\n",
      "Name: is_profit, dtype: float64\n",
      "threshold = 3\n",
      "True     76.860052\n",
      "False    23.139948\n",
      "Name: is_profit, dtype: float64\n",
      "threshold = 4\n",
      "True     87.770764\n",
      "False    12.229236\n",
      "Name: is_profit, dtype: float64\n",
      "threshold = 5\n",
      "True     94.735206\n",
      "False     5.264794\n",
      "Name: is_profit, dtype: float64\n",
      "threshold = 6\n",
      "True     97.255436\n",
      "False     2.744564\n",
      "Name: is_profit, dtype: float64\n",
      "threshold = 7\n",
      "True     98.613811\n",
      "False     1.386189\n",
      "Name: is_profit, dtype: float64\n",
      "threshold = 8\n",
      "True     99.635775\n",
      "False     0.364225\n",
      "Name: is_profit, dtype: float64\n",
      "threshold = 9\n",
      "True     99.751276\n",
      "False     0.248724\n",
      "Name: is_profit, dtype: float64\n"
     ]
    }
   ],
   "source": [
    "# check which value is a good threshold for profit or not\n",
    "for threshold in range(10):\n",
    "    print(f'threshold = {threshold}')\n",
    "    print(buy_df[buy_df['score']>threshold]['is_profit'].value_counts(normalize=True)*100)"
   ]
  },
  {
   "cell_type": "code",
   "execution_count": 85,
   "metadata": {
    "scrolled": false
   },
   "outputs": [
    {
     "name": "stdout",
     "output_type": "stream",
     "text": [
      "threshold = 0\n",
      "False    51.95603\n",
      "True     48.04397\n",
      "Name: is_profit, dtype: float64\n",
      "threshold = 1\n",
      "True     50.072917\n",
      "False    49.927083\n",
      "Name: is_profit, dtype: float64\n",
      "threshold = 2\n",
      "True     57.174394\n",
      "False    42.825606\n",
      "Name: is_profit, dtype: float64\n",
      "threshold = 3\n",
      "True     76.302234\n",
      "False    23.697766\n",
      "Name: is_profit, dtype: float64\n",
      "threshold = 4\n",
      "True     87.322389\n",
      "False    12.677611\n",
      "Name: is_profit, dtype: float64\n",
      "threshold = 5\n",
      "True     94.38708\n",
      "False     5.61292\n",
      "Name: is_profit, dtype: float64\n",
      "threshold = 6\n",
      "True     96.814799\n",
      "False     3.185201\n",
      "Name: is_profit, dtype: float64\n",
      "threshold = 7\n",
      "True     98.575485\n",
      "False     1.424515\n",
      "Name: is_profit, dtype: float64\n",
      "threshold = 8\n",
      "True     99.537213\n",
      "False     0.462787\n",
      "Name: is_profit, dtype: float64\n",
      "threshold = 9\n",
      "True     99.725275\n",
      "False     0.274725\n",
      "Name: is_profit, dtype: float64\n"
     ]
    }
   ],
   "source": [
    "for threshold in range(10):\n",
    "    print(f'threshold = {threshold}')\n",
    "    print(sell_df[sell_df['score']<-1*threshold]['is_profit'].value_counts(normalize=True)*100)"
   ]
  },
  {
   "cell_type": "markdown",
   "metadata": {},
   "source": [
    "### Conclusion\n",
    "For fixed TP=7 and SL=5\n",
    "\n",
    "**Score = 4 is a good threshold, >4 to buy, <-4 to sell**"
   ]
  },
  {
   "cell_type": "markdown",
   "metadata": {},
   "source": [
    "# Evaluate score"
   ]
  },
  {
   "cell_type": "code",
   "execution_count": 59,
   "metadata": {},
   "outputs": [
    {
     "data": {
      "text/plain": [
       "count    374503.000000\n",
       "mean         -0.053220\n",
       "std           4.688687\n",
       "min         -35.990910\n",
       "25%          -3.486350\n",
       "50%          -0.662090\n",
       "75%           3.415940\n",
       "max          32.628290\n",
       "Name: score, dtype: float64"
      ]
     },
     "execution_count": 59,
     "metadata": {},
     "output_type": "execute_result"
    }
   ],
   "source": [
    "merge_df.score.describe()"
   ]
  },
  {
   "cell_type": "code",
   "execution_count": 71,
   "metadata": {},
   "outputs": [
    {
     "data": {
      "text/plain": [
       "count    62130.000000\n",
       "mean         0.179759\n",
       "std          3.935640\n",
       "min        -35.413290\n",
       "25%         -2.805850\n",
       "50%          0.747240\n",
       "75%          3.154340\n",
       "max         23.851250\n",
       "Name: score, dtype: float64"
      ]
     },
     "execution_count": 71,
     "metadata": {},
     "output_type": "execute_result"
    }
   ],
   "source": [
    "# scalping hours\n",
    "merge_df[(merge_df['hour'] > 18) & (merge_df['hour'] < 23)]['score'].describe()"
   ]
  },
  {
   "cell_type": "code",
   "execution_count": 61,
   "metadata": {
    "scrolled": true
   },
   "outputs": [
    {
     "data": {
      "text/plain": [
       "<matplotlib.axes._subplots.AxesSubplot at 0x7f368ecb5668>"
      ]
     },
     "execution_count": 61,
     "metadata": {},
     "output_type": "execute_result"
    },
    {
     "data": {
      "image/png": "[encoded data removed]",
      "text/plain": [
       "<Figure size 432x288 with 1 Axes>"
      ]
     },
     "metadata": {
      "needs_background": "light"
     },
     "output_type": "display_data"
    }
   ],
   "source": [
    "merge_df['score'].hist(bins=40)"
   ]
  },
  {
   "cell_type": "code",
   "execution_count": 78,
   "metadata": {},
   "outputs": [
    {
     "name": "stdout",
     "output_type": "stream",
     "text": [
      "Percentage: 10006/62130 = 0.161\n"
     ]
    },
    {
     "data": {
      "text/html": [
       "<div>\n",
       "<style scoped>\n",
       "    .dataframe tbody tr th:only-of-type {\n",
       "        vertical-align: middle;\n",
       "    }\n",
       "\n",
       "    .dataframe tbody tr th {\n",
       "        vertical-align: top;\n",
       "    }\n",
       "\n",
       "    .dataframe thead th {\n",
       "        text-align: right;\n",
       "    }\n",
       "</style>\n",
       "<table border=\"1\" class=\"dataframe\">\n",
       "  <thead>\n",
       "    <tr style=\"text-align: right;\">\n",
       "      <th></th>\n",
       "      <th>open</th>\n",
       "      <th>high</th>\n",
       "      <th>low</th>\n",
       "      <th>close</th>\n",
       "      <th>volume</th>\n",
       "      <th>hour</th>\n",
       "      <th>volatility</th>\n",
       "      <th>macd</th>\n",
       "      <th>macdsignal</th>\n",
       "      <th>macdhist</th>\n",
       "      <th>rsi</th>\n",
       "      <th>max_buy</th>\n",
       "      <th>max_buy_count</th>\n",
       "      <th>max_sell</th>\n",
       "      <th>max_sell_count</th>\n",
       "      <th>score</th>\n",
       "    </tr>\n",
       "    <tr>\n",
       "      <th>time</th>\n",
       "      <th></th>\n",
       "      <th></th>\n",
       "      <th></th>\n",
       "      <th></th>\n",
       "      <th></th>\n",
       "      <th></th>\n",
       "      <th></th>\n",
       "      <th></th>\n",
       "      <th></th>\n",
       "      <th></th>\n",
       "      <th></th>\n",
       "      <th></th>\n",
       "      <th></th>\n",
       "      <th></th>\n",
       "      <th></th>\n",
       "      <th></th>\n",
       "    </tr>\n",
       "  </thead>\n",
       "  <tbody>\n",
       "    <tr>\n",
       "      <th>2018-02-01 19:00:00</th>\n",
       "      <td>1.42538</td>\n",
       "      <td>1.42538</td>\n",
       "      <td>1.42518</td>\n",
       "      <td>1.42519</td>\n",
       "      <td>211.94</td>\n",
       "      <td>19</td>\n",
       "      <td>2.0</td>\n",
       "      <td>0.000296</td>\n",
       "      <td>0.000268</td>\n",
       "      <td>0.000028</td>\n",
       "      <td>60.006389</td>\n",
       "      <td>19.2</td>\n",
       "      <td>60</td>\n",
       "      <td>-1.1</td>\n",
       "      <td>6</td>\n",
       "      <td>6.66841</td>\n",
       "    </tr>\n",
       "    <tr>\n",
       "      <th>2018-02-01 19:01:00</th>\n",
       "      <td>1.42519</td>\n",
       "      <td>1.42520</td>\n",
       "      <td>1.42511</td>\n",
       "      <td>1.42520</td>\n",
       "      <td>130.73</td>\n",
       "      <td>19</td>\n",
       "      <td>0.9</td>\n",
       "      <td>0.000283</td>\n",
       "      <td>0.000271</td>\n",
       "      <td>0.000012</td>\n",
       "      <td>60.200185</td>\n",
       "      <td>19.1</td>\n",
       "      <td>60</td>\n",
       "      <td>-1.2</td>\n",
       "      <td>6</td>\n",
       "      <td>6.45415</td>\n",
       "    </tr>\n",
       "    <tr>\n",
       "      <th>2018-02-01 19:02:00</th>\n",
       "      <td>1.42518</td>\n",
       "      <td>1.42530</td>\n",
       "      <td>1.42509</td>\n",
       "      <td>1.42530</td>\n",
       "      <td>135.12</td>\n",
       "      <td>19</td>\n",
       "      <td>2.1</td>\n",
       "      <td>0.000277</td>\n",
       "      <td>0.000273</td>\n",
       "      <td>0.000005</td>\n",
       "      <td>62.174103</td>\n",
       "      <td>18.1</td>\n",
       "      <td>57</td>\n",
       "      <td>-2.2</td>\n",
       "      <td>9</td>\n",
       "      <td>5.10763</td>\n",
       "    </tr>\n",
       "    <tr>\n",
       "      <th>2018-02-01 19:10:00</th>\n",
       "      <td>1.42571</td>\n",
       "      <td>1.42572</td>\n",
       "      <td>1.42523</td>\n",
       "      <td>1.42542</td>\n",
       "      <td>246.30</td>\n",
       "      <td>19</td>\n",
       "      <td>4.9</td>\n",
       "      <td>0.000312</td>\n",
       "      <td>0.000329</td>\n",
       "      <td>-0.000016</td>\n",
       "      <td>53.968989</td>\n",
       "      <td>21.0</td>\n",
       "      <td>55</td>\n",
       "      <td>-3.4</td>\n",
       "      <td>8</td>\n",
       "      <td>4.71002</td>\n",
       "    </tr>\n",
       "    <tr>\n",
       "      <th>2018-02-01 19:12:00</th>\n",
       "      <td>1.42512</td>\n",
       "      <td>1.42534</td>\n",
       "      <td>1.42510</td>\n",
       "      <td>1.42525</td>\n",
       "      <td>188.74</td>\n",
       "      <td>19</td>\n",
       "      <td>2.4</td>\n",
       "      <td>0.000213</td>\n",
       "      <td>0.000293</td>\n",
       "      <td>-0.000081</td>\n",
       "      <td>50.164505</td>\n",
       "      <td>22.7</td>\n",
       "      <td>60</td>\n",
       "      <td>-1.7</td>\n",
       "      <td>5</td>\n",
       "      <td>6.20180</td>\n",
       "    </tr>\n",
       "  </tbody>\n",
       "</table>\n",
       "</div>"
      ],
      "text/plain": [
       "                        open     high      low    close  volume  hour  \\\n",
       "time                                                                    \n",
       "2018-02-01 19:00:00  1.42538  1.42538  1.42518  1.42519  211.94    19   \n",
       "2018-02-01 19:01:00  1.42519  1.42520  1.42511  1.42520  130.73    19   \n",
       "2018-02-01 19:02:00  1.42518  1.42530  1.42509  1.42530  135.12    19   \n",
       "2018-02-01 19:10:00  1.42571  1.42572  1.42523  1.42542  246.30    19   \n",
       "2018-02-01 19:12:00  1.42512  1.42534  1.42510  1.42525  188.74    19   \n",
       "\n",
       "                     volatility      macd  macdsignal  macdhist        rsi  \\\n",
       "time                                                                         \n",
       "2018-02-01 19:00:00         2.0  0.000296    0.000268  0.000028  60.006389   \n",
       "2018-02-01 19:01:00         0.9  0.000283    0.000271  0.000012  60.200185   \n",
       "2018-02-01 19:02:00         2.1  0.000277    0.000273  0.000005  62.174103   \n",
       "2018-02-01 19:10:00         4.9  0.000312    0.000329 -0.000016  53.968989   \n",
       "2018-02-01 19:12:00         2.4  0.000213    0.000293 -0.000081  50.164505   \n",
       "\n",
       "                     max_buy  max_buy_count  max_sell  max_sell_count    score  \n",
       "time                                                                            \n",
       "2018-02-01 19:00:00     19.2             60      -1.1               6  6.66841  \n",
       "2018-02-01 19:01:00     19.1             60      -1.2               6  6.45415  \n",
       "2018-02-01 19:02:00     18.1             57      -2.2               9  5.10763  \n",
       "2018-02-01 19:10:00     21.0             55      -3.4               8  4.71002  \n",
       "2018-02-01 19:12:00     22.7             60      -1.7               5  6.20180  "
      ]
     },
     "execution_count": 78,
     "metadata": {},
     "output_type": "execute_result"
    }
   ],
   "source": [
    "total_count=len(merge_df[(merge_df['hour'] > 18) & (merge_df['hour'] < 23)])\n",
    "scalping_count=len(merge_df[(merge_df['hour'] > 18) & (merge_df['hour'] < 23) & (merge_df['score'] > 4)])\n",
    "\n",
    "print('Percentage: %s/%s = %.3f'%(scalping_count,total_count,scalping_count/total_count))\n",
    "\n",
    "merge_df[(merge_df['hour'] > 18) & (merge_df['hour'] < 23) &\n",
    "         (merge_df['score'] > 4) & (merge_df['score'] < 10)].head()"
   ]
  },
  {
   "cell_type": "markdown",
   "metadata": {},
   "source": [
    "# Create feature\n",
    "\n",
    "Name \t           Value\n",
    "RSI(14) \t\t\t63.841\n",
    "STOCH(9,6) \t\t\t46.092\n",
    "STOCHRSI(14) \t\t17.633\n",
    "MACD(12,26) \t\t0.001\n",
    "ADX(14) \t\t\t45.939\n",
    "Williams %R \t\t-27.77\n",
    "CCI(14) \t\t\t96.681\n",
    "ATR(14) \t\t\t0.0011\n",
    "Highs/Lows(14) \t\t0.0000\n",
    "Ultimate Oscillator 55.182\n",
    "ROC \t\t\t\t0.103\n",
    "\n",
    "Here we use MACD and RSI indicator as feature"
   ]
  },
  {
   "cell_type": "code",
   "execution_count": 7,
   "metadata": {},
   "outputs": [
    {
     "data": {
      "text/html": [
       "<div>\n",
       "<style scoped>\n",
       "    .dataframe tbody tr th:only-of-type {\n",
       "        vertical-align: middle;\n",
       "    }\n",
       "\n",
       "    .dataframe tbody tr th {\n",
       "        vertical-align: top;\n",
       "    }\n",
       "\n",
       "    .dataframe thead th {\n",
       "        text-align: right;\n",
       "    }\n",
       "</style>\n",
       "<table border=\"1\" class=\"dataframe\">\n",
       "  <thead>\n",
       "    <tr style=\"text-align: right;\">\n",
       "      <th></th>\n",
       "      <th>open</th>\n",
       "      <th>high</th>\n",
       "      <th>low</th>\n",
       "      <th>close</th>\n",
       "      <th>volume</th>\n",
       "      <th>hour</th>\n",
       "      <th>volatility</th>\n",
       "      <th>macd</th>\n",
       "      <th>macdsignal</th>\n",
       "      <th>macdhist</th>\n",
       "      <th>rsi</th>\n",
       "    </tr>\n",
       "    <tr>\n",
       "      <th>time</th>\n",
       "      <th></th>\n",
       "      <th></th>\n",
       "      <th></th>\n",
       "      <th></th>\n",
       "      <th></th>\n",
       "      <th></th>\n",
       "      <th></th>\n",
       "      <th></th>\n",
       "      <th></th>\n",
       "      <th></th>\n",
       "      <th></th>\n",
       "    </tr>\n",
       "  </thead>\n",
       "  <tbody>\n",
       "    <tr>\n",
       "      <th>2019-02-01 21:55:00</th>\n",
       "      <td>1.30773</td>\n",
       "      <td>1.30799</td>\n",
       "      <td>1.30773</td>\n",
       "      <td>1.30796</td>\n",
       "      <td>91.58</td>\n",
       "      <td>21</td>\n",
       "      <td>2.6</td>\n",
       "      <td>-0.000138</td>\n",
       "      <td>-0.000052</td>\n",
       "      <td>-0.000087</td>\n",
       "      <td>39.834582</td>\n",
       "    </tr>\n",
       "    <tr>\n",
       "      <th>2019-02-01 21:56:00</th>\n",
       "      <td>1.30797</td>\n",
       "      <td>1.30844</td>\n",
       "      <td>1.30796</td>\n",
       "      <td>1.30842</td>\n",
       "      <td>66.66</td>\n",
       "      <td>21</td>\n",
       "      <td>4.8</td>\n",
       "      <td>-0.000102</td>\n",
       "      <td>-0.000062</td>\n",
       "      <td>-0.000040</td>\n",
       "      <td>55.248318</td>\n",
       "    </tr>\n",
       "    <tr>\n",
       "      <th>2019-02-01 21:57:00</th>\n",
       "      <td>1.30843</td>\n",
       "      <td>1.30857</td>\n",
       "      <td>1.30835</td>\n",
       "      <td>1.30835</td>\n",
       "      <td>94.78</td>\n",
       "      <td>21</td>\n",
       "      <td>2.2</td>\n",
       "      <td>-0.000078</td>\n",
       "      <td>-0.000065</td>\n",
       "      <td>-0.000013</td>\n",
       "      <td>53.022223</td>\n",
       "    </tr>\n",
       "    <tr>\n",
       "      <th>2019-02-01 21:58:00</th>\n",
       "      <td>1.30836</td>\n",
       "      <td>1.30859</td>\n",
       "      <td>1.30790</td>\n",
       "      <td>1.30815</td>\n",
       "      <td>173.23</td>\n",
       "      <td>21</td>\n",
       "      <td>6.9</td>\n",
       "      <td>-0.000074</td>\n",
       "      <td>-0.000067</td>\n",
       "      <td>-0.000007</td>\n",
       "      <td>47.173758</td>\n",
       "    </tr>\n",
       "    <tr>\n",
       "      <th>2019-02-01 21:59:00</th>\n",
       "      <td>1.30816</td>\n",
       "      <td>1.30839</td>\n",
       "      <td>1.30803</td>\n",
       "      <td>1.30839</td>\n",
       "      <td>45.15</td>\n",
       "      <td>21</td>\n",
       "      <td>3.6</td>\n",
       "      <td>-0.000051</td>\n",
       "      <td>-0.000063</td>\n",
       "      <td>0.000013</td>\n",
       "      <td>53.764382</td>\n",
       "    </tr>\n",
       "  </tbody>\n",
       "</table>\n",
       "</div>"
      ],
      "text/plain": [
       "                        open     high      low    close  volume  hour  \\\n",
       "time                                                                    \n",
       "2019-02-01 21:55:00  1.30773  1.30799  1.30773  1.30796   91.58    21   \n",
       "2019-02-01 21:56:00  1.30797  1.30844  1.30796  1.30842   66.66    21   \n",
       "2019-02-01 21:57:00  1.30843  1.30857  1.30835  1.30835   94.78    21   \n",
       "2019-02-01 21:58:00  1.30836  1.30859  1.30790  1.30815  173.23    21   \n",
       "2019-02-01 21:59:00  1.30816  1.30839  1.30803  1.30839   45.15    21   \n",
       "\n",
       "                     volatility      macd  macdsignal  macdhist        rsi  \n",
       "time                                                                        \n",
       "2019-02-01 21:55:00         2.6 -0.000138   -0.000052 -0.000087  39.834582  \n",
       "2019-02-01 21:56:00         4.8 -0.000102   -0.000062 -0.000040  55.248318  \n",
       "2019-02-01 21:57:00         2.2 -0.000078   -0.000065 -0.000013  53.022223  \n",
       "2019-02-01 21:58:00         6.9 -0.000074   -0.000067 -0.000007  47.173758  \n",
       "2019-02-01 21:59:00         3.6 -0.000051   -0.000063  0.000013  53.764382  "
      ]
     },
     "execution_count": 7,
     "metadata": {},
     "output_type": "execute_result"
    }
   ],
   "source": [
    "test_df['macd'], test_df['macdsignal'], test_df['macdhist'] = ta.MACD(test_df['close'],\n",
    "                                     fastperiod=12,\n",
    "                                     slowperiod=26,\n",
    "                                     signalperiod=9)\n",
    "test_df['rsi']= ta.RSI(test_df['close'], timeperiod=14)\n",
    "\n",
    "df['macd'], df['macdsignal'], df['macdhist'] = ta.MACD(df['close'],\n",
    "                                     fastperiod=12,\n",
    "                                     slowperiod=26,\n",
    "                                     signalperiod=9)\n",
    "df['rsi']= ta.RSI(df['close'], timeperiod=14)\n",
    "df.tail(5)"
   ]
  },
  {
   "cell_type": "code",
   "execution_count": 8,
   "metadata": {
    "scrolled": true
   },
   "outputs": [
    {
     "data": {
      "text/html": [
       "<div>\n",
       "<style scoped>\n",
       "    .dataframe tbody tr th:only-of-type {\n",
       "        vertical-align: middle;\n",
       "    }\n",
       "\n",
       "    .dataframe tbody tr th {\n",
       "        vertical-align: top;\n",
       "    }\n",
       "\n",
       "    .dataframe thead th {\n",
       "        text-align: right;\n",
       "    }\n",
       "</style>\n",
       "<table border=\"1\" class=\"dataframe\">\n",
       "  <thead>\n",
       "    <tr style=\"text-align: right;\">\n",
       "      <th></th>\n",
       "      <th>open</th>\n",
       "      <th>high</th>\n",
       "      <th>low</th>\n",
       "      <th>close</th>\n",
       "      <th>volume</th>\n",
       "      <th>hour</th>\n",
       "      <th>volatility</th>\n",
       "      <th>macd</th>\n",
       "      <th>macdsignal</th>\n",
       "      <th>macdhist</th>\n",
       "      <th>rsi</th>\n",
       "      <th>max_buy</th>\n",
       "      <th>max_buy_count</th>\n",
       "      <th>max_sell</th>\n",
       "      <th>max_sell_count</th>\n",
       "      <th>score</th>\n",
       "    </tr>\n",
       "    <tr>\n",
       "      <th>time</th>\n",
       "      <th></th>\n",
       "      <th></th>\n",
       "      <th></th>\n",
       "      <th></th>\n",
       "      <th></th>\n",
       "      <th></th>\n",
       "      <th></th>\n",
       "      <th></th>\n",
       "      <th></th>\n",
       "      <th></th>\n",
       "      <th></th>\n",
       "      <th></th>\n",
       "      <th></th>\n",
       "      <th></th>\n",
       "      <th></th>\n",
       "      <th></th>\n",
       "    </tr>\n",
       "  </thead>\n",
       "  <tbody>\n",
       "    <tr>\n",
       "      <th>2018-02-01 00:33:00</th>\n",
       "      <td>1.42051</td>\n",
       "      <td>1.42051</td>\n",
       "      <td>1.42043</td>\n",
       "      <td>1.42049</td>\n",
       "      <td>61.04</td>\n",
       "      <td>0</td>\n",
       "      <td>0.8</td>\n",
       "      <td>0.000013</td>\n",
       "      <td>0.000110</td>\n",
       "      <td>-0.000097</td>\n",
       "      <td>48.790187</td>\n",
       "      <td>3.3</td>\n",
       "      <td>12</td>\n",
       "      <td>-18.8</td>\n",
       "      <td>55</td>\n",
       "      <td>-4.51350</td>\n",
       "    </tr>\n",
       "    <tr>\n",
       "      <th>2018-02-01 00:34:00</th>\n",
       "      <td>1.42049</td>\n",
       "      <td>1.42070</td>\n",
       "      <td>1.42048</td>\n",
       "      <td>1.42070</td>\n",
       "      <td>87.16</td>\n",
       "      <td>0</td>\n",
       "      <td>2.2</td>\n",
       "      <td>0.000019</td>\n",
       "      <td>0.000092</td>\n",
       "      <td>-0.000072</td>\n",
       "      <td>55.262985</td>\n",
       "      <td>1.2</td>\n",
       "      <td>6</td>\n",
       "      <td>-20.9</td>\n",
       "      <td>59</td>\n",
       "      <td>-6.72793</td>\n",
       "    </tr>\n",
       "    <tr>\n",
       "      <th>2018-02-01 00:35:00</th>\n",
       "      <td>1.42071</td>\n",
       "      <td>1.42071</td>\n",
       "      <td>1.42059</td>\n",
       "      <td>1.42059</td>\n",
       "      <td>78.07</td>\n",
       "      <td>0</td>\n",
       "      <td>1.2</td>\n",
       "      <td>0.000016</td>\n",
       "      <td>0.000076</td>\n",
       "      <td>-0.000061</td>\n",
       "      <td>51.584918</td>\n",
       "      <td>2.3</td>\n",
       "      <td>5</td>\n",
       "      <td>-19.8</td>\n",
       "      <td>57</td>\n",
       "      <td>-5.24580</td>\n",
       "    </tr>\n",
       "    <tr>\n",
       "      <th>2018-02-01 00:36:00</th>\n",
       "      <td>1.42059</td>\n",
       "      <td>1.42071</td>\n",
       "      <td>1.42059</td>\n",
       "      <td>1.42071</td>\n",
       "      <td>83.39</td>\n",
       "      <td>0</td>\n",
       "      <td>1.2</td>\n",
       "      <td>0.000022</td>\n",
       "      <td>0.000066</td>\n",
       "      <td>-0.000043</td>\n",
       "      <td>55.096019</td>\n",
       "      <td>1.1</td>\n",
       "      <td>4</td>\n",
       "      <td>-21.0</td>\n",
       "      <td>59</td>\n",
       "      <td>-6.94966</td>\n",
       "    </tr>\n",
       "    <tr>\n",
       "      <th>2018-02-01 00:37:00</th>\n",
       "      <td>1.42071</td>\n",
       "      <td>1.42082</td>\n",
       "      <td>1.42071</td>\n",
       "      <td>1.42078</td>\n",
       "      <td>144.90</td>\n",
       "      <td>0</td>\n",
       "      <td>1.1</td>\n",
       "      <td>0.000033</td>\n",
       "      <td>0.000059</td>\n",
       "      <td>-0.000026</td>\n",
       "      <td>57.052614</td>\n",
       "      <td>0.4</td>\n",
       "      <td>2</td>\n",
       "      <td>-21.7</td>\n",
       "      <td>60</td>\n",
       "      <td>-10.16588</td>\n",
       "    </tr>\n",
       "  </tbody>\n",
       "</table>\n",
       "</div>"
      ],
      "text/plain": [
       "                        open     high      low    close  volume  hour  \\\n",
       "time                                                                    \n",
       "2018-02-01 00:33:00  1.42051  1.42051  1.42043  1.42049   61.04     0   \n",
       "2018-02-01 00:34:00  1.42049  1.42070  1.42048  1.42070   87.16     0   \n",
       "2018-02-01 00:35:00  1.42071  1.42071  1.42059  1.42059   78.07     0   \n",
       "2018-02-01 00:36:00  1.42059  1.42071  1.42059  1.42071   83.39     0   \n",
       "2018-02-01 00:37:00  1.42071  1.42082  1.42071  1.42078  144.90     0   \n",
       "\n",
       "                     volatility      macd  macdsignal  macdhist        rsi  \\\n",
       "time                                                                         \n",
       "2018-02-01 00:33:00         0.8  0.000013    0.000110 -0.000097  48.790187   \n",
       "2018-02-01 00:34:00         2.2  0.000019    0.000092 -0.000072  55.262985   \n",
       "2018-02-01 00:35:00         1.2  0.000016    0.000076 -0.000061  51.584918   \n",
       "2018-02-01 00:36:00         1.2  0.000022    0.000066 -0.000043  55.096019   \n",
       "2018-02-01 00:37:00         1.1  0.000033    0.000059 -0.000026  57.052614   \n",
       "\n",
       "                     max_buy  max_buy_count  max_sell  max_sell_count  \\\n",
       "time                                                                    \n",
       "2018-02-01 00:33:00      3.3             12     -18.8              55   \n",
       "2018-02-01 00:34:00      1.2              6     -20.9              59   \n",
       "2018-02-01 00:35:00      2.3              5     -19.8              57   \n",
       "2018-02-01 00:36:00      1.1              4     -21.0              59   \n",
       "2018-02-01 00:37:00      0.4              2     -21.7              60   \n",
       "\n",
       "                        score  \n",
       "time                           \n",
       "2018-02-01 00:33:00  -4.51350  \n",
       "2018-02-01 00:34:00  -6.72793  \n",
       "2018-02-01 00:35:00  -5.24580  \n",
       "2018-02-01 00:36:00  -6.94966  \n",
       "2018-02-01 00:37:00 -10.16588  "
      ]
     },
     "execution_count": 8,
     "metadata": {},
     "output_type": "execute_result"
    }
   ],
   "source": [
    "# concat with max profit and score\n",
    "# remove head tail which Nan value\n",
    "test_merge_df = pd.merge(test_df, test_profit_df, on='time')\n",
    "test_merge_df.drop(test_merge_df.tail(60).index,inplace=True)\n",
    "test_merge_df.drop(test_merge_df.head(33).index,inplace=True)\n",
    "\n",
    "merge_df = pd.merge(df, profit_df, on='time')\n",
    "merge_df.drop(merge_df.tail(60).index,inplace=True)\n",
    "merge_df.drop(merge_df.head(33).index,inplace=True)\n",
    "\n",
    "merge_df.head(5)"
   ]
  },
  {
   "cell_type": "markdown",
   "metadata": {},
   "source": [
    "# Visualize Feature and score"
   ]
  },
  {
   "cell_type": "code",
   "execution_count": 21,
   "metadata": {},
   "outputs": [
    {
     "data": {
      "image/png": "[encoded data removed]",
      "text/plain": [
       "<Figure size 864x432 with 1 Axes>"
      ]
     },
     "metadata": {
      "needs_background": "light"
     },
     "output_type": "display_data"
    }
   ],
   "source": [
    "figsize(12, 6)\n",
    "plt.scatter(merge_df['rsi'], merge_df['score'])\n",
    "plt.title(\"RSI VS Score\")\n",
    "plt.ylabel(\"Score\")\n",
    "plt.xlabel(\"RSI\")\n",
    "plt.show()"
   ]
  },
  {
   "cell_type": "code",
   "execution_count": 22,
   "metadata": {},
   "outputs": [
    {
     "data": {
      "image/png": "[encoded data removed]",
      "text/plain": [
       "<Figure size 864x432 with 1 Axes>"
      ]
     },
     "metadata": {
      "needs_background": "light"
     },
     "output_type": "display_data"
    }
   ],
   "source": [
    "figsize(12, 6)\n",
    "plt.scatter(merge_df['score'],merge_df['macd'])\n",
    "plt.title(\"MACD VS Score\")\n",
    "plt.ylabel(\"MACD\")\n",
    "plt.xlabel(\"Score\")\n",
    "plt.show()"
   ]
  },
  {
   "cell_type": "code",
   "execution_count": 23,
   "metadata": {},
   "outputs": [
    {
     "data": {
      "image/png": "[encoded data removed]",
      "text/plain": [
       "<Figure size 864x432 with 1 Axes>"
      ]
     },
     "metadata": {
      "needs_background": "light"
     },
     "output_type": "display_data"
    }
   ],
   "source": [
    "figsize(12, 6)\n",
    "plt.scatter(merge_df['score'],merge_df['macdsignal'])\n",
    "plt.title(\"macdsignal VS Score\")\n",
    "plt.ylabel(\"macdsignal\")\n",
    "plt.xlabel(\"Score\")\n",
    "plt.show()"
   ]
  },
  {
   "cell_type": "code",
   "execution_count": 25,
   "metadata": {},
   "outputs": [
    {
     "data": {
      "image/png": "[encoded data removed]",
      "text/plain": [
       "<Figure size 864x432 with 1 Axes>"
      ]
     },
     "metadata": {
      "needs_background": "light"
     },
     "output_type": "display_data"
    }
   ],
   "source": [
    "figsize(12, 6)\n",
    "plt.scatter(merge_df['score'], merge_df['macdhist'])\n",
    "plt.title(\"macdhist VS Score\")\n",
    "plt.ylabel(\"macdhist\")\n",
    "plt.xlabel(\"Score\")\n",
    "plt.show()"
   ]
  },
  {
   "cell_type": "markdown",
   "metadata": {},
   "source": [
    "# Save to file"
   ]
  },
  {
   "cell_type": "code",
   "execution_count": 55,
   "metadata": {},
   "outputs": [],
   "source": [
    "merge_df.to_csv(\n",
    "    'data/GBPUSD_Candlestick_1_M_ASK_01.02.2018-01.02.2019_featured.csv',\n",
    "    float_format='%.5f')\n",
    "test_merge_df.to_csv(\n",
    "    'data/GBPUSD_Candlestick_1_M_ASK_01.02.2019-24.04.2019_featured.csv',\n",
    "    float_format='%.5f')"
   ]
  }
 ],
 "metadata": {
  "hide_input": false,
  "kernelspec": {
   "display_name": "Python 3",
   "language": "python",
   "name": "python3"
  },
  "language_info": {
   "codemirror_mode": {
    "name": "ipython",
    "version": 3
   },
   "file_extension": ".py",
   "mimetype": "text/x-python",
   "name": "python",
   "nbconvert_exporter": "python",
   "pygments_lexer": "ipython3",
   "version": "3.7.1"
  }
 },
 "nbformat": 4,
 "nbformat_minor": 2
}
