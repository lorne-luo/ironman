{
 "cells": [
  {
   "cell_type": "markdown",
   "metadata": {},
   "source": [
    "# Step 1. Data explore"
   ]
  },
  {
   "cell_type": "markdown",
   "metadata": {},
   "source": [
    "This is a study case to use regression algorithm to predict 1 Hour EURUSD price movement.\n",
    "In this step mainly cleaned the data and made a exploration.\n",
    "\n",
    "Step 1. **Data exploration**\n",
    "\n",
    "Step 2. [Feature engineering](/notebooks/forex/mark1/step%202%20-%20feature%20enginering.ipynb)\n",
    "\n",
    "Step 3. [Data training and models evaluation](/notebooks/forex/mark1/step%203%20-%20training.ipynb)"
   ]
  },
  {
   "cell_type": "code",
   "execution_count": 19,
   "metadata": {},
   "outputs": [],
   "source": [
    "%matplotlib inline\n",
    "from datetime import datetime\n",
    "import pandas as pd\n",
    "import matplotlib\n",
    "import matplotlib.pyplot as plt\n",
    "\n",
    "# Set default font size\n",
    "plt.rcParams['font.size'] = 24\n",
    "plt.rcParams['figure.figsize'] = [16, 8]\n",
    "\n",
    "# Internal ipython tool for setting figure size\n",
    "from IPython.core.pylabtools import figsize\n",
    "\n",
    "csv_path = 'data/EURUSD_Candlestick_1_Hour_ASK_01.05.2017-18.05.2019.csv'"
   ]
  },
  {
   "cell_type": "code",
   "execution_count": 20,
   "metadata": {
    "scrolled": true
   },
   "outputs": [
    {
     "name": "stdout",
     "output_type": "stream",
     "text": [
      "Row count = 17952\n"
     ]
    },
    {
     "data": {
      "text/html": [
       "<div>\n",
       "<style scoped>\n",
       "    .dataframe tbody tr th:only-of-type {\n",
       "        vertical-align: middle;\n",
       "    }\n",
       "\n",
       "    .dataframe tbody tr th {\n",
       "        vertical-align: top;\n",
       "    }\n",
       "\n",
       "    .dataframe thead th {\n",
       "        text-align: right;\n",
       "    }\n",
       "</style>\n",
       "<table border=\"1\" class=\"dataframe\">\n",
       "  <thead>\n",
       "    <tr style=\"text-align: right;\">\n",
       "      <th></th>\n",
       "      <th>open</th>\n",
       "      <th>high</th>\n",
       "      <th>low</th>\n",
       "      <th>close</th>\n",
       "      <th>volume</th>\n",
       "    </tr>\n",
       "    <tr>\n",
       "      <th>time</th>\n",
       "      <th></th>\n",
       "      <th></th>\n",
       "      <th></th>\n",
       "      <th></th>\n",
       "      <th></th>\n",
       "    </tr>\n",
       "  </thead>\n",
       "  <tbody>\n",
       "    <tr>\n",
       "      <th>2017-05-01 00:00:00</th>\n",
       "      <td>1.09062</td>\n",
       "      <td>1.09081</td>\n",
       "      <td>1.08998</td>\n",
       "      <td>1.08998</td>\n",
       "      <td>2590.4500</td>\n",
       "    </tr>\n",
       "    <tr>\n",
       "      <th>2017-05-01 01:00:00</th>\n",
       "      <td>1.08998</td>\n",
       "      <td>1.09010</td>\n",
       "      <td>1.08895</td>\n",
       "      <td>1.08931</td>\n",
       "      <td>3752.0701</td>\n",
       "    </tr>\n",
       "    <tr>\n",
       "      <th>2017-05-01 02:00:00</th>\n",
       "      <td>1.08931</td>\n",
       "      <td>1.08970</td>\n",
       "      <td>1.08924</td>\n",
       "      <td>1.08942</td>\n",
       "      <td>2384.3999</td>\n",
       "    </tr>\n",
       "    <tr>\n",
       "      <th>2017-05-01 03:00:00</th>\n",
       "      <td>1.08941</td>\n",
       "      <td>1.08950</td>\n",
       "      <td>1.08915</td>\n",
       "      <td>1.08935</td>\n",
       "      <td>914.2400</td>\n",
       "    </tr>\n",
       "    <tr>\n",
       "      <th>2017-05-01 04:00:00</th>\n",
       "      <td>1.08935</td>\n",
       "      <td>1.08940</td>\n",
       "      <td>1.08904</td>\n",
       "      <td>1.08912</td>\n",
       "      <td>1391.0900</td>\n",
       "    </tr>\n",
       "  </tbody>\n",
       "</table>\n",
       "</div>"
      ],
      "text/plain": [
       "                        open     high      low    close     volume\n",
       "time                                                              \n",
       "2017-05-01 00:00:00  1.09062  1.09081  1.08998  1.08998  2590.4500\n",
       "2017-05-01 01:00:00  1.08998  1.09010  1.08895  1.08931  3752.0701\n",
       "2017-05-01 02:00:00  1.08931  1.08970  1.08924  1.08942  2384.3999\n",
       "2017-05-01 03:00:00  1.08941  1.08950  1.08915  1.08935   914.2400\n",
       "2017-05-01 04:00:00  1.08935  1.08940  1.08904  1.08912  1391.0900"
      ]
     },
     "execution_count": 20,
     "metadata": {},
     "output_type": "execute_result"
    }
   ],
   "source": [
    "# prepare date parser\n",
    "dateparse = lambda x: pd.datetime.strptime(x, '%d.%m.%Y %H:%M:%S.%f')\n",
    "# load csv\n",
    "df = pd.read_csv(csv_path,\n",
    "                 header=0,\n",
    "                 index_col='Gmt time',\n",
    "                 names=['Gmt time', 'Open', 'High', 'Low', 'Close', 'Volume'],\n",
    "                 parse_dates=['Gmt time'],\n",
    "                 date_parser=dateparse)\n",
    "df.columns = ['open', 'high', 'low', 'close', 'volume']\n",
    "df.index.rename('time', inplace=True)\n",
    "print('Row count = %d' % len(df))\n",
    "df.head(5)"
   ]
  },
  {
   "cell_type": "code",
   "execution_count": 21,
   "metadata": {},
   "outputs": [
    {
     "data": {
      "text/plain": [
       "open      0\n",
       "high      0\n",
       "low       0\n",
       "close     0\n",
       "volume    0\n",
       "dtype: int64"
      ]
     },
     "execution_count": 21,
     "metadata": {},
     "output_type": "execute_result"
    }
   ],
   "source": [
    "# inspect nan value\n",
    "df.isna().sum()"
   ]
  },
  {
   "cell_type": "markdown",
   "metadata": {},
   "source": [
    "# Clean invalid row"
   ]
  },
  {
   "cell_type": "code",
   "execution_count": 22,
   "metadata": {},
   "outputs": [
    {
     "name": "stdout",
     "output_type": "stream",
     "text": [
      "Invalid row count = 5191\n",
      "Row count = 12761\n"
     ]
    }
   ],
   "source": [
    "# remove invalid candle\n",
    "invalid_index = df[(df['high'] == df['low']) & (df['high'] == df['open']) &\n",
    "                   (df['open'] == df['close']) & (df['volume'] == 0)].index\n",
    "print('Invalid row count = %s'% len(invalid_index))\n",
    "\n",
    "df = df.drop(invalid_index)\n",
    "print('Row count = %d' % len(df))"
   ]
  },
  {
   "cell_type": "markdown",
   "metadata": {},
   "source": [
    "# Extract basic features"
   ]
  },
  {
   "cell_type": "code",
   "execution_count": 23,
   "metadata": {},
   "outputs": [
    {
     "data": {
      "text/html": [
       "<div>\n",
       "<style scoped>\n",
       "    .dataframe tbody tr th:only-of-type {\n",
       "        vertical-align: middle;\n",
       "    }\n",
       "\n",
       "    .dataframe tbody tr th {\n",
       "        vertical-align: top;\n",
       "    }\n",
       "\n",
       "    .dataframe thead th {\n",
       "        text-align: right;\n",
       "    }\n",
       "</style>\n",
       "<table border=\"1\" class=\"dataframe\">\n",
       "  <thead>\n",
       "    <tr style=\"text-align: right;\">\n",
       "      <th></th>\n",
       "      <th>open</th>\n",
       "      <th>high</th>\n",
       "      <th>low</th>\n",
       "      <th>close</th>\n",
       "      <th>volume</th>\n",
       "      <th>hour</th>\n",
       "    </tr>\n",
       "    <tr>\n",
       "      <th>time</th>\n",
       "      <th></th>\n",
       "      <th></th>\n",
       "      <th></th>\n",
       "      <th></th>\n",
       "      <th></th>\n",
       "      <th></th>\n",
       "    </tr>\n",
       "  </thead>\n",
       "  <tbody>\n",
       "    <tr>\n",
       "      <th>2019-05-17 16:00:00</th>\n",
       "      <td>1.11651</td>\n",
       "      <td>1.11694</td>\n",
       "      <td>1.11640</td>\n",
       "      <td>1.11647</td>\n",
       "      <td>12190.32</td>\n",
       "      <td>16</td>\n",
       "    </tr>\n",
       "    <tr>\n",
       "      <th>2019-05-17 17:00:00</th>\n",
       "      <td>1.11646</td>\n",
       "      <td>1.11670</td>\n",
       "      <td>1.11614</td>\n",
       "      <td>1.11650</td>\n",
       "      <td>12731.28</td>\n",
       "      <td>17</td>\n",
       "    </tr>\n",
       "    <tr>\n",
       "      <th>2019-05-17 18:00:00</th>\n",
       "      <td>1.11649</td>\n",
       "      <td>1.11649</td>\n",
       "      <td>1.11593</td>\n",
       "      <td>1.11593</td>\n",
       "      <td>8851.12</td>\n",
       "      <td>18</td>\n",
       "    </tr>\n",
       "    <tr>\n",
       "      <th>2019-05-17 19:00:00</th>\n",
       "      <td>1.11593</td>\n",
       "      <td>1.11670</td>\n",
       "      <td>1.11592</td>\n",
       "      <td>1.11607</td>\n",
       "      <td>17097.71</td>\n",
       "      <td>19</td>\n",
       "    </tr>\n",
       "    <tr>\n",
       "      <th>2019-05-17 20:00:00</th>\n",
       "      <td>1.11606</td>\n",
       "      <td>1.11613</td>\n",
       "      <td>1.11554</td>\n",
       "      <td>1.11582</td>\n",
       "      <td>4685.08</td>\n",
       "      <td>20</td>\n",
       "    </tr>\n",
       "  </tbody>\n",
       "</table>\n",
       "</div>"
      ],
      "text/plain": [
       "                        open     high      low    close    volume  hour\n",
       "time                                                                   \n",
       "2019-05-17 16:00:00  1.11651  1.11694  1.11640  1.11647  12190.32    16\n",
       "2019-05-17 17:00:00  1.11646  1.11670  1.11614  1.11650  12731.28    17\n",
       "2019-05-17 18:00:00  1.11649  1.11649  1.11593  1.11593   8851.12    18\n",
       "2019-05-17 19:00:00  1.11593  1.11670  1.11592  1.11607  17097.71    19\n",
       "2019-05-17 20:00:00  1.11606  1.11613  1.11554  1.11582   4685.08    20"
      ]
     },
     "execution_count": 23,
     "metadata": {},
     "output_type": "execute_result"
    }
   ],
   "source": [
    "# hour\n",
    "time = pd.Series(df.index, index=df.index)\n",
    "hours = time.apply(lambda x: x.hour)\n",
    "df['hour'] = hours\n",
    "df.tail()"
   ]
  },
  {
   "cell_type": "code",
   "execution_count": 24,
   "metadata": {},
   "outputs": [],
   "source": [
    "# function to calculate pips\n",
    "def pip(price=None, _abs=False):\n",
    "    \n",
    "    pip_unit = 0.0001\n",
    "    if price:\n",
    "        price = float(price)\n",
    "        if _abs:\n",
    "            price = abs(price)\n",
    "        return (price / pip_unit)\n",
    "\n",
    "    return pip_unit"
   ]
  },
  {
   "cell_type": "code",
   "execution_count": 25,
   "metadata": {},
   "outputs": [
    {
     "data": {
      "text/html": [
       "<div>\n",
       "<style scoped>\n",
       "    .dataframe tbody tr th:only-of-type {\n",
       "        vertical-align: middle;\n",
       "    }\n",
       "\n",
       "    .dataframe tbody tr th {\n",
       "        vertical-align: top;\n",
       "    }\n",
       "\n",
       "    .dataframe thead th {\n",
       "        text-align: right;\n",
       "    }\n",
       "</style>\n",
       "<table border=\"1\" class=\"dataframe\">\n",
       "  <thead>\n",
       "    <tr style=\"text-align: right;\">\n",
       "      <th></th>\n",
       "      <th>open</th>\n",
       "      <th>high</th>\n",
       "      <th>low</th>\n",
       "      <th>close</th>\n",
       "      <th>volume</th>\n",
       "      <th>hour</th>\n",
       "      <th>volatility</th>\n",
       "    </tr>\n",
       "    <tr>\n",
       "      <th>time</th>\n",
       "      <th></th>\n",
       "      <th></th>\n",
       "      <th></th>\n",
       "      <th></th>\n",
       "      <th></th>\n",
       "      <th></th>\n",
       "      <th></th>\n",
       "    </tr>\n",
       "  </thead>\n",
       "  <tbody>\n",
       "    <tr>\n",
       "      <th>2019-05-17 16:00:00</th>\n",
       "      <td>1.11651</td>\n",
       "      <td>1.11694</td>\n",
       "      <td>1.11640</td>\n",
       "      <td>1.11647</td>\n",
       "      <td>12190.32</td>\n",
       "      <td>16</td>\n",
       "      <td>5.4</td>\n",
       "    </tr>\n",
       "    <tr>\n",
       "      <th>2019-05-17 17:00:00</th>\n",
       "      <td>1.11646</td>\n",
       "      <td>1.11670</td>\n",
       "      <td>1.11614</td>\n",
       "      <td>1.11650</td>\n",
       "      <td>12731.28</td>\n",
       "      <td>17</td>\n",
       "      <td>5.6</td>\n",
       "    </tr>\n",
       "    <tr>\n",
       "      <th>2019-05-17 18:00:00</th>\n",
       "      <td>1.11649</td>\n",
       "      <td>1.11649</td>\n",
       "      <td>1.11593</td>\n",
       "      <td>1.11593</td>\n",
       "      <td>8851.12</td>\n",
       "      <td>18</td>\n",
       "      <td>5.6</td>\n",
       "    </tr>\n",
       "    <tr>\n",
       "      <th>2019-05-17 19:00:00</th>\n",
       "      <td>1.11593</td>\n",
       "      <td>1.11670</td>\n",
       "      <td>1.11592</td>\n",
       "      <td>1.11607</td>\n",
       "      <td>17097.71</td>\n",
       "      <td>19</td>\n",
       "      <td>7.8</td>\n",
       "    </tr>\n",
       "    <tr>\n",
       "      <th>2019-05-17 20:00:00</th>\n",
       "      <td>1.11606</td>\n",
       "      <td>1.11613</td>\n",
       "      <td>1.11554</td>\n",
       "      <td>1.11582</td>\n",
       "      <td>4685.08</td>\n",
       "      <td>20</td>\n",
       "      <td>5.9</td>\n",
       "    </tr>\n",
       "  </tbody>\n",
       "</table>\n",
       "</div>"
      ],
      "text/plain": [
       "                        open     high      low    close    volume  hour  \\\n",
       "time                                                                      \n",
       "2019-05-17 16:00:00  1.11651  1.11694  1.11640  1.11647  12190.32    16   \n",
       "2019-05-17 17:00:00  1.11646  1.11670  1.11614  1.11650  12731.28    17   \n",
       "2019-05-17 18:00:00  1.11649  1.11649  1.11593  1.11593   8851.12    18   \n",
       "2019-05-17 19:00:00  1.11593  1.11670  1.11592  1.11607  17097.71    19   \n",
       "2019-05-17 20:00:00  1.11606  1.11613  1.11554  1.11582   4685.08    20   \n",
       "\n",
       "                     volatility  \n",
       "time                             \n",
       "2019-05-17 16:00:00         5.4  \n",
       "2019-05-17 17:00:00         5.6  \n",
       "2019-05-17 18:00:00         5.6  \n",
       "2019-05-17 19:00:00         7.8  \n",
       "2019-05-17 20:00:00         5.9  "
      ]
     },
     "execution_count": 25,
     "metadata": {},
     "output_type": "execute_result"
    }
   ],
   "source": [
    "volatility = df['high'] - df['low']\n",
    "volatility = volatility.apply(lambda x: pip(x))\n",
    "volatility\n",
    "df['volatility'] = volatility\n",
    "df.tail()"
   ]
  },
  {
   "cell_type": "code",
   "execution_count": 27,
   "metadata": {},
   "outputs": [
    {
     "data": {
      "text/plain": [
       "count    12761.000000\n",
       "mean        14.090604\n",
       "std          9.734775\n",
       "min          0.800000\n",
       "25%          7.600000\n",
       "50%         11.800000\n",
       "75%         17.700000\n",
       "max        173.100000\n",
       "Name: volatility, dtype: float64"
      ]
     },
     "execution_count": 27,
     "metadata": {},
     "output_type": "execute_result"
    }
   ],
   "source": [
    "df.volatility.describe()"
   ]
  },
  {
   "cell_type": "code",
   "execution_count": 33,
   "metadata": {},
   "outputs": [
    {
     "data": {
      "text/plain": [
       "<matplotlib.axes._subplots.AxesSubplot at 0x7f6dbfdd0160>"
      ]
     },
     "execution_count": 33,
     "metadata": {},
     "output_type": "execute_result"
    },
    {
     "data": {
      "image/png": "[encoded data removed]",
      "text/plain": [
       "<Figure size 1152x432 with 1 Axes>"
      ]
     },
     "metadata": {
      "needs_background": "light"
     },
     "output_type": "display_data"
    }
   ],
   "source": [
    "plt.title(r'1 Hour volatility of EURUSD')\n",
    "df[df['volatility'] < 70].volatility.hist(bins=32,label='')"
   ]
  },
  {
   "cell_type": "code",
   "execution_count": 39,
   "metadata": {},
   "outputs": [
    {
     "name": "stdout",
     "output_type": "stream",
     "text": [
      "Row with no volume = 0, 0.00%\n"
     ]
    },
    {
     "data": {
      "text/plain": [
       "time\n",
       "2019-02-14 09:00:00    252673.5469\n",
       "2018-02-22 14:00:00    165915.0156\n",
       "2017-09-22 13:00:00    163118.6563\n",
       "2018-03-09 14:00:00    121364.8125\n",
       "2018-11-23 08:00:00    116665.4297\n",
       "Name: volume, dtype: float64"
      ]
     },
     "execution_count": 39,
     "metadata": {},
     "output_type": "execute_result"
    }
   ],
   "source": [
    "no_volume_len=len(df[df['volume']==0])\n",
    "print('Row with no volume = %s, %.2f%%'% (no_volume_len,no_volume_len/len(df)*100))\n",
    "df.volume.sort_values(ascending=False).head()"
   ]
  },
  {
   "cell_type": "code",
   "execution_count": 12,
   "metadata": {},
   "outputs": [],
   "source": [
    "# Calculate first and third quartile\n",
    "first_quartile = df['volume'].describe()['25%']\n",
    "third_quartile = df['volume'].describe()['75%']\n",
    "\n",
    "# Interquartile range\n",
    "iqr = third_quartile - first_quartile\n",
    "\n",
    "# Remove outliers\n",
    "dfv = df[(df['volume'] > 0) &\n",
    "            (df['volume'] < (third_quartile + 3 * iqr))]"
   ]
  },
  {
   "cell_type": "code",
   "execution_count": 40,
   "metadata": {},
   "outputs": [
    {
     "data": {
      "text/plain": [
       "<matplotlib.axes._subplots.AxesSubplot at 0x7f6dbfb84a90>"
      ]
     },
     "execution_count": 40,
     "metadata": {},
     "output_type": "execute_result"
    },
    {
     "data": {
      "image/png": "[encoded data removed]",
      "text/plain": [
       "<Figure size 1152x432 with 1 Axes>"
      ]
     },
     "metadata": {
      "needs_background": "light"
     },
     "output_type": "display_data"
    }
   ],
   "source": [
    "# drop that outlier and draw hist\n",
    "dfv.volume.hist(bins=100)"
   ]
  },
  {
   "cell_type": "markdown",
   "metadata": {},
   "source": [
    "# Hourly analysis\n"
   ]
  },
  {
   "cell_type": "code",
   "execution_count": 41,
   "metadata": {
    "scrolled": true
   },
   "outputs": [],
   "source": [
    "index = []\n",
    "volume_data = []\n",
    "volatility_data = []\n",
    "\n",
    "for i in range(24):\n",
    "    volume_desc = df[(df.hour == i)].volume.describe()\n",
    "    volatility_desc = df[(df.hour == i)].volatility.describe()\n",
    "    volume_sum=df[(df.hour == i)].volatility.sum()\n",
    "    \n",
    "    volume_data.append((i,volume_desc['mean'], volume_desc['std'], volume_desc['min'], volume_desc['25%'], volume_desc['50%'], volume_desc['75%'], volume_desc['max'],volume_sum))\n",
    "    volatility_data.append((i,volatility_desc['mean'], volatility_desc['std'], volatility_desc['min'], volatility_desc['25%'], volatility_desc['50%'], volatility_desc['75%'], volatility_desc['max']))\n",
    "volume_df = pd.DataFrame(volume_data, columns=['hour','mean', 'std', 'min', '25%', '50%', '75%', 'max','sum'])\n",
    "volume_df = volume_df.set_index('hour')\n",
    "volatility_df = pd.DataFrame(volatility_data, columns=['hour','mean', 'std', 'min', '25%', '50%', '75%', 'max'])\n",
    "volatility_df = volatility_df.set_index('hour')"
   ]
  },
  {
   "cell_type": "code",
   "execution_count": 42,
   "metadata": {},
   "outputs": [
    {
     "data": {
      "text/html": [
       "<div>\n",
       "<style scoped>\n",
       "    .dataframe tbody tr th:only-of-type {\n",
       "        vertical-align: middle;\n",
       "    }\n",
       "\n",
       "    .dataframe tbody tr th {\n",
       "        vertical-align: top;\n",
       "    }\n",
       "\n",
       "    .dataframe thead th {\n",
       "        text-align: right;\n",
       "    }\n",
       "</style>\n",
       "<table border=\"1\" class=\"dataframe\">\n",
       "  <thead>\n",
       "    <tr style=\"text-align: right;\">\n",
       "      <th></th>\n",
       "      <th>mean</th>\n",
       "      <th>std</th>\n",
       "      <th>min</th>\n",
       "      <th>25%</th>\n",
       "      <th>50%</th>\n",
       "      <th>75%</th>\n",
       "      <th>max</th>\n",
       "      <th>sum</th>\n",
       "    </tr>\n",
       "    <tr>\n",
       "      <th>hour</th>\n",
       "      <th></th>\n",
       "      <th></th>\n",
       "      <th></th>\n",
       "      <th></th>\n",
       "      <th></th>\n",
       "      <th></th>\n",
       "      <th></th>\n",
       "      <th></th>\n",
       "    </tr>\n",
       "  </thead>\n",
       "  <tbody>\n",
       "    <tr>\n",
       "      <th>0</th>\n",
       "      <td>7334.668837</td>\n",
       "      <td>2284.918410</td>\n",
       "      <td>623.26</td>\n",
       "      <td>5902.2300</td>\n",
       "      <td>7080.9302</td>\n",
       "      <td>8599.6396</td>\n",
       "      <td>18460.6900</td>\n",
       "      <td>5813.8</td>\n",
       "    </tr>\n",
       "    <tr>\n",
       "      <th>1</th>\n",
       "      <td>7917.911630</td>\n",
       "      <td>2647.115303</td>\n",
       "      <td>340.87</td>\n",
       "      <td>6189.5698</td>\n",
       "      <td>7653.5698</td>\n",
       "      <td>9361.1904</td>\n",
       "      <td>19531.6699</td>\n",
       "      <td>5971.9</td>\n",
       "    </tr>\n",
       "    <tr>\n",
       "      <th>2</th>\n",
       "      <td>6863.439144</td>\n",
       "      <td>2495.402259</td>\n",
       "      <td>292.24</td>\n",
       "      <td>5153.1099</td>\n",
       "      <td>6441.0498</td>\n",
       "      <td>8121.8799</td>\n",
       "      <td>20431.8906</td>\n",
       "      <td>4939.2</td>\n",
       "    </tr>\n",
       "  </tbody>\n",
       "</table>\n",
       "</div>"
      ],
      "text/plain": [
       "             mean          std     min        25%        50%        75%  \\\n",
       "hour                                                                      \n",
       "0     7334.668837  2284.918410  623.26  5902.2300  7080.9302  8599.6396   \n",
       "1     7917.911630  2647.115303  340.87  6189.5698  7653.5698  9361.1904   \n",
       "2     6863.439144  2495.402259  292.24  5153.1099  6441.0498  8121.8799   \n",
       "\n",
       "             max     sum  \n",
       "hour                      \n",
       "0     18460.6900  5813.8  \n",
       "1     19531.6699  5971.9  \n",
       "2     20431.8906  4939.2  "
      ]
     },
     "execution_count": 42,
     "metadata": {},
     "output_type": "execute_result"
    }
   ],
   "source": [
    "volume_df.head(3)"
   ]
  },
  {
   "cell_type": "code",
   "execution_count": 44,
   "metadata": {},
   "outputs": [
    {
     "data": {
      "text/plain": [
       "Text(0.5, 1.0, 'EURUSD Hourly volume')"
      ]
     },
     "execution_count": 44,
     "metadata": {},
     "output_type": "execute_result"
    },
    {
     "data": {
      "image/png": "[encoded data removed]",
      "text/plain": [
       "<Figure size 576x576 with 1 Axes>"
      ]
     },
     "metadata": {
      "needs_background": "light"
     },
     "output_type": "display_data"
    }
   ],
   "source": [
    "# Hourly volume\n",
    "figsize(8, 8)\n",
    "\n",
    "plt.bar(volume_df.index, volume_df['sum'], align='center', alpha=0.7)\n",
    "plt.ylabel('Volume')\n",
    "plt.xticks(volume_df.index, range(24))\n",
    "plt.title('EURUSD Hourly volume')"
   ]
  },
  {
   "cell_type": "code",
   "execution_count": 45,
   "metadata": {
    "scrolled": false
   },
   "outputs": [
    {
     "data": {
      "text/plain": [
       "Text(0.5, 1.0, 'EURUSD Hourly Volatility')"
      ]
     },
     "execution_count": 45,
     "metadata": {},
     "output_type": "execute_result"
    },
    {
     "data": {
      "image/png": "[encoded data removed]",
      "text/plain": [
       "<Figure size 576x576 with 1 Axes>"
      ]
     },
     "metadata": {
      "needs_background": "light"
     },
     "output_type": "display_data"
    }
   ],
   "source": [
    "# Hourly volatility\n",
    "figsize(8, 8)\n",
    "\n",
    "plt.bar(volatility_df.index, volatility_df['mean'], align='center', alpha=0.7)\n",
    "plt.ylabel('Volatility')\n",
    "plt.xticks(volatility_df.index, range(24))\n",
    "plt.title('EURUSD Hourly Volatility')"
   ]
  },
  {
   "cell_type": "markdown",
   "metadata": {},
   "source": [
    "# Save data for next step"
   ]
  },
  {
   "cell_type": "code",
   "execution_count": 46,
   "metadata": {},
   "outputs": [],
   "source": [
    "df.to_csv('data/EURUSD_Candlestick_1_Hour_ASK_01.05.2017-18.05.2019_cleaned.csv', float_format='%.5f')"
   ]
  }
 ],
 "metadata": {
  "hide_input": false,
  "kernelspec": {
   "display_name": "Python 3",
   "language": "python",
   "name": "python3"
  },
  "language_info": {
   "codemirror_mode": {
    "name": "ipython",
    "version": 3
   },
   "file_extension": ".py",
   "mimetype": "text/x-python",
   "name": "python",
   "nbconvert_exporter": "python",
   "pygments_lexer": "ipython3",
   "version": "3.7.1"
  }
 },
 "nbformat": 4,
 "nbformat_minor": 2
}
