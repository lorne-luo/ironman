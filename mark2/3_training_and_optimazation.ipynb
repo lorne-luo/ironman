{
 "cells": [
  {
   "cell_type": "markdown",
   "metadata": {},
   "source": [
    "# Step 3. Data training and evaluate models\n",
    "Compare several machine learning models on a performance metric\n",
    "\n",
    "Perform hyperparameter tuning on the best model to optimize it for the problem\n",
    "\n",
    "Step 1. [Data exploration](/notebooks/forex/mark2/1_data_explore.ipynb)\n",
    "\n",
    "Step 2. [Feature engineering](/notebooks/forex/mark2/2_feature_engineering.ipynb)\n",
    "\n",
    "Step 3. **Data training and models evaluation**"
   ]
  },
  {
   "cell_type": "markdown",
   "metadata": {},
   "source": [
    "# Import"
   ]
  },
  {
   "cell_type": "code",
   "execution_count": 70,
   "metadata": {},
   "outputs": [],
   "source": [
    "from math import sqrt\n",
    "from datetime import datetime\n",
    "from dateutil.relativedelta import relativedelta\n",
    "import talib as ta\n",
    "\n",
    "import numpy as np\n",
    "import pandas as pd\n",
    "import matplotlib.pyplot as plt\n",
    "%matplotlib inline\n",
    "\n",
    "# Set default font size\n",
    "plt.rcParams['font.size'] = 24\n",
    "\n",
    "# Internal ipython tool for setting figure size\n",
    "from IPython.core.pylabtools import figsize\n",
    "from sklearn.preprocessing import Imputer, MinMaxScaler\n",
    "\n",
    "\n",
    "csv_path = 'data/EURUSD_Candlestick_1_Hour_ASK_01.05.2017-18.05.2019_featured.csv'"
   ]
  },
  {
   "cell_type": "markdown",
   "metadata": {},
   "source": [
    "# Load data"
   ]
  },
  {
   "cell_type": "code",
   "execution_count": 98,
   "metadata": {
    "scrolled": true
   },
   "outputs": [
    {
     "name": "stdout",
     "output_type": "stream",
     "text": [
      "12761\n"
     ]
    },
    {
     "data": {
      "text/html": [
       "<div>\n",
       "<style scoped>\n",
       "    .dataframe tbody tr th:only-of-type {\n",
       "        vertical-align: middle;\n",
       "    }\n",
       "\n",
       "    .dataframe tbody tr th {\n",
       "        vertical-align: top;\n",
       "    }\n",
       "\n",
       "    .dataframe thead th {\n",
       "        text-align: right;\n",
       "    }\n",
       "</style>\n",
       "<table border=\"1\" class=\"dataframe\">\n",
       "  <thead>\n",
       "    <tr style=\"text-align: right;\">\n",
       "      <th></th>\n",
       "      <th>time</th>\n",
       "      <th>open</th>\n",
       "      <th>high</th>\n",
       "      <th>low</th>\n",
       "      <th>close</th>\n",
       "      <th>volume</th>\n",
       "      <th>hour</th>\n",
       "      <th>volatility</th>\n",
       "      <th>rsi</th>\n",
       "      <th>stoch_slowk</th>\n",
       "      <th>...</th>\n",
       "      <th>cci</th>\n",
       "      <th>ultosc</th>\n",
       "      <th>hour_sin</th>\n",
       "      <th>hour_cos</th>\n",
       "      <th>max_buy</th>\n",
       "      <th>max_buy_count</th>\n",
       "      <th>max_sell</th>\n",
       "      <th>max_sell_count</th>\n",
       "      <th>is_buy_profit</th>\n",
       "      <th>is_sell_profit</th>\n",
       "    </tr>\n",
       "  </thead>\n",
       "  <tbody>\n",
       "    <tr>\n",
       "      <th>12756</th>\n",
       "      <td>2019-05-17 16:00:00</td>\n",
       "      <td>1.11651</td>\n",
       "      <td>1.11694</td>\n",
       "      <td>1.11640</td>\n",
       "      <td>1.11647</td>\n",
       "      <td>12190.32</td>\n",
       "      <td>16</td>\n",
       "      <td>5.4</td>\n",
       "      <td>40.01878</td>\n",
       "      <td>42.70297</td>\n",
       "      <td>...</td>\n",
       "      <td>-68.96251</td>\n",
       "      <td>52.41159</td>\n",
       "      <td>-0.86603</td>\n",
       "      <td>-0.50000</td>\n",
       "      <td>2.3</td>\n",
       "      <td>3</td>\n",
       "      <td>-9.3</td>\n",
       "      <td>4</td>\n",
       "      <td>False</td>\n",
       "      <td>False</td>\n",
       "    </tr>\n",
       "    <tr>\n",
       "      <th>12757</th>\n",
       "      <td>2019-05-17 17:00:00</td>\n",
       "      <td>1.11646</td>\n",
       "      <td>1.11670</td>\n",
       "      <td>1.11614</td>\n",
       "      <td>1.11650</td>\n",
       "      <td>12731.28</td>\n",
       "      <td>17</td>\n",
       "      <td>5.6</td>\n",
       "      <td>40.32716</td>\n",
       "      <td>44.04303</td>\n",
       "      <td>...</td>\n",
       "      <td>-75.39102</td>\n",
       "      <td>51.01559</td>\n",
       "      <td>-0.96593</td>\n",
       "      <td>-0.25882</td>\n",
       "      <td>2.0</td>\n",
       "      <td>1</td>\n",
       "      <td>-9.6</td>\n",
       "      <td>3</td>\n",
       "      <td>False</td>\n",
       "      <td>False</td>\n",
       "    </tr>\n",
       "    <tr>\n",
       "      <th>12758</th>\n",
       "      <td>2019-05-17 18:00:00</td>\n",
       "      <td>1.11649</td>\n",
       "      <td>1.11649</td>\n",
       "      <td>1.11593</td>\n",
       "      <td>1.11593</td>\n",
       "      <td>8851.12</td>\n",
       "      <td>18</td>\n",
       "      <td>5.6</td>\n",
       "      <td>36.48866</td>\n",
       "      <td>35.16583</td>\n",
       "      <td>...</td>\n",
       "      <td>-101.13716</td>\n",
       "      <td>42.50975</td>\n",
       "      <td>-1.00000</td>\n",
       "      <td>-0.00000</td>\n",
       "      <td>7.7</td>\n",
       "      <td>2</td>\n",
       "      <td>-3.9</td>\n",
       "      <td>2</td>\n",
       "      <td>False</td>\n",
       "      <td>False</td>\n",
       "    </tr>\n",
       "    <tr>\n",
       "      <th>12759</th>\n",
       "      <td>2019-05-17 19:00:00</td>\n",
       "      <td>1.11593</td>\n",
       "      <td>1.11670</td>\n",
       "      <td>1.11592</td>\n",
       "      <td>1.11607</td>\n",
       "      <td>17097.71</td>\n",
       "      <td>19</td>\n",
       "      <td>7.8</td>\n",
       "      <td>38.04841</td>\n",
       "      <td>27.98237</td>\n",
       "      <td>...</td>\n",
       "      <td>-78.26676</td>\n",
       "      <td>38.94281</td>\n",
       "      <td>-0.96593</td>\n",
       "      <td>0.25882</td>\n",
       "      <td>0.6</td>\n",
       "      <td>1</td>\n",
       "      <td>-5.3</td>\n",
       "      <td>1</td>\n",
       "      <td>False</td>\n",
       "      <td>False</td>\n",
       "    </tr>\n",
       "    <tr>\n",
       "      <th>12760</th>\n",
       "      <td>2019-05-17 20:00:00</td>\n",
       "      <td>1.11606</td>\n",
       "      <td>1.11613</td>\n",
       "      <td>1.11554</td>\n",
       "      <td>1.11582</td>\n",
       "      <td>4685.08</td>\n",
       "      <td>20</td>\n",
       "      <td>5.9</td>\n",
       "      <td>36.33250</td>\n",
       "      <td>27.23266</td>\n",
       "      <td>...</td>\n",
       "      <td>-121.55542</td>\n",
       "      <td>42.78488</td>\n",
       "      <td>-0.86603</td>\n",
       "      <td>0.50000</td>\n",
       "      <td>0.0</td>\n",
       "      <td>0</td>\n",
       "      <td>0.0</td>\n",
       "      <td>0</td>\n",
       "      <td>False</td>\n",
       "      <td>False</td>\n",
       "    </tr>\n",
       "  </tbody>\n",
       "</table>\n",
       "<p>5 rows × 25 columns</p>\n",
       "</div>"
      ],
      "text/plain": [
       "                      time     open     high      low    close    volume  \\\n",
       "12756  2019-05-17 16:00:00  1.11651  1.11694  1.11640  1.11647  12190.32   \n",
       "12757  2019-05-17 17:00:00  1.11646  1.11670  1.11614  1.11650  12731.28   \n",
       "12758  2019-05-17 18:00:00  1.11649  1.11649  1.11593  1.11593   8851.12   \n",
       "12759  2019-05-17 19:00:00  1.11593  1.11670  1.11592  1.11607  17097.71   \n",
       "12760  2019-05-17 20:00:00  1.11606  1.11613  1.11554  1.11582   4685.08   \n",
       "\n",
       "       hour  volatility       rsi  stoch_slowk  ...        cci    ultosc  \\\n",
       "12756    16         5.4  40.01878     42.70297  ...  -68.96251  52.41159   \n",
       "12757    17         5.6  40.32716     44.04303  ...  -75.39102  51.01559   \n",
       "12758    18         5.6  36.48866     35.16583  ... -101.13716  42.50975   \n",
       "12759    19         7.8  38.04841     27.98237  ...  -78.26676  38.94281   \n",
       "12760    20         5.9  36.33250     27.23266  ... -121.55542  42.78488   \n",
       "\n",
       "       hour_sin  hour_cos  max_buy  max_buy_count  max_sell  max_sell_count  \\\n",
       "12756  -0.86603  -0.50000      2.3              3      -9.3               4   \n",
       "12757  -0.96593  -0.25882      2.0              1      -9.6               3   \n",
       "12758  -1.00000  -0.00000      7.7              2      -3.9               2   \n",
       "12759  -0.96593   0.25882      0.6              1      -5.3               1   \n",
       "12760  -0.86603   0.50000      0.0              0       0.0               0   \n",
       "\n",
       "       is_buy_profit  is_sell_profit  \n",
       "12756          False           False  \n",
       "12757          False           False  \n",
       "12758          False           False  \n",
       "12759          False           False  \n",
       "12760          False           False  \n",
       "\n",
       "[5 rows x 25 columns]"
      ]
     },
     "execution_count": 98,
     "metadata": {},
     "output_type": "execute_result"
    }
   ],
   "source": [
    "df = pd.read_csv(csv_path,\n",
    "                 header=0,\n",
    "                 parse_dates=True)\n",
    "df.set_index('time')\n",
    "print(len(df))\n",
    "df.tail()"
   ]
  },
  {
   "cell_type": "markdown",
   "metadata": {},
   "source": [
    "# Scaling Features"
   ]
  },
  {
   "cell_type": "code",
   "execution_count": 99,
   "metadata": {},
   "outputs": [
    {
     "data": {
      "text/plain": [
       "count    12748.000000\n",
       "mean         1.338446\n",
       "std        115.346233\n",
       "min       -350.000000\n",
       "25%        -83.736030\n",
       "50%          4.264375\n",
       "75%         87.054832\n",
       "max        350.000000\n",
       "Name: cci, dtype: float64"
      ]
     },
     "execution_count": 99,
     "metadata": {},
     "output_type": "execute_result"
    }
   ],
   "source": [
    "# max cci = 350\n",
    "df['cci'] = df['cci'].apply(lambda x: 350 if x > 350 else x)\n",
    "df['cci'] = df['cci'].apply(lambda x: -350 if x < -350 else x)\n",
    "\n",
    "df['cci'].describe()"
   ]
  },
  {
   "cell_type": "code",
   "execution_count": 100,
   "metadata": {},
   "outputs": [],
   "source": [
    "df['rsi'] = df['rsi'] / 100\n",
    "df['stoch_slowk'] = df['stoch_slowk'] / 100\n",
    "df['stoch_slowd'] = df['stoch_slowd'] / 100\n",
    "df['stochrsi_fastk'] = df['stochrsi_fastk'] / 100\n",
    "df['stochrsi_fastd'] = df['stochrsi_fastd'] / 100\n",
    "df['adx'] = df['adx'] / 100\n",
    "df['williams_r'] = (df['williams_r'] + 100) / 100\n",
    "df['cci'] = df['cci'] + 350\n",
    "df['cci'] = df['cci'] / 700\n",
    "df['ultosc'] = df['ultosc'] / 100"
   ]
  },
  {
   "cell_type": "code",
   "execution_count": 101,
   "metadata": {},
   "outputs": [
    {
     "name": "stdout",
     "output_type": "stream",
     "text": [
      "rsi 0.12690590000000002 0.9205115\n",
      "stoch_slowk 0.0264704 0.9862359\n",
      "stoch_slowd 0.033708999999999996 0.9791138\n",
      "stochrsi_fastk 0.0 1.0\n",
      "stochrsi_fastd -0.0 1.0\n",
      "adx 0.0665423 0.7627457\n",
      "williams_r 0.0 1.0\n",
      "cci 0.0 1.0\n",
      "ultosc 0.1643647 0.8514667\n"
     ]
    }
   ],
   "source": [
    "for x in [\n",
    "        'rsi', 'stoch_slowk', 'stoch_slowd', 'stochrsi_fastk',\n",
    "        'stochrsi_fastd', 'adx', 'williams_r', 'cci', 'ultosc'\n",
    "]:\n",
    "    print(x,df[x].min(), df[x].max())"
   ]
  },
  {
   "cell_type": "markdown",
   "metadata": {},
   "source": [
    "# Traning data and test"
   ]
  },
  {
   "cell_type": "code",
   "execution_count": 119,
   "metadata": {},
   "outputs": [
    {
     "data": {
      "text/plain": [
       "Index(['time', 'open', 'high', 'low', 'close', 'volume', 'hour', 'volatility',\n",
       "       'rsi', 'stoch_slowk', 'stoch_slowd', 'stochrsi_fastk', 'stochrsi_fastd',\n",
       "       'adx', 'williams_r', 'cci', 'ultosc', 'hour_sin', 'hour_cos', 'max_buy',\n",
       "       'max_buy_count', 'max_sell', 'max_sell_count', 'is_buy_profit',\n",
       "       'is_sell_profit'],\n",
       "      dtype='object')"
      ]
     },
     "execution_count": 119,
     "metadata": {},
     "output_type": "execute_result"
    }
   ],
   "source": [
    "df.columns"
   ]
  },
  {
   "cell_type": "code",
   "execution_count": 136,
   "metadata": {},
   "outputs": [
    {
     "name": "stdout",
     "output_type": "stream",
     "text": [
      "582 582 582\n"
     ]
    },
    {
     "name": "stderr",
     "output_type": "stream",
     "text": [
      "/opt/miniconda3/lib/python3.7/site-packages/ipykernel_launcher.py:19: FutureWarning: Method .as_matrix will be removed in a future version. Use .values instead.\n"
     ]
    },
    {
     "data": {
      "text/html": [
       "<div>\n",
       "<style scoped>\n",
       "    .dataframe tbody tr th:only-of-type {\n",
       "        vertical-align: middle;\n",
       "    }\n",
       "\n",
       "    .dataframe tbody tr th {\n",
       "        vertical-align: top;\n",
       "    }\n",
       "\n",
       "    .dataframe thead th {\n",
       "        text-align: right;\n",
       "    }\n",
       "</style>\n",
       "<table border=\"1\" class=\"dataframe\">\n",
       "  <thead>\n",
       "    <tr style=\"text-align: right;\">\n",
       "      <th></th>\n",
       "      <th>time</th>\n",
       "      <th>open</th>\n",
       "      <th>high</th>\n",
       "      <th>low</th>\n",
       "      <th>close</th>\n",
       "      <th>volume</th>\n",
       "      <th>hour</th>\n",
       "      <th>volatility</th>\n",
       "      <th>rsi</th>\n",
       "      <th>stoch_slowk</th>\n",
       "      <th>...</th>\n",
       "      <th>cci</th>\n",
       "      <th>ultosc</th>\n",
       "      <th>hour_sin</th>\n",
       "      <th>hour_cos</th>\n",
       "      <th>max_buy</th>\n",
       "      <th>max_buy_count</th>\n",
       "      <th>max_sell</th>\n",
       "      <th>max_sell_count</th>\n",
       "      <th>is_buy_profit</th>\n",
       "      <th>is_sell_profit</th>\n",
       "    </tr>\n",
       "  </thead>\n",
       "  <tbody>\n",
       "    <tr>\n",
       "      <th>10762</th>\n",
       "      <td>2019-01-22 15:00:00</td>\n",
       "      <td>1.13556</td>\n",
       "      <td>1.13649</td>\n",
       "      <td>1.13546</td>\n",
       "      <td>1.13565</td>\n",
       "      <td>29795.2891</td>\n",
       "      <td>15</td>\n",
       "      <td>10.3</td>\n",
       "      <td>0.440455</td>\n",
       "      <td>0.477547</td>\n",
       "      <td>...</td>\n",
       "      <td>0.510746</td>\n",
       "      <td>0.473586</td>\n",
       "      <td>-0.70711</td>\n",
       "      <td>-0.70711</td>\n",
       "      <td>17.6</td>\n",
       "      <td>12</td>\n",
       "      <td>-4.4</td>\n",
       "      <td>3</td>\n",
       "      <td>False</td>\n",
       "      <td>False</td>\n",
       "    </tr>\n",
       "    <tr>\n",
       "      <th>10780</th>\n",
       "      <td>2019-01-23 09:00:00</td>\n",
       "      <td>1.13623</td>\n",
       "      <td>1.13648</td>\n",
       "      <td>1.13537</td>\n",
       "      <td>1.13560</td>\n",
       "      <td>20990.8594</td>\n",
       "      <td>9</td>\n",
       "      <td>11.1</td>\n",
       "      <td>0.420349</td>\n",
       "      <td>0.632192</td>\n",
       "      <td>...</td>\n",
       "      <td>0.326274</td>\n",
       "      <td>0.552093</td>\n",
       "      <td>0.70711</td>\n",
       "      <td>-0.70711</td>\n",
       "      <td>38.7</td>\n",
       "      <td>12</td>\n",
       "      <td>-5.2</td>\n",
       "      <td>3</td>\n",
       "      <td>False</td>\n",
       "      <td>False</td>\n",
       "    </tr>\n",
       "    <tr>\n",
       "      <th>10781</th>\n",
       "      <td>2019-01-23 10:00:00</td>\n",
       "      <td>1.13561</td>\n",
       "      <td>1.13596</td>\n",
       "      <td>1.13512</td>\n",
       "      <td>1.13577</td>\n",
       "      <td>20105.0898</td>\n",
       "      <td>10</td>\n",
       "      <td>8.4</td>\n",
       "      <td>0.440424</td>\n",
       "      <td>0.539686</td>\n",
       "      <td>...</td>\n",
       "      <td>0.264065</td>\n",
       "      <td>0.574536</td>\n",
       "      <td>0.50000</td>\n",
       "      <td>-0.86603</td>\n",
       "      <td>37.0</td>\n",
       "      <td>12</td>\n",
       "      <td>-6.9</td>\n",
       "      <td>2</td>\n",
       "      <td>False</td>\n",
       "      <td>False</td>\n",
       "    </tr>\n",
       "    <tr>\n",
       "      <th>10782</th>\n",
       "      <td>2019-01-23 11:00:00</td>\n",
       "      <td>1.13579</td>\n",
       "      <td>1.13676</td>\n",
       "      <td>1.13577</td>\n",
       "      <td>1.13654</td>\n",
       "      <td>19036.0898</td>\n",
       "      <td>11</td>\n",
       "      <td>9.9</td>\n",
       "      <td>0.521294</td>\n",
       "      <td>0.489248</td>\n",
       "      <td>...</td>\n",
       "      <td>0.488092</td>\n",
       "      <td>0.583990</td>\n",
       "      <td>0.25882</td>\n",
       "      <td>-0.96593</td>\n",
       "      <td>29.3</td>\n",
       "      <td>12</td>\n",
       "      <td>-14.6</td>\n",
       "      <td>4</td>\n",
       "      <td>False</td>\n",
       "      <td>False</td>\n",
       "    </tr>\n",
       "    <tr>\n",
       "      <th>10783</th>\n",
       "      <td>2019-01-23 12:00:00</td>\n",
       "      <td>1.13654</td>\n",
       "      <td>1.13699</td>\n",
       "      <td>1.13618</td>\n",
       "      <td>1.13660</td>\n",
       "      <td>18040.6602</td>\n",
       "      <td>12</td>\n",
       "      <td>8.1</td>\n",
       "      <td>0.527030</td>\n",
       "      <td>0.446316</td>\n",
       "      <td>...</td>\n",
       "      <td>0.565936</td>\n",
       "      <td>0.554779</td>\n",
       "      <td>0.00000</td>\n",
       "      <td>-1.00000</td>\n",
       "      <td>28.7</td>\n",
       "      <td>12</td>\n",
       "      <td>-15.2</td>\n",
       "      <td>3</td>\n",
       "      <td>False</td>\n",
       "      <td>False</td>\n",
       "    </tr>\n",
       "  </tbody>\n",
       "</table>\n",
       "<p>5 rows × 25 columns</p>\n",
       "</div>"
      ],
      "text/plain": [
       "                      time     open     high      low    close      volume  \\\n",
       "10762  2019-01-22 15:00:00  1.13556  1.13649  1.13546  1.13565  29795.2891   \n",
       "10780  2019-01-23 09:00:00  1.13623  1.13648  1.13537  1.13560  20990.8594   \n",
       "10781  2019-01-23 10:00:00  1.13561  1.13596  1.13512  1.13577  20105.0898   \n",
       "10782  2019-01-23 11:00:00  1.13579  1.13676  1.13577  1.13654  19036.0898   \n",
       "10783  2019-01-23 12:00:00  1.13654  1.13699  1.13618  1.13660  18040.6602   \n",
       "\n",
       "       hour  volatility       rsi  stoch_slowk  ...       cci    ultosc  \\\n",
       "10762    15        10.3  0.440455     0.477547  ...  0.510746  0.473586   \n",
       "10780     9        11.1  0.420349     0.632192  ...  0.326274  0.552093   \n",
       "10781    10         8.4  0.440424     0.539686  ...  0.264065  0.574536   \n",
       "10782    11         9.9  0.521294     0.489248  ...  0.488092  0.583990   \n",
       "10783    12         8.1  0.527030     0.446316  ...  0.565936  0.554779   \n",
       "\n",
       "       hour_sin  hour_cos  max_buy  max_buy_count  max_sell  max_sell_count  \\\n",
       "10762  -0.70711  -0.70711     17.6             12      -4.4               3   \n",
       "10780   0.70711  -0.70711     38.7             12      -5.2               3   \n",
       "10781   0.50000  -0.86603     37.0             12      -6.9               2   \n",
       "10782   0.25882  -0.96593     29.3             12     -14.6               4   \n",
       "10783   0.00000  -1.00000     28.7             12     -15.2               3   \n",
       "\n",
       "       is_buy_profit  is_sell_profit  \n",
       "10762          False           False  \n",
       "10780          False           False  \n",
       "10781          False           False  \n",
       "10782          False           False  \n",
       "10783          False           False  \n",
       "\n",
       "[5 rows x 25 columns]"
      ]
     },
     "execution_count": 136,
     "metadata": {},
     "output_type": "execute_result"
    }
   ],
   "source": [
    "df = df.dropna()\n",
    "start_hour = 8\n",
    "end_hour = 16\n",
    "\n",
    "test_df = df[(df['time'] > '2019-01-22 14:00:00') & (df['hour'] > start_hour)\n",
    "             & (df['hour'] < end_hour)]\n",
    "buy_test_y = np.array(test_df['max_buy']).reshape((-1, ))\n",
    "sell_test_y = np.array(test_df['max_sell']).reshape((-1, ))\n",
    "# test_df.drop([\n",
    "#     'time', 'open', 'high', 'low', 'close', 'volume', 'hour', 'volatility',\n",
    "#     'stochrsi_fastk', 'hour_sin', 'hour_cos', 'max_buy', 'max_buy_count',\n",
    "#     'max_sell', 'max_sell_count', 'is_buy_profit', 'is_sell_profit'\n",
    "# ],\n",
    "#              axis=1,\n",
    "#              inplace=True)\n",
    "\n",
    "test_x = test_df.as_matrix(columns=[\n",
    "    'rsi', 'stoch_slowk', 'stoch_slowd', 'stochrsi_fastd', 'adx', 'williams_r',\n",
    "    'cci', 'ultosc'\n",
    "])\n",
    "print(len(test_x), len(buy_test_y), len(sell_test_y))\n",
    "\n",
    "test_df.head()"
   ]
  },
  {
   "cell_type": "code",
   "execution_count": 137,
   "metadata": {
    "scrolled": true
   },
   "outputs": [
    {
     "name": "stdout",
     "output_type": "stream",
     "text": [
      "3128 3128 3128\n"
     ]
    },
    {
     "name": "stderr",
     "output_type": "stream",
     "text": [
      "/opt/miniconda3/lib/python3.7/site-packages/ipykernel_launcher.py:7: FutureWarning: Method .as_matrix will be removed in a future version. Use .values instead.\n",
      "  import sys\n"
     ]
    },
    {
     "data": {
      "text/html": [
       "<div>\n",
       "<style scoped>\n",
       "    .dataframe tbody tr th:only-of-type {\n",
       "        vertical-align: middle;\n",
       "    }\n",
       "\n",
       "    .dataframe tbody tr th {\n",
       "        vertical-align: top;\n",
       "    }\n",
       "\n",
       "    .dataframe thead th {\n",
       "        text-align: right;\n",
       "    }\n",
       "</style>\n",
       "<table border=\"1\" class=\"dataframe\">\n",
       "  <thead>\n",
       "    <tr style=\"text-align: right;\">\n",
       "      <th></th>\n",
       "      <th>time</th>\n",
       "      <th>open</th>\n",
       "      <th>high</th>\n",
       "      <th>low</th>\n",
       "      <th>close</th>\n",
       "      <th>volume</th>\n",
       "      <th>hour</th>\n",
       "      <th>volatility</th>\n",
       "      <th>rsi</th>\n",
       "      <th>stoch_slowk</th>\n",
       "      <th>...</th>\n",
       "      <th>cci</th>\n",
       "      <th>ultosc</th>\n",
       "      <th>hour_sin</th>\n",
       "      <th>hour_cos</th>\n",
       "      <th>max_buy</th>\n",
       "      <th>max_buy_count</th>\n",
       "      <th>max_sell</th>\n",
       "      <th>max_sell_count</th>\n",
       "      <th>is_buy_profit</th>\n",
       "      <th>is_sell_profit</th>\n",
       "    </tr>\n",
       "  </thead>\n",
       "  <tbody>\n",
       "    <tr>\n",
       "      <th>33</th>\n",
       "      <td>2017-05-02 09:00:00</td>\n",
       "      <td>1.09154</td>\n",
       "      <td>1.09216</td>\n",
       "      <td>1.09089</td>\n",
       "      <td>1.09184</td>\n",
       "      <td>7632.3198</td>\n",
       "      <td>9</td>\n",
       "      <td>12.7</td>\n",
       "      <td>0.589489</td>\n",
       "      <td>0.593890</td>\n",
       "      <td>...</td>\n",
       "      <td>0.622940</td>\n",
       "      <td>0.536941</td>\n",
       "      <td>0.70711</td>\n",
       "      <td>-0.70711</td>\n",
       "      <td>15.2</td>\n",
       "      <td>6</td>\n",
       "      <td>-30.0</td>\n",
       "      <td>9</td>\n",
       "      <td>False</td>\n",
       "      <td>False</td>\n",
       "    </tr>\n",
       "    <tr>\n",
       "      <th>34</th>\n",
       "      <td>2017-05-02 10:00:00</td>\n",
       "      <td>1.09184</td>\n",
       "      <td>1.09196</td>\n",
       "      <td>1.09093</td>\n",
       "      <td>1.09170</td>\n",
       "      <td>5631.5200</td>\n",
       "      <td>10</td>\n",
       "      <td>10.3</td>\n",
       "      <td>0.574812</td>\n",
       "      <td>0.562226</td>\n",
       "      <td>...</td>\n",
       "      <td>0.589939</td>\n",
       "      <td>0.556211</td>\n",
       "      <td>0.50000</td>\n",
       "      <td>-0.86603</td>\n",
       "      <td>16.6</td>\n",
       "      <td>8</td>\n",
       "      <td>-28.6</td>\n",
       "      <td>8</td>\n",
       "      <td>False</td>\n",
       "      <td>False</td>\n",
       "    </tr>\n",
       "    <tr>\n",
       "      <th>35</th>\n",
       "      <td>2017-05-02 11:00:00</td>\n",
       "      <td>1.09170</td>\n",
       "      <td>1.09183</td>\n",
       "      <td>1.09049</td>\n",
       "      <td>1.09053</td>\n",
       "      <td>6788.1099</td>\n",
       "      <td>11</td>\n",
       "      <td>13.4</td>\n",
       "      <td>0.469591</td>\n",
       "      <td>0.439104</td>\n",
       "      <td>...</td>\n",
       "      <td>0.413558</td>\n",
       "      <td>0.488544</td>\n",
       "      <td>0.25882</td>\n",
       "      <td>-0.96593</td>\n",
       "      <td>31.1</td>\n",
       "      <td>12</td>\n",
       "      <td>-16.9</td>\n",
       "      <td>6</td>\n",
       "      <td>False</td>\n",
       "      <td>False</td>\n",
       "    </tr>\n",
       "    <tr>\n",
       "      <th>36</th>\n",
       "      <td>2017-05-02 12:00:00</td>\n",
       "      <td>1.09055</td>\n",
       "      <td>1.09161</td>\n",
       "      <td>1.09044</td>\n",
       "      <td>1.09078</td>\n",
       "      <td>8840.8701</td>\n",
       "      <td>12</td>\n",
       "      <td>11.7</td>\n",
       "      <td>0.491030</td>\n",
       "      <td>0.345547</td>\n",
       "      <td>...</td>\n",
       "      <td>0.401878</td>\n",
       "      <td>0.445307</td>\n",
       "      <td>0.00000</td>\n",
       "      <td>-1.00000</td>\n",
       "      <td>29.2</td>\n",
       "      <td>12</td>\n",
       "      <td>-19.4</td>\n",
       "      <td>5</td>\n",
       "      <td>False</td>\n",
       "      <td>False</td>\n",
       "    </tr>\n",
       "    <tr>\n",
       "      <th>37</th>\n",
       "      <td>2017-05-02 13:00:00</td>\n",
       "      <td>1.09080</td>\n",
       "      <td>1.09133</td>\n",
       "      <td>1.09047</td>\n",
       "      <td>1.09094</td>\n",
       "      <td>8979.9902</td>\n",
       "      <td>13</td>\n",
       "      <td>8.6</td>\n",
       "      <td>0.504825</td>\n",
       "      <td>0.360958</td>\n",
       "      <td>...</td>\n",
       "      <td>0.391178</td>\n",
       "      <td>0.498783</td>\n",
       "      <td>-0.25882</td>\n",
       "      <td>-0.96593</td>\n",
       "      <td>27.7</td>\n",
       "      <td>12</td>\n",
       "      <td>-21.0</td>\n",
       "      <td>4</td>\n",
       "      <td>False</td>\n",
       "      <td>False</td>\n",
       "    </tr>\n",
       "  </tbody>\n",
       "</table>\n",
       "<p>5 rows × 25 columns</p>\n",
       "</div>"
      ],
      "text/plain": [
       "                   time     open     high      low    close     volume  hour  \\\n",
       "33  2017-05-02 09:00:00  1.09154  1.09216  1.09089  1.09184  7632.3198     9   \n",
       "34  2017-05-02 10:00:00  1.09184  1.09196  1.09093  1.09170  5631.5200    10   \n",
       "35  2017-05-02 11:00:00  1.09170  1.09183  1.09049  1.09053  6788.1099    11   \n",
       "36  2017-05-02 12:00:00  1.09055  1.09161  1.09044  1.09078  8840.8701    12   \n",
       "37  2017-05-02 13:00:00  1.09080  1.09133  1.09047  1.09094  8979.9902    13   \n",
       "\n",
       "    volatility       rsi  stoch_slowk  ...       cci    ultosc  hour_sin  \\\n",
       "33        12.7  0.589489     0.593890  ...  0.622940  0.536941   0.70711   \n",
       "34        10.3  0.574812     0.562226  ...  0.589939  0.556211   0.50000   \n",
       "35        13.4  0.469591     0.439104  ...  0.413558  0.488544   0.25882   \n",
       "36        11.7  0.491030     0.345547  ...  0.401878  0.445307   0.00000   \n",
       "37         8.6  0.504825     0.360958  ...  0.391178  0.498783  -0.25882   \n",
       "\n",
       "    hour_cos  max_buy  max_buy_count  max_sell  max_sell_count  is_buy_profit  \\\n",
       "33  -0.70711     15.2              6     -30.0               9          False   \n",
       "34  -0.86603     16.6              8     -28.6               8          False   \n",
       "35  -0.96593     31.1             12     -16.9               6          False   \n",
       "36  -1.00000     29.2             12     -19.4               5          False   \n",
       "37  -0.96593     27.7             12     -21.0               4          False   \n",
       "\n",
       "    is_sell_profit  \n",
       "33           False  \n",
       "34           False  \n",
       "35           False  \n",
       "36           False  \n",
       "37           False  \n",
       "\n",
       "[5 rows x 25 columns]"
      ]
     },
     "execution_count": 137,
     "metadata": {},
     "output_type": "execute_result"
    }
   ],
   "source": [
    "train_df = df[(df['time'] <= '2019-01-22 14:00:00') & (df['hour'] > start_hour)\n",
    "              & (df['hour'] < end_hour)]\n",
    "buy_train_y = np.array(train_df['max_buy']).reshape((-1, ))\n",
    "sell_train_y = np.array(train_df['max_sell']).reshape((-1, ))\n",
    "train_x = train_df.as_matrix(columns=[\n",
    "    'rsi', 'stoch_slowk', 'stoch_slowd', 'stochrsi_fastd', 'adx', 'williams_r',\n",
    "    'cci', 'ultosc'\n",
    "])\n",
    "print(len(train_x),len(buy_train_y), len(sell_train_y))\n",
    "train_df.head()"
   ]
  },
  {
   "cell_type": "markdown",
   "metadata": {},
   "source": [
    "# Mean Absolute Error as criteria function"
   ]
  },
  {
   "cell_type": "code",
   "execution_count": 141,
   "metadata": {},
   "outputs": [],
   "source": [
    "# Function to calculate mean absolute error\n",
    "def mae(y_true, y_pred):\n",
    "    return np.mean(abs(y_true - y_pred))\n",
    "\n",
    "# Takes in a model, trains the model, and evaluates the model on the test set\n",
    "def fit_and_evaluate(model,xx,yy,test_xx,test_yy):\n",
    "    \n",
    "    # Train the model\n",
    "    model.fit(xx, yy)\n",
    "    \n",
    "    # Make predictions and evalute\n",
    "    model_pred = model.predict(test_xx)\n",
    "    model_mae = mae(test_yy, model_pred)\n",
    "    \n",
    "    # Return the performance metric\n",
    "    return model_mae"
   ]
  },
  {
   "cell_type": "markdown",
   "metadata": {},
   "source": [
    "# Regression Models to Evaluate"
   ]
  },
  {
   "cell_type": "code",
   "execution_count": 143,
   "metadata": {},
   "outputs": [],
   "source": [
    "# Machine Learning Models\n",
    "from sklearn.linear_model import LinearRegression\n",
    "from sklearn.ensemble import RandomForestRegressor, GradientBoostingRegressor\n",
    "from sklearn.svm import SVR\n",
    "from sklearn.neighbors import KNeighborsRegressor"
   ]
  },
  {
   "cell_type": "markdown",
   "metadata": {},
   "source": [
    "# BUY direction"
   ]
  },
  {
   "cell_type": "code",
   "execution_count": 145,
   "metadata": {},
   "outputs": [
    {
     "name": "stdout",
     "output_type": "stream",
     "text": [
      "Linear Regression Performance on the test set: MAE = 17.3433\n"
     ]
    }
   ],
   "source": [
    "# Linear regression\n",
    "\n",
    "lr = LinearRegression()\n",
    "lr_mae = fit_and_evaluate(lr, train_x, buy_train_y, test_x, buy_test_y)\n",
    "\n",
    "print('Linear Regression Performance on the test set: MAE = %0.4f' % lr_mae)"
   ]
  },
  {
   "cell_type": "code",
   "execution_count": 146,
   "metadata": {},
   "outputs": [
    {
     "name": "stdout",
     "output_type": "stream",
     "text": [
      "Support Vector Machine Regression Performance on the test set: MAE = 14.4866\n"
     ]
    }
   ],
   "source": [
    "# SVM\n",
    "\n",
    "svm = SVR(C = 1000, gamma = 0.1)\n",
    "svm_mae = fit_and_evaluate(svm, train_x, buy_train_y, test_x, buy_test_y)\n",
    "\n",
    "print('Support Vector Machine Regression Performance on the test set: MAE = %0.4f' % svm_mae)"
   ]
  },
  {
   "cell_type": "code",
   "execution_count": 147,
   "metadata": {},
   "outputs": [
    {
     "name": "stderr",
     "output_type": "stream",
     "text": [
      "/opt/miniconda3/lib/python3.7/site-packages/sklearn/ensemble/forest.py:246: FutureWarning: The default value of n_estimators will change from 10 in version 0.20 to 100 in 0.22.\n",
      "  \"10 in version 0.20 to 100 in 0.22.\", FutureWarning)\n"
     ]
    },
    {
     "name": "stdout",
     "output_type": "stream",
     "text": [
      "Random Forest Regression Performance on the test set: MAE = 18.3285\n"
     ]
    }
   ],
   "source": [
    "# Random forest\n",
    "\n",
    "random_forest = RandomForestRegressor(random_state=60)\n",
    "random_forest_mae = fit_and_evaluate(random_forest, train_x, buy_train_y, test_x, buy_test_y)\n",
    "\n",
    "print('Random Forest Regression Performance on the test set: MAE = %0.4f' % random_forest_mae)"
   ]
  },
  {
   "cell_type": "code",
   "execution_count": 148,
   "metadata": {},
   "outputs": [
    {
     "name": "stdout",
     "output_type": "stream",
     "text": [
      "Gradient Boosted Regression Performance on the test set: MAE = 17.8221\n"
     ]
    }
   ],
   "source": [
    "# Gradien boosted\n",
    "\n",
    "gradient_boosted = GradientBoostingRegressor(random_state=60)\n",
    "gradient_boosted_mae = fit_and_evaluate(gradient_boosted, train_x, buy_train_y, test_x, buy_test_y)\n",
    "\n",
    "print('Gradient Boosted Regression Performance on the test set: MAE = %0.4f' % gradient_boosted_mae)"
   ]
  },
  {
   "cell_type": "code",
   "execution_count": 149,
   "metadata": {},
   "outputs": [
    {
     "name": "stdout",
     "output_type": "stream",
     "text": [
      "K-Nearest Neighbors Regression Performance on the test set: MAE = 17.9171\n"
     ]
    }
   ],
   "source": [
    "# KNN\n",
    "\n",
    "knn = KNeighborsRegressor(n_neighbors=10)\n",
    "knn_mae = fit_and_evaluate(knn, train_x, buy_train_y, test_x, buy_test_y)\n",
    "\n",
    "print('K-Nearest Neighbors Regression Performance on the test set: MAE = %0.4f' % knn_mae)"
   ]
  },
  {
   "cell_type": "code",
   "execution_count": 150,
   "metadata": {
    "scrolled": true
   },
   "outputs": [
    {
     "data": {
      "image/png": "[encoded data removed]",
      "text/plain": [
       "<Figure size 576x432 with 1 Axes>"
      ]
     },
     "metadata": {},
     "output_type": "display_data"
    }
   ],
   "source": [
    "plt.style.use('fivethirtyeight')\n",
    "figsize(8, 6)\n",
    "\n",
    "# Dataframe to hold the results\n",
    "model_comparison = pd.DataFrame({'model': ['Linear Regression', 'Support Vector Machine',\n",
    "                                           'Random Forest', 'Gradient Boosted',\n",
    "                                            'K-Nearest Neighbors'],\n",
    "                                 'mae': [lr_mae, svm_mae, random_forest_mae, \n",
    "                                         gradient_boosted_mae, knn_mae]})\n",
    "\n",
    "# Horizontal bar chart of test mae\n",
    "model_comparison.sort_values('mae', ascending = False).plot(x = 'model', y = 'mae', kind = 'barh',\n",
    "                                                           color = 'red', edgecolor = 'black')\n",
    "\n",
    "# Plot formatting\n",
    "plt.ylabel(''); plt.yticks(size = 14); plt.xlabel('Mean Absolute Error'); plt.xticks(size = 14)\n",
    "plt.title('Model Comparison on Test MAE', size = 20);"
   ]
  },
  {
   "cell_type": "code",
   "execution_count": null,
   "metadata": {},
   "outputs": [],
   "source": []
  },
  {
   "cell_type": "code",
   "execution_count": null,
   "metadata": {},
   "outputs": [],
   "source": []
  },
  {
   "cell_type": "code",
   "execution_count": null,
   "metadata": {},
   "outputs": [],
   "source": []
  },
  {
   "cell_type": "code",
   "execution_count": null,
   "metadata": {},
   "outputs": [],
   "source": []
  },
  {
   "cell_type": "code",
   "execution_count": null,
   "metadata": {},
   "outputs": [],
   "source": []
  },
  {
   "cell_type": "code",
   "execution_count": null,
   "metadata": {},
   "outputs": [],
   "source": []
  },
  {
   "cell_type": "markdown",
   "metadata": {},
   "source": [
    "# Model Optimization"
   ]
  },
  {
   "cell_type": "markdown",
   "metadata": {},
   "source": [
    "SVM is the best one, will select SVM to do Optimization and Hyperparameter Tuning."
   ]
  },
  {
   "cell_type": "code",
   "execution_count": 16,
   "metadata": {},
   "outputs": [
    {
     "name": "stdout",
     "output_type": "stream",
     "text": [
      "(13935,)\n",
      "(13935, 4)\n"
     ]
    }
   ],
   "source": [
    "print(y_test.shape)\n",
    "print(X_test.shape)"
   ]
  },
  {
   "cell_type": "code",
   "execution_count": 18,
   "metadata": {},
   "outputs": [
    {
     "name": "stdout",
     "output_type": "stream",
     "text": [
      "(13935,)\n"
     ]
    }
   ],
   "source": [
    "print(y_test.shape)"
   ]
  },
  {
   "cell_type": "code",
   "execution_count": null,
   "metadata": {},
   "outputs": [],
   "source": [
    "# we explicitly generate the outer_cv decorator so we can use it twice\n",
    "outer_cv = optunity.cross_validated(x=X, y=y, num_folds=3, num_iter=2)\n",
    "\n",
    "# define objective function for tuning\n",
    "@optunity.cross_validated(x=X, y=y, num_iter=2, num_folds=5)\n",
    "def tune_cv(x_train, y_train, x_t, y_t, C, degree, coef0):\n",
    "    model = sklearn.svm.SVR(C=C, degree=degree, coef0=coef0, kernel='poly').fit(x_train, y_train)\n",
    "    predictions = model.predict(x_t)\n",
    "    return optunity.metrics.mse(y_t, predictions)\n",
    "\n",
    "\n",
    "    \n",
    "def compute_mse_standard(x_train, y_train, x_test, y_test):\n",
    "    \"\"\"Computes MSE of an SVR with RBF kernel and default hyperparameters.\n",
    "    \"\"\"\n",
    "    model = sklearn.svm.SVR().fit(x_train, y_train)\n",
    "    predictions = model.predict(x_test)\n",
    "    return optunity.metrics.mse(y_test, predictions)\n",
    "\n",
    "# wrap with outer cross-validation\n",
    "compute_mse_with_cv = outer_cv(compute_mse_standard)\n",
    "compute_mse_with_cv()"
   ]
  },
  {
   "cell_type": "code",
   "execution_count": null,
   "metadata": {},
   "outputs": [],
   "source": [
    "import optunity\n",
    "import optunity.metrics\n",
    "import sklearn.svm\n",
    "\n",
    "# score function: twice iterated 10-fold cross-validated accuracy\n",
    "@optunity.cross_validated(x=X, y=y, num_folds=10, num_iter=2)\n",
    "def svm_auc(x_train, y_train, x_test, y_test, logC, logGamma):\n",
    "    model = SVR(C=10 ** logC, gamma=10 ** logGamma).fit(x_train, y_train)\n",
    "    predictions = model.predict(x_test)\n",
    "    return mae(y_test, predictions)\n",
    "\n",
    "# perform tuning\n",
    "hps, _, _ = optunity.maximize(svm_auc, num_evals=10, logC=[-5, 2], logGamma=[-5, 1])\n",
    "print(hps)"
   ]
  },
  {
   "cell_type": "code",
   "execution_count": 52,
   "metadata": {
    "scrolled": false
   },
   "outputs": [
    {
     "name": "stdout",
     "output_type": "stream",
     "text": [
      "C=0.001, gamma=0.0001  = 3.7637078983794177\n",
      "C=0.001, gamma=0.001  = 3.7636835461338305\n",
      "C=0.001, gamma=0.01  = 3.763375913798129\n",
      "C=0.001, gamma=0.1  = 3.7601455839443436\n",
      "C=0.001, gamma=1  = 3.740820001029104\n",
      "C=0.001, gamma=10  = 3.7131975881375197\n",
      "C=0.01, gamma=0.0001  = 3.7636835436299436\n",
      "C=0.01, gamma=0.001  = 3.7633845525066283\n",
      "C=0.01, gamma=0.01  = 3.7601029219695508\n",
      "C=0.01, gamma=0.1  = 3.738815357878329\n",
      "C=0.01, gamma=1  = 3.695629439188367\n",
      "C=0.01, gamma=10  = 3.6947023440239772\n",
      "C=0.01, gamma=100  = 3.713421024452286\n",
      "C=0.1, gamma=0.0001  = 3.7633726919599586\n",
      "C=0.1, gamma=0.001  = 3.7600993550175548\n",
      "C=0.1, gamma=0.01  = 3.7385843163792516\n",
      "C=0.1, gamma=0.1  = 3.695796937757105\n",
      "C=0.1, gamma=1  = 3.6903271645344176\n",
      "C=0.1, gamma=10  = 3.6969897527009774\n",
      "C=0.1, gamma=100  = 3.7088747548728236\n",
      "C=1, gamma=0.0001  = 3.7600988760544656\n",
      "C=1, gamma=0.001  = 3.738556286076489\n",
      "C=1, gamma=0.01  = 3.695856933699899\n",
      "C=1, gamma=0.1  = 3.69225265007057\n",
      "C=1, gamma=1  = 3.6916386095096048\n",
      "C=1, gamma=10  = 3.7141171751932442\n",
      "C=1, gamma=100  = 3.7183738240010262\n",
      "C=10, gamma=0.0001  = 3.7385488202906787\n",
      "C=10, gamma=0.001  = 3.695855951416647\n",
      "C=10, gamma=0.01  = 3.6924364072044713\n",
      "C=10, gamma=0.1  = 3.693321717506182\n",
      "C=10, gamma=1  = 3.6964847583857985\n",
      "C=10, gamma=10  = 3.7299203628796684\n",
      "C=10, gamma=100  = 3.7478615687136885\n",
      "C=100, gamma=0.001  = 3.692444830062937\n",
      "C=100, gamma=0.01  = 3.693091263751491\n",
      "C=100, gamma=0.1  = 3.6953234786473144\n",
      "C=100, gamma=1  = 3.703251142397306\n",
      "C=100, gamma=10  = 3.7484031316494586\n",
      "C=100, gamma=100  = 3.7778544402112684\n",
      "C=1000, gamma=0.0001  = 3.6925002170350645\n",
      "C=1000, gamma=0.001  = 3.6931323161645397\n",
      "C=1000, gamma=0.01  = 3.6940072752540543\n",
      "C=1000, gamma=0.1  = 3.696459928693902\n",
      "C=1000, gamma=1  = 3.708206786483546\n",
      "C=1000, gamma=10  = 3.7605078655489925\n",
      "C=1000, gamma=100  = 3.827164872470653\n"
     ]
    }
   ],
   "source": [
    "# manually grid search \n",
    "from itertools import product\n",
    "combination = list(product(*[range(-3, 4), range(-4, 3)]))\n",
    "result = []\n",
    "for a, b in combination:\n",
    "    svm = SVR(C=10**a, gamma=10**b)\n",
    "    svm_mae = fit_and_evaluate(svm)\n",
    "    result.append((10**a, 10**b, svm_mae))\n",
    "    print(f'C={10 ** a}, gamma={10 ** b}  = {svm_mae}')"
   ]
  },
  {
   "cell_type": "markdown",
   "metadata": {},
   "source": [
    "The best one is \n",
    "\n",
    "C=0.1, gamma=1, 3.6903271645344176"
   ]
  },
  {
   "cell_type": "code",
   "execution_count": 29,
   "metadata": {},
   "outputs": [
    {
     "name": "stdout",
     "output_type": "stream",
     "text": [
      "3.6903271645344176\n"
     ]
    }
   ],
   "source": [
    "# train model on the full training set with tuned hyperparameters\n",
    "optimal_model = SVR(C=0.1, gamma=1).fit(X, y)\n",
    "model_pred = optimal_model.predict(X_test)\n",
    "model_mae = mae(y_test, model_pred)\n",
    "print(model_mae)"
   ]
  }
 ],
 "metadata": {
  "hide_input": false,
  "kernelspec": {
   "display_name": "Python 3",
   "language": "python",
   "name": "python3"
  },
  "language_info": {
   "codemirror_mode": {
    "name": "ipython",
    "version": 3
   },
   "file_extension": ".py",
   "mimetype": "text/x-python",
   "name": "python",
   "nbconvert_exporter": "python",
   "pygments_lexer": "ipython3",
   "version": "3.7.1"
  }
 },
 "nbformat": 4,
 "nbformat_minor": 2
}
