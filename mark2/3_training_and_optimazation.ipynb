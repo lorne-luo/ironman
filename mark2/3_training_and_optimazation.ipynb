{
 "cells": [
  {
   "cell_type": "markdown",
   "metadata": {},
   "source": [
    "# Step 3. Data training and evaluate models\n",
    "Compare several machine learning models on a performance metric\n",
    "\n",
    "Perform hyperparameter tuning on the best model to optimize it for the problem\n",
    "\n",
    "Step 1. [Data exploration](/notebooks/forex/mark2/1_data_explore.ipynb)\n",
    "\n",
    "Step 2. [Feature engineering](/notebooks/forex/mark2/2_feature_engineering.ipynb)\n",
    "\n",
    "Step 3. **Data training and models evaluation**"
   ]
  },
  {
   "cell_type": "markdown",
   "metadata": {},
   "source": [
    "# Import"
   ]
  },
  {
   "cell_type": "code",
   "execution_count": 41,
   "metadata": {},
   "outputs": [],
   "source": [
    "%matplotlib inline\n",
    "from math import sqrt\n",
    "from datetime import datetime\n",
    "from dateutil.relativedelta import relativedelta\n",
    "import talib as ta\n",
    "\n",
    "import numpy as np\n",
    "import pandas as pd\n",
    "import matplotlib.pyplot as plt\n",
    "\n",
    "# Set default font size\n",
    "plt.rcParams['font.size'] = 24\n",
    "\n",
    "# Internal ipython tool for setting figure size\n",
    "from IPython.core.pylabtools import figsize\n",
    "from sklearn.preprocessing import Imputer, MinMaxScaler\n",
    "\n",
    "import optunity\n",
    "import sklearn\n",
    "from optunity import cross_validated\n",
    "from optunity.metrics import mse\n",
    "import warnings\n",
    "warnings.filterwarnings('ignore')\n",
    "\n",
    "csv_path = 'data/EURUSD_Candlestick_1_Hour_ASK_01.05.2017-18.05.2019_featured.csv'\n",
    "take_profit = 40\n",
    "stop_loss = 30"
   ]
  },
  {
   "cell_type": "markdown",
   "metadata": {},
   "source": [
    "# Load data"
   ]
  },
  {
   "cell_type": "code",
   "execution_count": 13,
   "metadata": {
    "scrolled": false
   },
   "outputs": [
    {
     "name": "stdout",
     "output_type": "stream",
     "text": [
      "12761\n"
     ]
    },
    {
     "data": {
      "text/html": [
       "<div>\n",
       "<style scoped>\n",
       "    .dataframe tbody tr th:only-of-type {\n",
       "        vertical-align: middle;\n",
       "    }\n",
       "\n",
       "    .dataframe tbody tr th {\n",
       "        vertical-align: top;\n",
       "    }\n",
       "\n",
       "    .dataframe thead th {\n",
       "        text-align: right;\n",
       "    }\n",
       "</style>\n",
       "<table border=\"1\" class=\"dataframe\">\n",
       "  <thead>\n",
       "    <tr style=\"text-align: right;\">\n",
       "      <th></th>\n",
       "      <th>time</th>\n",
       "      <th>open</th>\n",
       "      <th>high</th>\n",
       "      <th>low</th>\n",
       "      <th>close</th>\n",
       "      <th>volume</th>\n",
       "      <th>hour</th>\n",
       "      <th>volatility</th>\n",
       "      <th>rsi</th>\n",
       "      <th>stoch_slowk</th>\n",
       "      <th>...</th>\n",
       "      <th>cci</th>\n",
       "      <th>ultosc</th>\n",
       "      <th>hour_sin</th>\n",
       "      <th>hour_cos</th>\n",
       "      <th>max_buy</th>\n",
       "      <th>max_buy_count</th>\n",
       "      <th>max_sell</th>\n",
       "      <th>max_sell_count</th>\n",
       "      <th>is_buy_profit</th>\n",
       "      <th>is_sell_profit</th>\n",
       "    </tr>\n",
       "  </thead>\n",
       "  <tbody>\n",
       "    <tr>\n",
       "      <th>12756</th>\n",
       "      <td>2019-05-17 16:00:00</td>\n",
       "      <td>1.11651</td>\n",
       "      <td>1.11694</td>\n",
       "      <td>1.11640</td>\n",
       "      <td>1.11647</td>\n",
       "      <td>12190.32</td>\n",
       "      <td>16</td>\n",
       "      <td>5.4</td>\n",
       "      <td>40.01878</td>\n",
       "      <td>42.70297</td>\n",
       "      <td>...</td>\n",
       "      <td>-68.96251</td>\n",
       "      <td>52.41159</td>\n",
       "      <td>-0.86603</td>\n",
       "      <td>-0.50000</td>\n",
       "      <td>2.3</td>\n",
       "      <td>3</td>\n",
       "      <td>-9.3</td>\n",
       "      <td>4</td>\n",
       "      <td>False</td>\n",
       "      <td>False</td>\n",
       "    </tr>\n",
       "    <tr>\n",
       "      <th>12757</th>\n",
       "      <td>2019-05-17 17:00:00</td>\n",
       "      <td>1.11646</td>\n",
       "      <td>1.11670</td>\n",
       "      <td>1.11614</td>\n",
       "      <td>1.11650</td>\n",
       "      <td>12731.28</td>\n",
       "      <td>17</td>\n",
       "      <td>5.6</td>\n",
       "      <td>40.32716</td>\n",
       "      <td>44.04303</td>\n",
       "      <td>...</td>\n",
       "      <td>-75.39102</td>\n",
       "      <td>51.01559</td>\n",
       "      <td>-0.96593</td>\n",
       "      <td>-0.25882</td>\n",
       "      <td>2.0</td>\n",
       "      <td>1</td>\n",
       "      <td>-9.6</td>\n",
       "      <td>3</td>\n",
       "      <td>False</td>\n",
       "      <td>False</td>\n",
       "    </tr>\n",
       "    <tr>\n",
       "      <th>12758</th>\n",
       "      <td>2019-05-17 18:00:00</td>\n",
       "      <td>1.11649</td>\n",
       "      <td>1.11649</td>\n",
       "      <td>1.11593</td>\n",
       "      <td>1.11593</td>\n",
       "      <td>8851.12</td>\n",
       "      <td>18</td>\n",
       "      <td>5.6</td>\n",
       "      <td>36.48866</td>\n",
       "      <td>35.16583</td>\n",
       "      <td>...</td>\n",
       "      <td>-101.13716</td>\n",
       "      <td>42.50975</td>\n",
       "      <td>-1.00000</td>\n",
       "      <td>-0.00000</td>\n",
       "      <td>7.7</td>\n",
       "      <td>2</td>\n",
       "      <td>-3.9</td>\n",
       "      <td>2</td>\n",
       "      <td>False</td>\n",
       "      <td>False</td>\n",
       "    </tr>\n",
       "    <tr>\n",
       "      <th>12759</th>\n",
       "      <td>2019-05-17 19:00:00</td>\n",
       "      <td>1.11593</td>\n",
       "      <td>1.11670</td>\n",
       "      <td>1.11592</td>\n",
       "      <td>1.11607</td>\n",
       "      <td>17097.71</td>\n",
       "      <td>19</td>\n",
       "      <td>7.8</td>\n",
       "      <td>38.04841</td>\n",
       "      <td>27.98237</td>\n",
       "      <td>...</td>\n",
       "      <td>-78.26676</td>\n",
       "      <td>38.94281</td>\n",
       "      <td>-0.96593</td>\n",
       "      <td>0.25882</td>\n",
       "      <td>0.6</td>\n",
       "      <td>1</td>\n",
       "      <td>-5.3</td>\n",
       "      <td>1</td>\n",
       "      <td>False</td>\n",
       "      <td>False</td>\n",
       "    </tr>\n",
       "    <tr>\n",
       "      <th>12760</th>\n",
       "      <td>2019-05-17 20:00:00</td>\n",
       "      <td>1.11606</td>\n",
       "      <td>1.11613</td>\n",
       "      <td>1.11554</td>\n",
       "      <td>1.11582</td>\n",
       "      <td>4685.08</td>\n",
       "      <td>20</td>\n",
       "      <td>5.9</td>\n",
       "      <td>36.33250</td>\n",
       "      <td>27.23266</td>\n",
       "      <td>...</td>\n",
       "      <td>-121.55542</td>\n",
       "      <td>42.78488</td>\n",
       "      <td>-0.86603</td>\n",
       "      <td>0.50000</td>\n",
       "      <td>0.0</td>\n",
       "      <td>0</td>\n",
       "      <td>0.0</td>\n",
       "      <td>0</td>\n",
       "      <td>False</td>\n",
       "      <td>False</td>\n",
       "    </tr>\n",
       "  </tbody>\n",
       "</table>\n",
       "<p>5 rows × 25 columns</p>\n",
       "</div>"
      ],
      "text/plain": [
       "                      time     open     high      low    close    volume  \\\n",
       "12756  2019-05-17 16:00:00  1.11651  1.11694  1.11640  1.11647  12190.32   \n",
       "12757  2019-05-17 17:00:00  1.11646  1.11670  1.11614  1.11650  12731.28   \n",
       "12758  2019-05-17 18:00:00  1.11649  1.11649  1.11593  1.11593   8851.12   \n",
       "12759  2019-05-17 19:00:00  1.11593  1.11670  1.11592  1.11607  17097.71   \n",
       "12760  2019-05-17 20:00:00  1.11606  1.11613  1.11554  1.11582   4685.08   \n",
       "\n",
       "       hour  volatility       rsi  stoch_slowk  ...        cci    ultosc  \\\n",
       "12756    16         5.4  40.01878     42.70297  ...  -68.96251  52.41159   \n",
       "12757    17         5.6  40.32716     44.04303  ...  -75.39102  51.01559   \n",
       "12758    18         5.6  36.48866     35.16583  ... -101.13716  42.50975   \n",
       "12759    19         7.8  38.04841     27.98237  ...  -78.26676  38.94281   \n",
       "12760    20         5.9  36.33250     27.23266  ... -121.55542  42.78488   \n",
       "\n",
       "       hour_sin  hour_cos  max_buy  max_buy_count  max_sell  max_sell_count  \\\n",
       "12756  -0.86603  -0.50000      2.3              3      -9.3               4   \n",
       "12757  -0.96593  -0.25882      2.0              1      -9.6               3   \n",
       "12758  -1.00000  -0.00000      7.7              2      -3.9               2   \n",
       "12759  -0.96593   0.25882      0.6              1      -5.3               1   \n",
       "12760  -0.86603   0.50000      0.0              0       0.0               0   \n",
       "\n",
       "       is_buy_profit  is_sell_profit  \n",
       "12756          False           False  \n",
       "12757          False           False  \n",
       "12758          False           False  \n",
       "12759          False           False  \n",
       "12760          False           False  \n",
       "\n",
       "[5 rows x 25 columns]"
      ]
     },
     "execution_count": 13,
     "metadata": {},
     "output_type": "execute_result"
    }
   ],
   "source": [
    "df = pd.read_csv(csv_path,\n",
    "                 header=0,\n",
    "                 parse_dates=True)\n",
    "df.set_index('time')\n",
    "print(len(df))\n",
    "df.tail()"
   ]
  },
  {
   "cell_type": "code",
   "execution_count": 14,
   "metadata": {},
   "outputs": [
    {
     "data": {
      "image/png": "[encoded data removed]",
      "text/plain": [
       "<Figure size 432x288 with 1 Axes>"
      ]
     },
     "metadata": {
      "needs_background": "light"
     },
     "output_type": "display_data"
    }
   ],
   "source": [
    "plt.scatter(df['adx'],df['max_buy'])\n",
    "plt.title(\"adx VS max_buy\")\n",
    "plt.ylabel(\"max_buy\")\n",
    "plt.xlabel(\"adx\")\n",
    "plt.show()"
   ]
  },
  {
   "cell_type": "markdown",
   "metadata": {},
   "source": [
    "# Scaling Features"
   ]
  },
  {
   "cell_type": "code",
   "execution_count": 15,
   "metadata": {},
   "outputs": [
    {
     "data": {
      "text/plain": [
       "count    12748.000000\n",
       "mean         1.338446\n",
       "std        115.346233\n",
       "min       -350.000000\n",
       "25%        -83.736030\n",
       "50%          4.264375\n",
       "75%         87.054832\n",
       "max        350.000000\n",
       "Name: cci, dtype: float64"
      ]
     },
     "execution_count": 15,
     "metadata": {},
     "output_type": "execute_result"
    }
   ],
   "source": [
    "# max cci = 350\n",
    "df['cci'] = df['cci'].apply(lambda x: 350 if x > 350 else x)\n",
    "df['cci'] = df['cci'].apply(lambda x: -350 if x < -350 else x)\n",
    "\n",
    "df['cci'].describe()"
   ]
  },
  {
   "cell_type": "code",
   "execution_count": 16,
   "metadata": {},
   "outputs": [],
   "source": [
    "df['rsi'] = df['rsi'] / 100\n",
    "df['stoch_slowk'] = df['stoch_slowk'] / 100\n",
    "df['stoch_slowd'] = df['stoch_slowd'] / 100\n",
    "df['stochrsi_fastk'] = df['stochrsi_fastk'] / 100\n",
    "df['stochrsi_fastd'] = df['stochrsi_fastd'] / 100\n",
    "df['adx'] = df['adx'] / 100\n",
    "df['williams_r'] = (df['williams_r'] + 100) / 100\n",
    "df['cci'] = df['cci'] + 350\n",
    "df['cci'] = df['cci'] / 700\n",
    "df['ultosc'] = df['ultosc'] / 100"
   ]
  },
  {
   "cell_type": "code",
   "execution_count": 17,
   "metadata": {},
   "outputs": [
    {
     "name": "stdout",
     "output_type": "stream",
     "text": [
      "rsi 0.12690590000000002 0.9205115\n",
      "stoch_slowk 0.0264704 0.9862359\n",
      "stoch_slowd 0.033708999999999996 0.9791138\n",
      "stochrsi_fastk 0.0 1.0\n",
      "stochrsi_fastd -0.0 1.0\n",
      "adx 0.0665423 0.7627457\n",
      "williams_r 0.0 1.0\n",
      "cci 0.0 1.0\n",
      "ultosc 0.1643647 0.8514667\n"
     ]
    }
   ],
   "source": [
    "for x in [\n",
    "        'rsi', 'stoch_slowk', 'stoch_slowd', 'stochrsi_fastk',\n",
    "        'stochrsi_fastd', 'adx', 'williams_r', 'cci', 'ultosc'\n",
    "]:\n",
    "    print(x,df[x].min(), df[x].max())"
   ]
  },
  {
   "cell_type": "markdown",
   "metadata": {},
   "source": [
    "# Traning data and test"
   ]
  },
  {
   "cell_type": "code",
   "execution_count": 18,
   "metadata": {},
   "outputs": [
    {
     "data": {
      "text/plain": [
       "Index(['time', 'open', 'high', 'low', 'close', 'volume', 'hour', 'volatility',\n",
       "       'rsi', 'stoch_slowk', 'stoch_slowd', 'stochrsi_fastk', 'stochrsi_fastd',\n",
       "       'adx', 'williams_r', 'cci', 'ultosc', 'hour_sin', 'hour_cos', 'max_buy',\n",
       "       'max_buy_count', 'max_sell', 'max_sell_count', 'is_buy_profit',\n",
       "       'is_sell_profit'],\n",
       "      dtype='object')"
      ]
     },
     "execution_count": 18,
     "metadata": {},
     "output_type": "execute_result"
    }
   ],
   "source": [
    "df.columns"
   ]
  },
  {
   "cell_type": "code",
   "execution_count": 19,
   "metadata": {},
   "outputs": [
    {
     "name": "stdout",
     "output_type": "stream",
     "text": [
      "(582, 4) (582,) (582,)\n"
     ]
    }
   ],
   "source": [
    "df = df.dropna()\n",
    "start_hour = 8\n",
    "end_hour = 16\n",
    "\n",
    "test_df = df[(df['time'] > '2019-01-22 14:00:00') & (df['hour'] > start_hour)\n",
    "             & (df['hour'] < end_hour)]\n",
    "buy_test_y = np.array(test_df['max_buy']).reshape((-1, ))\n",
    "sell_test_y = np.array(test_df['max_sell']).reshape((-1, ))\n",
    "# test_df.drop([\n",
    "#     'time', 'open', 'high', 'low', 'close', 'volume', 'hour', 'volatility',\n",
    "#     'stochrsi_fastk', 'hour_sin', 'hour_cos', 'max_buy', 'max_buy_count',\n",
    "#     'max_sell', 'max_sell_count', 'is_buy_profit', 'is_sell_profit'\n",
    "# ],\n",
    "#              axis=1,\n",
    "#              inplace=True)\n",
    "\n",
    "test_x = test_df.as_matrix(columns=[\n",
    "    'rsi', 'adx', 'williams_r','cci'\n",
    "])\n",
    "print(test_x.shape, buy_test_y.shape, sell_test_y.shape)"
   ]
  },
  {
   "cell_type": "code",
   "execution_count": 20,
   "metadata": {
    "scrolled": true
   },
   "outputs": [
    {
     "name": "stdout",
     "output_type": "stream",
     "text": [
      "(3128, 4) (3128,) (3128,)\n"
     ]
    }
   ],
   "source": [
    "train_df = df[(df['time'] <= '2019-01-22 14:00:00') & (df['hour'] > start_hour)\n",
    "              & (df['hour'] < end_hour)]\n",
    "buy_train_y = np.array(train_df['max_buy']).reshape((-1, ))\n",
    "sell_train_y = np.array(train_df['max_sell']).reshape((-1, ))\n",
    "train_x = train_df.as_matrix(columns=[\n",
    "    'rsi', 'adx', 'williams_r','cci'\n",
    "])\n",
    "print(train_x.shape, buy_train_y.shape, sell_train_y.shape)"
   ]
  },
  {
   "cell_type": "markdown",
   "metadata": {},
   "source": [
    "# Mean Absolute Error as metrics function"
   ]
  },
  {
   "cell_type": "code",
   "execution_count": 49,
   "metadata": {},
   "outputs": [],
   "source": [
    "def weighted_metric(y_true, y_pred):\n",
    "    # large volatility -> small error\n",
    "    # small volatility -> large error\n",
    "    total = 0\n",
    "    for i in range(len(y_true)):\n",
    "        true = y_true[i]\n",
    "        pred = y_pred[i]\n",
    "        if true > stop_loss and pred > stop_loss:\n",
    "            total += abs(abs(true) - abs(pred))\n",
    "        else:\n",
    "            pass\n",
    "\n",
    "\n",
    "# Function to calculate mean absolute error\n",
    "def mae(y_true, y_pred):\n",
    "    return np.mean(abs(y_true - y_pred))\n",
    "\n",
    "\n",
    "# Takes in a model, trains the model, and evaluates the model on the test set\n",
    "def fit_and_evaluate(model, metric, xx, yy, test_xx, test_yy):\n",
    "\n",
    "    # Train the model\n",
    "    model.fit(xx, yy)\n",
    "\n",
    "    # Make predictions and evalute\n",
    "    model_pred = model.predict(test_xx)\n",
    "    model_error = metric(test_yy, model_pred)\n",
    "\n",
    "    # Return the performance metric\n",
    "    return model_error"
   ]
  },
  {
   "cell_type": "markdown",
   "metadata": {},
   "source": [
    "# Regression Models to Evaluate"
   ]
  },
  {
   "cell_type": "code",
   "execution_count": 24,
   "metadata": {},
   "outputs": [],
   "source": [
    "# Machine Learning Models\n",
    "from sklearn.linear_model import LinearRegression\n",
    "from sklearn.ensemble import RandomForestRegressor, GradientBoostingRegressor\n",
    "from sklearn.svm import SVR\n",
    "from sklearn.neighbors import KNeighborsRegressor"
   ]
  },
  {
   "cell_type": "markdown",
   "metadata": {},
   "source": [
    "# BUY direction"
   ]
  },
  {
   "cell_type": "code",
   "execution_count": 50,
   "metadata": {},
   "outputs": [
    {
     "name": "stdout",
     "output_type": "stream",
     "text": [
      "Linear Regression Performance on the test set: MSE = 421.3058\n"
     ]
    }
   ],
   "source": [
    "# Linear regression\n",
    "\n",
    "lr = LinearRegression()\n",
    "lr_mae = fit_and_evaluate(lr,mse, train_x, buy_train_y, test_x, buy_test_y)\n",
    "\n",
    "print('Linear Regression Performance on the test set: MSE = %0.4f' % lr_mae)"
   ]
  },
  {
   "cell_type": "code",
   "execution_count": 59,
   "metadata": {},
   "outputs": [
    {
     "name": "stdout",
     "output_type": "stream",
     "text": [
      "Support Vector Machine Regression Performance on the test set: MSE = 344.7496\n"
     ]
    }
   ],
   "source": [
    "# SVM\n",
    "\n",
    "svm = SVR(C=1000, gamma=0.1)\n",
    "svm_mae = fit_and_evaluate(svm, mse, train_x, buy_train_y, test_x, buy_test_y)\n",
    "\n",
    "print(\n",
    "    'Support Vector Machine Regression Performance on the test set: MSE = %0.4f'\n",
    "    % svm_mae)"
   ]
  },
  {
   "cell_type": "code",
   "execution_count": 52,
   "metadata": {},
   "outputs": [
    {
     "name": "stdout",
     "output_type": "stream",
     "text": [
      "Random Forest Regression Performance on the test set: MSE = 559.2692\n"
     ]
    }
   ],
   "source": [
    "# Random forest\n",
    "\n",
    "random_forest = RandomForestRegressor(random_state=60)\n",
    "random_forest_mae = fit_and_evaluate(random_forest, mse, train_x, buy_train_y,\n",
    "                                     test_x, buy_test_y)\n",
    "\n",
    "print('Random Forest Regression Performance on the test set: MSE = %0.4f' %\n",
    "      random_forest_mae)"
   ]
  },
  {
   "cell_type": "code",
   "execution_count": 53,
   "metadata": {},
   "outputs": [
    {
     "name": "stdout",
     "output_type": "stream",
     "text": [
      "Gradient Boosted Regression Performance on the test set: MSE = 442.8487\n"
     ]
    }
   ],
   "source": [
    "# Gradien boosted\n",
    "\n",
    "gradient_boosted = GradientBoostingRegressor(random_state=60)\n",
    "gradient_boosted_mae = fit_and_evaluate(gradient_boosted, mse, train_x,\n",
    "                                        buy_train_y, test_x, buy_test_y)\n",
    "\n",
    "print('Gradient Boosted Regression Performance on the test set: MSE = %0.4f' %\n",
    "      gradient_boosted_mae)"
   ]
  },
  {
   "cell_type": "code",
   "execution_count": 55,
   "metadata": {},
   "outputs": [
    {
     "name": "stdout",
     "output_type": "stream",
     "text": [
      "K-Nearest Neighbors Regression Performance on the test set: MSE = 482.9366\n"
     ]
    }
   ],
   "source": [
    "# KNN\n",
    "\n",
    "knn = KNeighborsRegressor(n_neighbors=10)\n",
    "knn_mae = fit_and_evaluate(knn, mse, train_x, buy_train_y, test_x, buy_test_y)\n",
    "\n",
    "print(\n",
    "    'K-Nearest Neighbors Regression Performance on the test set: MSE = %0.4f' %\n",
    "    knn_mae)"
   ]
  },
  {
   "cell_type": "code",
   "execution_count": 57,
   "metadata": {
    "scrolled": true
   },
   "outputs": [
    {
     "data": {
      "image/png": "[encoded data removed]",
      "text/plain": [
       "<Figure size 576x432 with 1 Axes>"
      ]
     },
     "metadata": {},
     "output_type": "display_data"
    }
   ],
   "source": [
    "plt.style.use('fivethirtyeight')\n",
    "figsize(8, 6)\n",
    "\n",
    "# Dataframe to hold the results\n",
    "model_comparison = pd.DataFrame({'model': ['Linear Regression', 'Support Vector Machine',\n",
    "                                           'Random Forest', 'Gradient Boosted',\n",
    "                                            'K-Nearest Neighbors'],\n",
    "                                 'mse': [lr_mae, svm_mae, random_forest_mae, \n",
    "                                         gradient_boosted_mae, knn_mae]})\n",
    "\n",
    "# Horizontal bar chart of test mae\n",
    "model_comparison.sort_values('mse', ascending = False).plot(x = 'model', y = 'mse', kind = 'barh',\n",
    "                                                           color = 'red', edgecolor = 'black')\n",
    "\n",
    "# Plot formatting\n",
    "plt.ylabel(''); plt.yticks(size = 14); plt.xlabel('Mean Squared Error'); plt.xticks(size = 14)\n",
    "plt.title('Model Comparison on Test MAE', size = 20);"
   ]
  },
  {
   "cell_type": "code",
   "execution_count": null,
   "metadata": {},
   "outputs": [],
   "source": []
  },
  {
   "cell_type": "code",
   "execution_count": null,
   "metadata": {},
   "outputs": [],
   "source": []
  },
  {
   "cell_type": "code",
   "execution_count": null,
   "metadata": {},
   "outputs": [],
   "source": []
  },
  {
   "cell_type": "code",
   "execution_count": null,
   "metadata": {},
   "outputs": [],
   "source": []
  },
  {
   "cell_type": "code",
   "execution_count": null,
   "metadata": {},
   "outputs": [],
   "source": []
  },
  {
   "cell_type": "code",
   "execution_count": 39,
   "metadata": {},
   "outputs": [
    {
     "data": {
      "text/plain": [
       "0.75"
      ]
     },
     "execution_count": 39,
     "metadata": {},
     "output_type": "execute_result"
    }
   ],
   "source": [
    "buy_test_y.shape\n",
    "test_x.shape\n",
    "mae([0, 0, 1, 1], [0, 0, 4, 1])"
   ]
  },
  {
   "cell_type": "markdown",
   "metadata": {},
   "source": [
    "# Model Optimization\n",
    "\n",
    "SVR is the best one, will select SVM to do Optimization and Hyperparameter Tuning."
   ]
  },
  {
   "cell_type": "markdown",
   "metadata": {},
   "source": [
    "## SVR default hyperparameters"
   ]
  },
  {
   "cell_type": "code",
   "execution_count": 60,
   "metadata": {},
   "outputs": [
    {
     "name": "stdout",
     "output_type": "stream",
     "text": [
      "642.0533163932985 = 5-folds cross-validation estimate of MSE with default hyperparameters\n"
     ]
    }
   ],
   "source": [
    "# we explicitly generate the outer_cv decorator so we can use it twice\n",
    "outer_cv = optunity.cross_validated(x=train_x, y=buy_train_y, num_folds=5)\n",
    "\n",
    "def compute_mse_standard(x_train, y_train, x_test, y_test):\n",
    "    \"\"\"Computes MSE of an SVR with RBF kernel and default hyperparameters.\"\"\"\n",
    "    model = SVR(C = 1000, gamma = 0.1).fit(x_train, y_train)\n",
    "    predictions = model.predict(x_test)\n",
    "    return mse(y_test, predictions)\n",
    "\n",
    "# wrap with outer cross-validation\n",
    "compute_mse_standard = outer_cv(compute_mse_standard)\n",
    "value=compute_mse_standard()\n",
    "print(f'{value} = 5-folds cross-validation estimate of MSE with default hyperparameters')\n"
   ]
  },
  {
   "cell_type": "markdown",
   "metadata": {},
   "source": [
    "### RBF kernal"
   ]
  },
  {
   "cell_type": "code",
   "execution_count": 62,
   "metadata": {},
   "outputs": [
    {
     "name": "stdout",
     "output_type": "stream",
     "text": [
      "350 optimal hyperparameters: {'logC': 2.0662109374999997, 'logGamma': 4.897038640278602} = 582.6534759759332\n",
      "810 optimal hyperparameters: {'logC': 2.325797456558583, 'logGamma': 4.6380859375} = 635.0049613359239\n",
      "1310 optimal hyperparameters: {'logC': 0.44843750000000027, 'logGamma': 3.457162151558221} = 549.5931947134342\n",
      "1710 optimal hyperparameters: {'logC': 3.643420846075526, 'logGamma': 4.151637814159438} = 673.1652833001344\n",
      "2210 optimal hyperparameters: {'logC': 0.5476562499999997, 'logGamma': 2.6635171416259182} = 608.0401139503831\n"
     ]
    },
    {
     "data": {
      "text/plain": [
       "609.6914058551617"
      ]
     },
     "execution_count": 62,
     "metadata": {},
     "output_type": "execute_result"
    }
   ],
   "source": [
    "counter = 0\n",
    "\n",
    "# we explicitly generate the outer_cv decorator so we can use it twice\n",
    "outer_cv = optunity.cross_validated(x=train_x, y=buy_train_y, num_folds=5)\n",
    "\n",
    "\n",
    "def compute_mse_rbf_tuned(x_train, y_train, x_test, y_test):\n",
    "    \"\"\"Computes MSE of an SVR with RBF kernel and optimized hyperparameters.\"\"\"\n",
    "\n",
    "    # define objective function for tuning\n",
    "    @optunity.cross_validated(x=x_train, y=y_train, num_iter=2, num_folds=5)\n",
    "    def tune_cv(x_train, y_train, x_test, y_test, logC, logGamma):\n",
    "        model = sklearn.svm.SVR(C=10**logC,\n",
    "                                gamma=10**logGamma).fit(x_train, y_train)\n",
    "        predictions = model.predict(x_test)\n",
    "        global counter\n",
    "        counter += 1\n",
    "        return optunity.metrics.mse(y_test, predictions)\n",
    "\n",
    "    # optimize parameters\n",
    "    optimal_pars, _, _ = optunity.minimize(tune_cv,\n",
    "                                           num_evals=50,\n",
    "                                           logC=[-5, 5],\n",
    "                                           logGamma=[-5, 5])\n",
    "\n",
    "    tuned_model = sklearn.svm.SVR(C=10**optimal_pars.get('logC'),\n",
    "                                  gamma=10**optimal_pars.get('logGamma')).fit(\n",
    "                                      x_train, y_train)\n",
    "    predictions = tuned_model.predict(x_test)\n",
    "    mse_value = optunity.metrics.mse(y_test, predictions)\n",
    "    \n",
    "    global counter\n",
    "    print(\"%s optimal hyperparameters: %s = %s\" % (counter, optimal_pars, mse_value))\n",
    "    return mse_value\n",
    "\n",
    "\n",
    "# wrap with outer cross-validation\n",
    "compute_mse_rbf_tuned = outer_cv(compute_mse_rbf_tuned)\n",
    "compute_mse_rbf_tuned()"
   ]
  },
  {
   "cell_type": "markdown",
   "metadata": {},
   "source": [
    "50 optimal hyperparameters: {'logC': 0.8251953125, 'logGamma': 3.8916015625} = 746.755235124794\n",
    "\n",
    "100 optimal hyperparameters: {'logC': 1.8994140625, 'logGamma': 4.3798828125} = 606.4509590631386\n",
    "\n",
    "150 optimal hyperparameters: {'logC': 3.2763671875, 'logGamma': -4.7705078125} = 635.2671289270351\n",
    "\n",
    "200 optimal hyperparameters: {'logC': -0.107421875, 'logGamma': 4.208984375} = 612.4016817613954\n",
    "\n",
    "250 optimal hyperparameters: {'logC': -0.3173828125, 'logGamma': 4.1357421875} = 560.9439632659183\n",
    "\n",
    "632.3637936284563"
   ]
  },
  {
   "cell_type": "markdown",
   "metadata": {},
   "source": [
    "### Poly kernal"
   ]
  },
  {
   "cell_type": "code",
   "execution_count": 25,
   "metadata": {},
   "outputs": [
    {
     "name": "stdout",
     "output_type": "stream",
     "text": [
      "optimal hyperparameters: {'C': 1000.893841145833, 'degree': 2.078815104166665, 'coef0': 0.18623697916666687}\n",
      "optimal hyperparameters: {'C': 1000.6850698969025, 'degree': 2.3267390997815034, 'coef0': 0.4158163441989351}\n",
      "optimal hyperparameters: {'C': 1000.1605641306761, 'degree': 2.3738505036848694, 'coef0': 0.01541886608240831}\n",
      "optimal hyperparameters: {'C': 1000.5297864183988, 'degree': 2.4821780978670276, 'coef0': 0.03812318161467538}\n",
      "optimal hyperparameters: {'C': 1000.4526429027724, 'degree': 2.4958529967616974, 'coef0': 0.19407643771580205}\n"
     ]
    },
    {
     "data": {
      "text/plain": [
       "362.82706641671484"
      ]
     },
     "execution_count": 25,
     "metadata": {},
     "output_type": "execute_result"
    }
   ],
   "source": [
    "import warnings\n",
    "warnings.filterwarnings('ignore')\n",
    "\n",
    "# we explicitly generate the outer_cv decorator so we can use it twice\n",
    "outer_cv = optunity.cross_validated(x=train_x, y=buy_train_y, num_folds=5)\n",
    "\n",
    "\n",
    "# use poly kernal\n",
    "def compute_mse_poly_tuned(x_train, y_train, x_test, y_test):\n",
    "    \"\"\"Computes MSE of an SVR with RBF kernel and optimized hyperparameters.\"\"\"\n",
    "\n",
    "    # define objective function for tuning\n",
    "    @optunity.cross_validated(x=train_x,\n",
    "                              y=buy_train_y,\n",
    "                              num_iter=2,\n",
    "                              num_folds=5)\n",
    "    def tune_cv(x_train, y_train, x_test, y_test, C, degree, coef0):\n",
    "        model = sklearn.svm.SVR(C=C, degree=degree, coef0=coef0,\n",
    "                                kernel='poly').fit(x_train, y_train)\n",
    "        predictions = model.predict(x_test)\n",
    "        m = optunity.metrics.mse(y_test, predictions)\n",
    "        return m\n",
    "\n",
    "    # optimize parameters\n",
    "    optimal_pars, _, _ = optunity.minimize(tune_cv,\n",
    "                                           num_evals=50,\n",
    "                                           C=[1000, 1001],\n",
    "                                           degree=[2, 3],\n",
    "                                           coef0=[0, 1])\n",
    "    print(\"optimal hyperparameters: \" + str(optimal_pars))\n",
    "\n",
    "    tuned_model = sklearn.svm.SVR(kernel='poly',\n",
    "                                  **optimal_pars).fit(x_train, y_train)\n",
    "    predictions = tuned_model.predict(x_test)\n",
    "    return optunity.metrics.mse(y_test, predictions)\n",
    "\n",
    "\n",
    "# wrap with outer cross-validation\n",
    "compute_mse_poly_tuned = outer_cv(compute_mse_poly_tuned)\n",
    "compute_mse_poly_tuned()"
   ]
  },
  {
   "cell_type": "code",
   "execution_count": null,
   "metadata": {},
   "outputs": [],
   "source": []
  },
  {
   "cell_type": "code",
   "execution_count": 195,
   "metadata": {},
   "outputs": [
    {
     "ename": "NameError",
     "evalue": "name 'X' is not defined",
     "output_type": "error",
     "traceback": [
      "\u001b[0;31m---------------------------------------------------------------------------\u001b[0m",
      "\u001b[0;31mNameError\u001b[0m                                 Traceback (most recent call last)",
      "\u001b[0;32m<ipython-input-195-3eb45128d6f2>\u001b[0m in \u001b[0;36m<module>\u001b[0;34m\u001b[0m\n\u001b[1;32m      3\u001b[0m \u001b[0;34m\u001b[0m\u001b[0m\n\u001b[1;32m      4\u001b[0m \u001b[0;31m# we explicitly generate the outer_cv decorator so we can use it twice\u001b[0m\u001b[0;34m\u001b[0m\u001b[0;34m\u001b[0m\u001b[0;34m\u001b[0m\u001b[0m\n\u001b[0;32m----> 5\u001b[0;31m \u001b[0mouter_cv\u001b[0m \u001b[0;34m=\u001b[0m \u001b[0moptunity\u001b[0m\u001b[0;34m.\u001b[0m\u001b[0mcross_validated\u001b[0m\u001b[0;34m(\u001b[0m\u001b[0mx\u001b[0m\u001b[0;34m=\u001b[0m\u001b[0mX\u001b[0m\u001b[0;34m,\u001b[0m \u001b[0my\u001b[0m\u001b[0;34m=\u001b[0m\u001b[0my\u001b[0m\u001b[0;34m,\u001b[0m \u001b[0mnum_folds\u001b[0m\u001b[0;34m=\u001b[0m\u001b[0;36m5\u001b[0m\u001b[0;34m,\u001b[0m \u001b[0mnum_iter\u001b[0m\u001b[0;34m=\u001b[0m\u001b[0;36m1\u001b[0m\u001b[0;34m)\u001b[0m\u001b[0;34m\u001b[0m\u001b[0;34m\u001b[0m\u001b[0m\n\u001b[0m\u001b[1;32m      6\u001b[0m \u001b[0;34m\u001b[0m\u001b[0m\n\u001b[1;32m      7\u001b[0m \u001b[0;31m# define objective function for tuning\u001b[0m\u001b[0;34m\u001b[0m\u001b[0;34m\u001b[0m\u001b[0;34m\u001b[0m\u001b[0m\n",
      "\u001b[0;31mNameError\u001b[0m: name 'X' is not defined"
     ]
    }
   ],
   "source": [
    "import optunity\n",
    "from optunity import cross_validated\n",
    "\n",
    "\n",
    "# we explicitly generate the outer_cv decorator so we can use it twice\n",
    "outer_cv = optunity.cross_validated(x=X, y=y, num_folds=5, num_iter=1)\n",
    "\n",
    "\n",
    "# define objective function for tuning\n",
    "@optunity.cross_validated(x=x_train, y=y_train, num_iter=1, num_folds=5)\n",
    "def tune_cv(x_train, y_train, x_test, y_test, C, degree, coef0):\n",
    "    model = sklearn.svm.SVR(C=C, degree=degree, coef0=coef0, kernel='poly').fit(x_train, y_train)\n",
    "    predictions = model.predict(x_test)\n",
    "    return optunity.metrics.mse(y_test, predictions)\n",
    "    \n",
    "def compute_mse_standard(x_train, y_train, x_test, y_test):\n",
    "    \"\"\"Computes MSE of an SVR with RBF kernel and default hyperparameters.\n",
    "    \"\"\"\n",
    "    model = sklearn.svm.SVR().fit(x_train, y_train)\n",
    "    predictions = model.predict(x_test)\n",
    "    return optunity.metrics.mse(y_test, predictions)\n",
    "\n",
    "# wrap with outer cross-validation\n",
    "compute_mse_with_cv = outer_cv(compute_mse_standard)\n",
    "compute_mse_with_cv()"
   ]
  },
  {
   "cell_type": "code",
   "execution_count": null,
   "metadata": {},
   "outputs": [],
   "source": [
    "import optunity\n",
    "import optunity.metrics\n",
    "import sklearn.svm\n",
    "\n",
    "# score function: twice iterated 10-fold cross-validated accuracy\n",
    "@optunity.cross_validated(x=X, y=y, num_folds=10, num_iter=2)\n",
    "def svm_auc(x_train, y_train, x_test, y_test, logC, logGamma):\n",
    "    model = SVR(C=10 ** logC, gamma=10 ** logGamma).fit(x_train, y_train)\n",
    "    predictions = model.predict(x_test)\n",
    "    return mae(y_test, predictions)\n",
    "\n",
    "# perform tuning\n",
    "hps, _, _ = optunity.maximize(svm_auc, num_evals=10, logC=[-5, 5], logGamma=[-5, 5])\n",
    "print(hps)"
   ]
  },
  {
   "cell_type": "code",
   "execution_count": 52,
   "metadata": {
    "scrolled": false
   },
   "outputs": [
    {
     "name": "stdout",
     "output_type": "stream",
     "text": [
      "C=0.001, gamma=0.0001  = 3.7637078983794177\n",
      "C=0.001, gamma=0.001  = 3.7636835461338305\n",
      "C=0.001, gamma=0.01  = 3.763375913798129\n",
      "C=0.001, gamma=0.1  = 3.7601455839443436\n",
      "C=0.001, gamma=1  = 3.740820001029104\n",
      "C=0.001, gamma=10  = 3.7131975881375197\n",
      "C=0.01, gamma=0.0001  = 3.7636835436299436\n",
      "C=0.01, gamma=0.001  = 3.7633845525066283\n",
      "C=0.01, gamma=0.01  = 3.7601029219695508\n",
      "C=0.01, gamma=0.1  = 3.738815357878329\n",
      "C=0.01, gamma=1  = 3.695629439188367\n",
      "C=0.01, gamma=10  = 3.6947023440239772\n",
      "C=0.01, gamma=100  = 3.713421024452286\n",
      "C=0.1, gamma=0.0001  = 3.7633726919599586\n",
      "C=0.1, gamma=0.001  = 3.7600993550175548\n",
      "C=0.1, gamma=0.01  = 3.7385843163792516\n",
      "C=0.1, gamma=0.1  = 3.695796937757105\n",
      "C=0.1, gamma=1  = 3.6903271645344176\n",
      "C=0.1, gamma=10  = 3.6969897527009774\n",
      "C=0.1, gamma=100  = 3.7088747548728236\n",
      "C=1, gamma=0.0001  = 3.7600988760544656\n",
      "C=1, gamma=0.001  = 3.738556286076489\n",
      "C=1, gamma=0.01  = 3.695856933699899\n",
      "C=1, gamma=0.1  = 3.69225265007057\n",
      "C=1, gamma=1  = 3.6916386095096048\n",
      "C=1, gamma=10  = 3.7141171751932442\n",
      "C=1, gamma=100  = 3.7183738240010262\n",
      "C=10, gamma=0.0001  = 3.7385488202906787\n",
      "C=10, gamma=0.001  = 3.695855951416647\n",
      "C=10, gamma=0.01  = 3.6924364072044713\n",
      "C=10, gamma=0.1  = 3.693321717506182\n",
      "C=10, gamma=1  = 3.6964847583857985\n",
      "C=10, gamma=10  = 3.7299203628796684\n",
      "C=10, gamma=100  = 3.7478615687136885\n",
      "C=100, gamma=0.001  = 3.692444830062937\n",
      "C=100, gamma=0.01  = 3.693091263751491\n",
      "C=100, gamma=0.1  = 3.6953234786473144\n",
      "C=100, gamma=1  = 3.703251142397306\n",
      "C=100, gamma=10  = 3.7484031316494586\n",
      "C=100, gamma=100  = 3.7778544402112684\n",
      "C=1000, gamma=0.0001  = 3.6925002170350645\n",
      "C=1000, gamma=0.001  = 3.6931323161645397\n",
      "C=1000, gamma=0.01  = 3.6940072752540543\n",
      "C=1000, gamma=0.1  = 3.696459928693902\n",
      "C=1000, gamma=1  = 3.708206786483546\n",
      "C=1000, gamma=10  = 3.7605078655489925\n",
      "C=1000, gamma=100  = 3.827164872470653\n"
     ]
    }
   ],
   "source": [
    "# manually grid search \n",
    "from itertools import product\n",
    "combination = list(product(*[range(-3, 4), range(-4, 3)]))\n",
    "result = []\n",
    "for a, b in combination:\n",
    "    svm = SVR(C=10**a, gamma=10**b)\n",
    "    svm_mae = fit_and_evaluate(svm)\n",
    "    result.append((10**a, 10**b, svm_mae))\n",
    "    print(f'C={10 ** a}, gamma={10 ** b}  = {svm_mae}')"
   ]
  },
  {
   "cell_type": "markdown",
   "metadata": {},
   "source": [
    "The best one is \n",
    "\n",
    "C=0.1, gamma=1, 3.6903271645344176"
   ]
  },
  {
   "cell_type": "code",
   "execution_count": 29,
   "metadata": {},
   "outputs": [
    {
     "name": "stdout",
     "output_type": "stream",
     "text": [
      "3.6903271645344176\n"
     ]
    }
   ],
   "source": [
    "# train model on the full training set with tuned hyperparameters\n",
    "optimal_model = SVR(C=0.1, gamma=1).fit(X, y)\n",
    "model_pred = optimal_model.predict(X_test)\n",
    "model_mae = mae(y_test, model_pred)\n",
    "print(model_mae)"
   ]
  }
 ],
 "metadata": {
  "hide_input": false,
  "kernelspec": {
   "display_name": "Python 3",
   "language": "python",
   "name": "python3"
  },
  "language_info": {
   "codemirror_mode": {
    "name": "ipython",
    "version": 3
   },
   "file_extension": ".py",
   "mimetype": "text/x-python",
   "name": "python",
   "nbconvert_exporter": "python",
   "pygments_lexer": "ipython3",
   "version": "3.7.1"
  }
 },
 "nbformat": 4,
 "nbformat_minor": 2
}
