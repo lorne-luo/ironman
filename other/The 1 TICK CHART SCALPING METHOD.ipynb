{
 "cells": [
  {
   "cell_type": "markdown",
   "metadata": {},
   "source": [
    "### The 1 TICK CHART SCALPING METHOD\n",
    "\n",
    "https://forums.babypips.com/t/the-1-tick-chart-scalping-method/77291/5"
   ]
  },
  {
   "cell_type": "markdown",
   "metadata": {},
   "source": [
    "![](https://f.bpcdn.co/optimized/3X/d/7/d724d7137d4de02e732938db4ed97aaef10c999e_1_690x350.jpg)\n",
    "\n",
    "1. find support/resistance level\n",
    "2. find bounce/break/trend\n",
    "3. take 2-12 pips profit\n",
    "4. clip immediately if not goes your way"
   ]
  },
  {
   "cell_type": "code",
   "execution_count": null,
   "metadata": {},
   "outputs": [],
   "source": []
  },
  {
   "cell_type": "code",
   "execution_count": null,
   "metadata": {},
   "outputs": [],
   "source": []
  }
 ],
 "metadata": {
  "kernelspec": {
   "display_name": "Python 3",
   "language": "python",
   "name": "python3"
  },
  "language_info": {
   "codemirror_mode": {
    "name": "ipython",
    "version": 3
   },
   "file_extension": ".py",
   "mimetype": "text/x-python",
   "name": "python",
   "nbconvert_exporter": "python",
   "pygments_lexer": "ipython3",
   "version": "3.6.8"
  }
 },
 "nbformat": 4,
 "nbformat_minor": 2
}
