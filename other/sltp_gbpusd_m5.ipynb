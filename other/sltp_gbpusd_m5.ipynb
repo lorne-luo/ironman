{
 "cells": [
  {
   "cell_type": "markdown",
   "metadata": {},
   "source": [
    "This is to analysis best `take_profit` and `stop_loss` for scalping on GBPUSD_M5."
   ]
  },
  {
   "cell_type": "code",
   "execution_count": 1,
   "metadata": {},
   "outputs": [],
   "source": [
    "import numpy as np\n",
    "import scipy as sp\n",
    "import pandas as pd\n",
    "from pandas import DataFrame\n",
    "import matplotlib as mpl\n",
    "import talib as ta\n",
    "from matplotlib import pyplot as plt\n",
    "import matplotlib\n",
    "from matplotlib.pyplot import plot as plot\n",
    "from numpy import inf, arange, array, linspace, exp, log, power, pi, cos, sin, radians, degrees\n",
    "import pandas_datareader as pdr\n",
    "from math import fabs"
   ]
  },
  {
   "cell_type": "code",
   "execution_count": 3,
   "metadata": {
    "scrolled": true
   },
   "outputs": [
    {
     "data": {
      "text/html": [
       "<div>\n",
       "<style scoped>\n",
       "    .dataframe tbody tr th:only-of-type {\n",
       "        vertical-align: middle;\n",
       "    }\n",
       "\n",
       "    .dataframe tbody tr th {\n",
       "        vertical-align: top;\n",
       "    }\n",
       "\n",
       "    .dataframe thead th {\n",
       "        text-align: right;\n",
       "    }\n",
       "</style>\n",
       "<table border=\"1\" class=\"dataframe\">\n",
       "  <thead>\n",
       "    <tr style=\"text-align: right;\">\n",
       "      <th></th>\n",
       "      <th>max_sell</th>\n",
       "      <th>max_buy</th>\n",
       "      <th>max_sell_interval</th>\n",
       "      <th>max_buy_interval</th>\n",
       "    </tr>\n",
       "    <tr>\n",
       "      <th>time</th>\n",
       "      <th></th>\n",
       "      <th></th>\n",
       "      <th></th>\n",
       "      <th></th>\n",
       "    </tr>\n",
       "  </thead>\n",
       "  <tbody>\n",
       "    <tr>\n",
       "      <th>2018-12-02 22:00:00</th>\n",
       "      <td>0.0</td>\n",
       "      <td>0.0</td>\n",
       "      <td>0</td>\n",
       "      <td>0</td>\n",
       "    </tr>\n",
       "    <tr>\n",
       "      <th>2018-12-02 22:05:00</th>\n",
       "      <td>3.6</td>\n",
       "      <td>0.0</td>\n",
       "      <td>40</td>\n",
       "      <td>0</td>\n",
       "    </tr>\n",
       "    <tr>\n",
       "      <th>2018-12-02 22:10:00</th>\n",
       "      <td>6.3</td>\n",
       "      <td>0.0</td>\n",
       "      <td>35</td>\n",
       "      <td>0</td>\n",
       "    </tr>\n",
       "    <tr>\n",
       "      <th>2018-12-02 22:15:00</th>\n",
       "      <td>4.2</td>\n",
       "      <td>0.1</td>\n",
       "      <td>30</td>\n",
       "      <td>9</td>\n",
       "    </tr>\n",
       "    <tr>\n",
       "      <th>2018-12-02 22:20:00</th>\n",
       "      <td>4.7</td>\n",
       "      <td>3.2</td>\n",
       "      <td>25</td>\n",
       "      <td>4</td>\n",
       "    </tr>\n",
       "  </tbody>\n",
       "</table>\n",
       "</div>"
      ],
      "text/plain": [
       "                     max_sell  max_buy  max_sell_interval  max_buy_interval\n",
       "time                                                                       \n",
       "2018-12-02 22:00:00       0.0      0.0                  0                 0\n",
       "2018-12-02 22:05:00       3.6      0.0                 40                 0\n",
       "2018-12-02 22:10:00       6.3      0.0                 35                 0\n",
       "2018-12-02 22:15:00       4.2      0.1                 30                 9\n",
       "2018-12-02 22:20:00       4.7      3.2                 25                 4"
      ]
     },
     "execution_count": 3,
     "metadata": {},
     "output_type": "execute_result"
    }
   ],
   "source": [
    "# read raw data frame\n",
    "# sltp.csv is calculate result of sttp.py\n",
    "df = pd.read_csv('data/GBPUSD_tick_M5_sltp.csv', header=0, index_col='time', parse_dates=True)\n",
    "df.head()"
   ]
  },
  {
   "cell_type": "code",
   "execution_count": 5,
   "metadata": {},
   "outputs": [
    {
     "data": {
      "text/html": [
       "<div>\n",
       "<style scoped>\n",
       "    .dataframe tbody tr th:only-of-type {\n",
       "        vertical-align: middle;\n",
       "    }\n",
       "\n",
       "    .dataframe tbody tr th {\n",
       "        vertical-align: top;\n",
       "    }\n",
       "\n",
       "    .dataframe thead th {\n",
       "        text-align: right;\n",
       "    }\n",
       "</style>\n",
       "<table border=\"1\" class=\"dataframe\">\n",
       "  <thead>\n",
       "    <tr style=\"text-align: right;\">\n",
       "      <th></th>\n",
       "      <th>max_sell</th>\n",
       "      <th>max_buy</th>\n",
       "      <th>max_sell_interval</th>\n",
       "      <th>max_buy_interval</th>\n",
       "      <th>hour</th>\n",
       "    </tr>\n",
       "    <tr>\n",
       "      <th>time</th>\n",
       "      <th></th>\n",
       "      <th></th>\n",
       "      <th></th>\n",
       "      <th></th>\n",
       "      <th></th>\n",
       "    </tr>\n",
       "  </thead>\n",
       "  <tbody>\n",
       "    <tr>\n",
       "      <th>2018-12-02 22:00:00</th>\n",
       "      <td>0.0</td>\n",
       "      <td>0.0</td>\n",
       "      <td>0</td>\n",
       "      <td>0</td>\n",
       "      <td>22</td>\n",
       "    </tr>\n",
       "    <tr>\n",
       "      <th>2018-12-02 22:05:00</th>\n",
       "      <td>3.6</td>\n",
       "      <td>0.0</td>\n",
       "      <td>40</td>\n",
       "      <td>0</td>\n",
       "      <td>22</td>\n",
       "    </tr>\n",
       "  </tbody>\n",
       "</table>\n",
       "</div>"
      ],
      "text/plain": [
       "                     max_sell  max_buy  max_sell_interval  max_buy_interval  \\\n",
       "time                                                                          \n",
       "2018-12-02 22:00:00       0.0      0.0                  0                 0   \n",
       "2018-12-02 22:05:00       3.6      0.0                 40                 0   \n",
       "\n",
       "                     hour  \n",
       "time                       \n",
       "2018-12-02 22:00:00    22  \n",
       "2018-12-02 22:05:00    22  "
      ]
     },
     "execution_count": 5,
     "metadata": {},
     "output_type": "execute_result"
    }
   ],
   "source": [
    "# add hour column\n",
    "time = pd.Series(df.index, index=df.index)\n",
    "hours = time.apply(lambda x: x.hour)\n",
    "df['hour'] = hours\n",
    "df.head(2)"
   ]
  },
  {
   "cell_type": "code",
   "execution_count": 6,
   "metadata": {},
   "outputs": [
    {
     "data": {
      "text/plain": [
       "count    672.000000\n",
       "mean       6.131696\n",
       "std        8.336451\n",
       "min        0.000000\n",
       "25%        1.300000\n",
       "50%        4.000000\n",
       "75%        7.700000\n",
       "max       75.100000\n",
       "Name: max_sell, dtype: float64"
      ]
     },
     "execution_count": 6,
     "metadata": {},
     "output_type": "execute_result"
    }
   ],
   "source": [
    "# \n",
    "df2 = df.loc[df['hour'].isin([19, 20, 21])]\n",
    "df2['max_sell'].describe()"
   ]
  },
  {
   "cell_type": "code",
   "execution_count": 8,
   "metadata": {},
   "outputs": [
    {
     "data": {
      "text/plain": [
       "count    672.000000\n",
       "mean       5.181696\n",
       "std        6.353518\n",
       "min        0.000000\n",
       "25%        0.700000\n",
       "50%        3.300000\n",
       "75%        6.800000\n",
       "max       34.900000\n",
       "Name: max_buy, dtype: float64"
      ]
     },
     "execution_count": 8,
     "metadata": {},
     "output_type": "execute_result"
    }
   ],
   "source": [
    "df2['max_buy'].describe()"
   ]
  },
  {
   "cell_type": "code",
   "execution_count": 11,
   "metadata": {},
   "outputs": [
    {
     "data": {
      "text/plain": [
       "count    672.000000\n",
       "mean       6.131696\n",
       "std        8.336451\n",
       "min        0.000000\n",
       "25%        1.300000\n",
       "50%        4.000000\n",
       "75%        7.700000\n",
       "max       75.100000\n",
       "Name: max_sell, dtype: float64"
      ]
     },
     "execution_count": 11,
     "metadata": {},
     "output_type": "execute_result"
    }
   ],
   "source": [
    "df3 = df.loc[df['hour'].isin([19, 20, 21])]\n",
    "df3['max_sell'].describe()"
   ]
  },
  {
   "cell_type": "code",
   "execution_count": 28,
   "metadata": {},
   "outputs": [
    {
     "data": {
      "image/png": "[encoded data removed]",
      "text/plain": [
       "<Figure size 432x288 with 1 Axes>"
      ]
     },
     "metadata": {
      "needs_background": "light"
     },
     "output_type": "display_data"
    }
   ],
   "source": [
    "# hist diagram\n",
    "max=int(df['max_sell'].describe()['max'])+1\n",
    "df['max_sell'].hist(bins=max)\n",
    "plt.show()"
   ]
  },
  {
   "cell_type": "markdown",
   "metadata": {},
   "source": [
    "# Dicesion\n",
    "Best `take_profit` is 5 pips\n",
    "Best `stop_loss` is 8 pips"
   ]
  }
 ],
 "metadata": {
  "hide_input": false,
  "kernelspec": {
   "display_name": "Python 3",
   "language": "python",
   "name": "python3"
  },
  "language_info": {
   "codemirror_mode": {
    "name": "ipython",
    "version": 3
   },
   "file_extension": ".py",
   "mimetype": "text/x-python",
   "name": "python",
   "nbconvert_exporter": "python",
   "pygments_lexer": "ipython3",
   "version": "3.7.1"
  }
 },
 "nbformat": 4,
 "nbformat_minor": 2
}
