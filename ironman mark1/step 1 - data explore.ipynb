{
 "cells": [
  {
   "cell_type": "markdown",
   "metadata": {},
   "source": [
    "# Step 1. Data explore"
   ]
  },
  {
   "cell_type": "markdown",
   "metadata": {},
   "source": [
    "This the first step\n",
    "\n",
    "1. [**Data exploration**](#)\n",
    "2. "
   ]
  },
  {
   "cell_type": "code",
   "execution_count": 1,
   "metadata": {},
   "outputs": [],
   "source": [
    "from datetime import datetime\n",
    "import pandas as pd\n",
    "import matplotlib.pyplot as plt\n",
    "%matplotlib inline\n",
    "\n",
    "# Set default font size\n",
    "plt.rcParams['font.size'] = 24\n",
    "\n",
    "# Internal ipython tool for setting figure size\n",
    "from IPython.core.pylabtools import figsize\n",
    "\n",
    "csv_path='data/GBPUSD_Candlestick_1_M_ASK_01.02.2018-01.02.2019.csv'"
   ]
  },
  {
   "cell_type": "code",
   "execution_count": 2,
   "metadata": {
    "scrolled": true
   },
   "outputs": [
    {
     "name": "stdout",
     "output_type": "stream",
     "text": [
      "Row count = 527040\n"
     ]
    },
    {
     "data": {
      "text/html": [
       "<div>\n",
       "<style scoped>\n",
       "    .dataframe tbody tr th:only-of-type {\n",
       "        vertical-align: middle;\n",
       "    }\n",
       "\n",
       "    .dataframe tbody tr th {\n",
       "        vertical-align: top;\n",
       "    }\n",
       "\n",
       "    .dataframe thead th {\n",
       "        text-align: right;\n",
       "    }\n",
       "</style>\n",
       "<table border=\"1\" class=\"dataframe\">\n",
       "  <thead>\n",
       "    <tr style=\"text-align: right;\">\n",
       "      <th></th>\n",
       "      <th>open</th>\n",
       "      <th>high</th>\n",
       "      <th>low</th>\n",
       "      <th>close</th>\n",
       "      <th>volume</th>\n",
       "    </tr>\n",
       "    <tr>\n",
       "      <th>time</th>\n",
       "      <th></th>\n",
       "      <th></th>\n",
       "      <th></th>\n",
       "      <th></th>\n",
       "      <th></th>\n",
       "    </tr>\n",
       "  </thead>\n",
       "  <tbody>\n",
       "    <tr>\n",
       "      <th>2018-02-01 00:00:00</th>\n",
       "      <td>1.41996</td>\n",
       "      <td>1.42005</td>\n",
       "      <td>1.41994</td>\n",
       "      <td>1.42005</td>\n",
       "      <td>81.63</td>\n",
       "    </tr>\n",
       "    <tr>\n",
       "      <th>2018-02-01 00:01:00</th>\n",
       "      <td>1.42008</td>\n",
       "      <td>1.42014</td>\n",
       "      <td>1.41993</td>\n",
       "      <td>1.41997</td>\n",
       "      <td>130.89</td>\n",
       "    </tr>\n",
       "    <tr>\n",
       "      <th>2018-02-01 00:02:00</th>\n",
       "      <td>1.41996</td>\n",
       "      <td>1.42030</td>\n",
       "      <td>1.41996</td>\n",
       "      <td>1.42020</td>\n",
       "      <td>109.85</td>\n",
       "    </tr>\n",
       "    <tr>\n",
       "      <th>2018-02-01 00:03:00</th>\n",
       "      <td>1.42020</td>\n",
       "      <td>1.42060</td>\n",
       "      <td>1.42020</td>\n",
       "      <td>1.42043</td>\n",
       "      <td>213.38</td>\n",
       "    </tr>\n",
       "    <tr>\n",
       "      <th>2018-02-01 00:04:00</th>\n",
       "      <td>1.42043</td>\n",
       "      <td>1.42048</td>\n",
       "      <td>1.42043</td>\n",
       "      <td>1.42045</td>\n",
       "      <td>133.74</td>\n",
       "    </tr>\n",
       "  </tbody>\n",
       "</table>\n",
       "</div>"
      ],
      "text/plain": [
       "                        open     high      low    close  volume\n",
       "time                                                           \n",
       "2018-02-01 00:00:00  1.41996  1.42005  1.41994  1.42005   81.63\n",
       "2018-02-01 00:01:00  1.42008  1.42014  1.41993  1.41997  130.89\n",
       "2018-02-01 00:02:00  1.41996  1.42030  1.41996  1.42020  109.85\n",
       "2018-02-01 00:03:00  1.42020  1.42060  1.42020  1.42043  213.38\n",
       "2018-02-01 00:04:00  1.42043  1.42048  1.42043  1.42045  133.74"
      ]
     },
     "execution_count": 2,
     "metadata": {},
     "output_type": "execute_result"
    }
   ],
   "source": [
    "# prepare date parser\n",
    "dateparse = lambda x: pd.datetime.strptime(x, '%d.%m.%Y %H:%M:%S.%f')\n",
    "# load csv\n",
    "df = pd.read_csv(csv_path,\n",
    "                 header=0,\n",
    "                 index_col='Gmt time',\n",
    "                 names=['Gmt time', 'Open', 'High', 'Low', 'Close', 'Volume'],\n",
    "                 parse_dates=['Gmt time'],\n",
    "                 date_parser=dateparse)\n",
    "df.columns = ['open', 'high', 'low', 'close', 'volume']\n",
    "df.index.rename('time', inplace=True)\n",
    "print('Row count = %d' % len(df))\n",
    "df.head(5)"
   ]
  },
  {
   "cell_type": "code",
   "execution_count": 3,
   "metadata": {},
   "outputs": [
    {
     "data": {
      "text/plain": [
       "open      0\n",
       "high      0\n",
       "low       0\n",
       "close     0\n",
       "volume    0\n",
       "dtype: int64"
      ]
     },
     "execution_count": 3,
     "metadata": {},
     "output_type": "execute_result"
    }
   ],
   "source": [
    "# inspect nan value\n",
    "df.isna().sum()"
   ]
  },
  {
   "cell_type": "markdown",
   "metadata": {},
   "source": [
    "# Clean invalid row"
   ]
  },
  {
   "cell_type": "code",
   "execution_count": 4,
   "metadata": {},
   "outputs": [
    {
     "name": "stdout",
     "output_type": "stream",
     "text": [
      "Invalid row count = 152444\n",
      "Row count = 374596\n"
     ]
    }
   ],
   "source": [
    "# remove invalid candle\n",
    "invalid_index = df[(df['high'] == df['low']) & (df['high'] == df['open']) &\n",
    "                   (df['open'] == df['close']) & (df['volume'] == 0)].index\n",
    "print('Invalid row count = %s'% len(invalid_index))\n",
    "\n",
    "df = df.drop(invalid_index)\n",
    "print('Row count = %d' % len(df))"
   ]
  },
  {
   "cell_type": "markdown",
   "metadata": {},
   "source": [
    "# Extract basic features"
   ]
  },
  {
   "cell_type": "code",
   "execution_count": 5,
   "metadata": {
    "scrolled": true
   },
   "outputs": [
    {
     "data": {
      "text/html": [
       "<div>\n",
       "<style scoped>\n",
       "    .dataframe tbody tr th:only-of-type {\n",
       "        vertical-align: middle;\n",
       "    }\n",
       "\n",
       "    .dataframe tbody tr th {\n",
       "        vertical-align: top;\n",
       "    }\n",
       "\n",
       "    .dataframe thead th {\n",
       "        text-align: right;\n",
       "    }\n",
       "</style>\n",
       "<table border=\"1\" class=\"dataframe\">\n",
       "  <thead>\n",
       "    <tr style=\"text-align: right;\">\n",
       "      <th></th>\n",
       "      <th>open</th>\n",
       "      <th>high</th>\n",
       "      <th>low</th>\n",
       "      <th>close</th>\n",
       "      <th>volume</th>\n",
       "      <th>hour</th>\n",
       "    </tr>\n",
       "    <tr>\n",
       "      <th>time</th>\n",
       "      <th></th>\n",
       "      <th></th>\n",
       "      <th></th>\n",
       "      <th></th>\n",
       "      <th></th>\n",
       "      <th></th>\n",
       "    </tr>\n",
       "  </thead>\n",
       "  <tbody>\n",
       "    <tr>\n",
       "      <th>2019-02-01 21:55:00</th>\n",
       "      <td>1.30773</td>\n",
       "      <td>1.30799</td>\n",
       "      <td>1.30773</td>\n",
       "      <td>1.30796</td>\n",
       "      <td>91.58</td>\n",
       "      <td>21</td>\n",
       "    </tr>\n",
       "    <tr>\n",
       "      <th>2019-02-01 21:56:00</th>\n",
       "      <td>1.30797</td>\n",
       "      <td>1.30844</td>\n",
       "      <td>1.30796</td>\n",
       "      <td>1.30842</td>\n",
       "      <td>66.66</td>\n",
       "      <td>21</td>\n",
       "    </tr>\n",
       "    <tr>\n",
       "      <th>2019-02-01 21:57:00</th>\n",
       "      <td>1.30843</td>\n",
       "      <td>1.30857</td>\n",
       "      <td>1.30835</td>\n",
       "      <td>1.30835</td>\n",
       "      <td>94.78</td>\n",
       "      <td>21</td>\n",
       "    </tr>\n",
       "    <tr>\n",
       "      <th>2019-02-01 21:58:00</th>\n",
       "      <td>1.30836</td>\n",
       "      <td>1.30859</td>\n",
       "      <td>1.30790</td>\n",
       "      <td>1.30815</td>\n",
       "      <td>173.23</td>\n",
       "      <td>21</td>\n",
       "    </tr>\n",
       "    <tr>\n",
       "      <th>2019-02-01 21:59:00</th>\n",
       "      <td>1.30816</td>\n",
       "      <td>1.30839</td>\n",
       "      <td>1.30803</td>\n",
       "      <td>1.30839</td>\n",
       "      <td>45.15</td>\n",
       "      <td>21</td>\n",
       "    </tr>\n",
       "  </tbody>\n",
       "</table>\n",
       "</div>"
      ],
      "text/plain": [
       "                        open     high      low    close  volume  hour\n",
       "time                                                                 \n",
       "2019-02-01 21:55:00  1.30773  1.30799  1.30773  1.30796   91.58    21\n",
       "2019-02-01 21:56:00  1.30797  1.30844  1.30796  1.30842   66.66    21\n",
       "2019-02-01 21:57:00  1.30843  1.30857  1.30835  1.30835   94.78    21\n",
       "2019-02-01 21:58:00  1.30836  1.30859  1.30790  1.30815  173.23    21\n",
       "2019-02-01 21:59:00  1.30816  1.30839  1.30803  1.30839   45.15    21"
      ]
     },
     "execution_count": 5,
     "metadata": {},
     "output_type": "execute_result"
    }
   ],
   "source": [
    "# hour\n",
    "time = pd.Series(df.index, index=df.index)\n",
    "hours = time.apply(lambda x: x.hour)\n",
    "df['hour'] = hours\n",
    "df.tail()"
   ]
  },
  {
   "cell_type": "code",
   "execution_count": 6,
   "metadata": {},
   "outputs": [],
   "source": [
    "# function to calculate pips\n",
    "def pip(price=None, _abs=False):\n",
    "    \n",
    "    pip_unit = 0.0001\n",
    "    if price:\n",
    "        price = float(price)\n",
    "        if _abs:\n",
    "            price = abs(price)\n",
    "        return (price / pip_unit)\n",
    "\n",
    "    return pip_unit"
   ]
  },
  {
   "cell_type": "code",
   "execution_count": 7,
   "metadata": {},
   "outputs": [
    {
     "data": {
      "text/html": [
       "<div>\n",
       "<style scoped>\n",
       "    .dataframe tbody tr th:only-of-type {\n",
       "        vertical-align: middle;\n",
       "    }\n",
       "\n",
       "    .dataframe tbody tr th {\n",
       "        vertical-align: top;\n",
       "    }\n",
       "\n",
       "    .dataframe thead th {\n",
       "        text-align: right;\n",
       "    }\n",
       "</style>\n",
       "<table border=\"1\" class=\"dataframe\">\n",
       "  <thead>\n",
       "    <tr style=\"text-align: right;\">\n",
       "      <th></th>\n",
       "      <th>open</th>\n",
       "      <th>high</th>\n",
       "      <th>low</th>\n",
       "      <th>close</th>\n",
       "      <th>volume</th>\n",
       "      <th>hour</th>\n",
       "      <th>volatility</th>\n",
       "    </tr>\n",
       "    <tr>\n",
       "      <th>time</th>\n",
       "      <th></th>\n",
       "      <th></th>\n",
       "      <th></th>\n",
       "      <th></th>\n",
       "      <th></th>\n",
       "      <th></th>\n",
       "      <th></th>\n",
       "    </tr>\n",
       "  </thead>\n",
       "  <tbody>\n",
       "    <tr>\n",
       "      <th>2019-02-01 21:55:00</th>\n",
       "      <td>1.30773</td>\n",
       "      <td>1.30799</td>\n",
       "      <td>1.30773</td>\n",
       "      <td>1.30796</td>\n",
       "      <td>91.58</td>\n",
       "      <td>21</td>\n",
       "      <td>2.6</td>\n",
       "    </tr>\n",
       "    <tr>\n",
       "      <th>2019-02-01 21:56:00</th>\n",
       "      <td>1.30797</td>\n",
       "      <td>1.30844</td>\n",
       "      <td>1.30796</td>\n",
       "      <td>1.30842</td>\n",
       "      <td>66.66</td>\n",
       "      <td>21</td>\n",
       "      <td>4.8</td>\n",
       "    </tr>\n",
       "    <tr>\n",
       "      <th>2019-02-01 21:57:00</th>\n",
       "      <td>1.30843</td>\n",
       "      <td>1.30857</td>\n",
       "      <td>1.30835</td>\n",
       "      <td>1.30835</td>\n",
       "      <td>94.78</td>\n",
       "      <td>21</td>\n",
       "      <td>2.2</td>\n",
       "    </tr>\n",
       "    <tr>\n",
       "      <th>2019-02-01 21:58:00</th>\n",
       "      <td>1.30836</td>\n",
       "      <td>1.30859</td>\n",
       "      <td>1.30790</td>\n",
       "      <td>1.30815</td>\n",
       "      <td>173.23</td>\n",
       "      <td>21</td>\n",
       "      <td>6.9</td>\n",
       "    </tr>\n",
       "    <tr>\n",
       "      <th>2019-02-01 21:59:00</th>\n",
       "      <td>1.30816</td>\n",
       "      <td>1.30839</td>\n",
       "      <td>1.30803</td>\n",
       "      <td>1.30839</td>\n",
       "      <td>45.15</td>\n",
       "      <td>21</td>\n",
       "      <td>3.6</td>\n",
       "    </tr>\n",
       "  </tbody>\n",
       "</table>\n",
       "</div>"
      ],
      "text/plain": [
       "                        open     high      low    close  volume  hour  \\\n",
       "time                                                                    \n",
       "2019-02-01 21:55:00  1.30773  1.30799  1.30773  1.30796   91.58    21   \n",
       "2019-02-01 21:56:00  1.30797  1.30844  1.30796  1.30842   66.66    21   \n",
       "2019-02-01 21:57:00  1.30843  1.30857  1.30835  1.30835   94.78    21   \n",
       "2019-02-01 21:58:00  1.30836  1.30859  1.30790  1.30815  173.23    21   \n",
       "2019-02-01 21:59:00  1.30816  1.30839  1.30803  1.30839   45.15    21   \n",
       "\n",
       "                     volatility  \n",
       "time                             \n",
       "2019-02-01 21:55:00         2.6  \n",
       "2019-02-01 21:56:00         4.8  \n",
       "2019-02-01 21:57:00         2.2  \n",
       "2019-02-01 21:58:00         6.9  \n",
       "2019-02-01 21:59:00         3.6  "
      ]
     },
     "execution_count": 7,
     "metadata": {},
     "output_type": "execute_result"
    }
   ],
   "source": [
    "volatility = df['high'] - df['low']\n",
    "volatility = volatility.apply(lambda x: pip(x))\n",
    "volatility\n",
    "df['volatility'] = volatility\n",
    "df.tail()"
   ]
  },
  {
   "cell_type": "code",
   "execution_count": 8,
   "metadata": {},
   "outputs": [
    {
     "data": {
      "text/plain": [
       "count    374596.000000\n",
       "mean          2.126742\n",
       "std           2.015416\n",
       "min           0.000100\n",
       "25%           0.900000\n",
       "50%           1.700000\n",
       "75%           2.800000\n",
       "max         107.800000\n",
       "Name: volatility, dtype: float64"
      ]
     },
     "execution_count": 8,
     "metadata": {},
     "output_type": "execute_result"
    }
   ],
   "source": [
    "df.volatility.describe()"
   ]
  },
  {
   "cell_type": "code",
   "execution_count": 9,
   "metadata": {},
   "outputs": [
    {
     "data": {
      "text/plain": [
       "<matplotlib.axes._subplots.AxesSubplot at 0x7f1937ab2be0>"
      ]
     },
     "execution_count": 9,
     "metadata": {},
     "output_type": "execute_result"
    },
    {
     "data": {
      "image/png": "[encoded data removed]",
      "text/plain": [
       "<Figure size 432x288 with 1 Axes>"
      ]
     },
     "metadata": {
      "needs_background": "light"
     },
     "output_type": "display_data"
    }
   ],
   "source": [
    "plt.title(r'1 Minute volatility of GBPUSD')\n",
    "df[df['volatility'] < 16].volatility.hist(bins=32,label='asdfasf')"
   ]
  },
  {
   "cell_type": "code",
   "execution_count": 10,
   "metadata": {},
   "outputs": [
    {
     "name": "stdout",
     "output_type": "stream",
     "text": [
      "Row with no volume = 0, 0.00%\n"
     ]
    },
    {
     "data": {
      "text/plain": [
       "time\n",
       "2018-09-20 06:36:00      2963.6799\n",
       "2018-03-12 08:59:00      3862.5300\n",
       "2018-08-08 07:07:00      4171.7700\n",
       "2018-02-19 00:38:00      4773.6099\n",
       "2018-10-29 07:30:00      7268.8999\n",
       "2018-03-09 14:29:00     10337.9102\n",
       "2018-04-04 15:00:00     10537.0303\n",
       "2018-08-08 07:08:00     11699.4902\n",
       "2018-06-27 11:49:00     17872.5703\n",
       "2018-05-04 12:22:00    109507.7813\n",
       "Name: volume, dtype: float64"
      ]
     },
     "execution_count": 10,
     "metadata": {},
     "output_type": "execute_result"
    }
   ],
   "source": [
    "no_volume_len=len(df[df['volume']==0])\n",
    "print('Row with no volume = %s, %.2f%%'% (no_volume_len,no_volume_len/len(df)*100))\n",
    "df.volume.sort_values().tail(10)"
   ]
  },
  {
   "cell_type": "code",
   "execution_count": 12,
   "metadata": {},
   "outputs": [],
   "source": [
    "# Calculate first and third quartile\n",
    "first_quartile = df['volume'].describe()['25%']\n",
    "third_quartile = df['volume'].describe()['75%']\n",
    "\n",
    "# Interquartile range\n",
    "iqr = third_quartile - first_quartile\n",
    "\n",
    "# Remove outliers\n",
    "dfv = df[(df['volume'] > 0) &\n",
    "            (df['volume'] < (third_quartile + 3 * iqr))]"
   ]
  },
  {
   "cell_type": "code",
   "execution_count": 13,
   "metadata": {},
   "outputs": [
    {
     "data": {
      "text/plain": [
       "<matplotlib.axes._subplots.AxesSubplot at 0x7f193cd7c240>"
      ]
     },
     "execution_count": 13,
     "metadata": {},
     "output_type": "execute_result"
    },
    {
     "data": {
      "image/png": "[encoded data removed]",
      "text/plain": [
       "<Figure size 432x288 with 1 Axes>"
      ]
     },
     "metadata": {
      "needs_background": "light"
     },
     "output_type": "display_data"
    }
   ],
   "source": [
    "# drop that outlier and draw hist\n",
    "dfv.volume.hist(bins=100)"
   ]
  },
  {
   "cell_type": "markdown",
   "metadata": {},
   "source": [
    "# Hourly analysis\n"
   ]
  },
  {
   "cell_type": "code",
   "execution_count": 14,
   "metadata": {
    "scrolled": true
   },
   "outputs": [],
   "source": [
    "index = []\n",
    "volume_data = []\n",
    "volatility_data = []\n",
    "\n",
    "for i in range(24):\n",
    "    volume_desc = df[(df.hour == i)].volume.describe()\n",
    "    volatility_desc = df[(df.hour == i)].volatility.describe()\n",
    "    volume_sum=df[(df.hour == i)].volatility.sum()\n",
    "    \n",
    "    volume_data.append((i,volume_desc['mean'], volume_desc['std'], volume_desc['min'], volume_desc['25%'], volume_desc['50%'], volume_desc['75%'], volume_desc['max'],volume_sum))\n",
    "    volatility_data.append((i,volatility_desc['mean'], volatility_desc['std'], volatility_desc['min'], volatility_desc['25%'], volatility_desc['50%'], volatility_desc['75%'], volatility_desc['max']))\n",
    "volume_df = pd.DataFrame(volume_data, columns=['hour','mean', 'std', 'min', '25%', '50%', '75%', 'max','sum'])\n",
    "volume_df = volume_df.set_index('hour')\n",
    "volatility_df = pd.DataFrame(volatility_data, columns=['hour','mean', 'std', 'min', '25%', '50%', '75%', 'max'])\n",
    "volatility_df = volatility_df.set_index('hour')"
   ]
  },
  {
   "cell_type": "code",
   "execution_count": 15,
   "metadata": {},
   "outputs": [
    {
     "data": {
      "text/html": [
       "<div>\n",
       "<style scoped>\n",
       "    .dataframe tbody tr th:only-of-type {\n",
       "        vertical-align: middle;\n",
       "    }\n",
       "\n",
       "    .dataframe tbody tr th {\n",
       "        vertical-align: top;\n",
       "    }\n",
       "\n",
       "    .dataframe thead th {\n",
       "        text-align: right;\n",
       "    }\n",
       "</style>\n",
       "<table border=\"1\" class=\"dataframe\">\n",
       "  <thead>\n",
       "    <tr style=\"text-align: right;\">\n",
       "      <th></th>\n",
       "      <th>mean</th>\n",
       "      <th>std</th>\n",
       "      <th>min</th>\n",
       "      <th>25%</th>\n",
       "      <th>50%</th>\n",
       "      <th>75%</th>\n",
       "      <th>max</th>\n",
       "      <th>sum</th>\n",
       "    </tr>\n",
       "    <tr>\n",
       "      <th>hour</th>\n",
       "      <th></th>\n",
       "      <th></th>\n",
       "      <th></th>\n",
       "      <th></th>\n",
       "      <th></th>\n",
       "      <th></th>\n",
       "      <th></th>\n",
       "      <th></th>\n",
       "    </tr>\n",
       "  </thead>\n",
       "  <tbody>\n",
       "    <tr>\n",
       "      <th>0</th>\n",
       "      <td>71.745222</td>\n",
       "      <td>65.752865</td>\n",
       "      <td>1.00</td>\n",
       "      <td>36.975</td>\n",
       "      <td>60.365</td>\n",
       "      <td>92.9475</td>\n",
       "      <td>4773.6099</td>\n",
       "      <td>21344.4085</td>\n",
       "    </tr>\n",
       "    <tr>\n",
       "      <th>1</th>\n",
       "      <td>83.044718</td>\n",
       "      <td>53.000800</td>\n",
       "      <td>0.95</td>\n",
       "      <td>45.420</td>\n",
       "      <td>72.530</td>\n",
       "      <td>108.3000</td>\n",
       "      <td>676.7700</td>\n",
       "      <td>21891.0067</td>\n",
       "    </tr>\n",
       "    <tr>\n",
       "      <th>2</th>\n",
       "      <td>73.167458</td>\n",
       "      <td>51.394436</td>\n",
       "      <td>1.00</td>\n",
       "      <td>37.895</td>\n",
       "      <td>61.900</td>\n",
       "      <td>95.2150</td>\n",
       "      <td>1039.8500</td>\n",
       "      <td>18535.2132</td>\n",
       "    </tr>\n",
       "  </tbody>\n",
       "</table>\n",
       "</div>"
      ],
      "text/plain": [
       "           mean        std   min     25%     50%       75%        max  \\\n",
       "hour                                                                    \n",
       "0     71.745222  65.752865  1.00  36.975  60.365   92.9475  4773.6099   \n",
       "1     83.044718  53.000800  0.95  45.420  72.530  108.3000   676.7700   \n",
       "2     73.167458  51.394436  1.00  37.895  61.900   95.2150  1039.8500   \n",
       "\n",
       "             sum  \n",
       "hour              \n",
       "0     21344.4085  \n",
       "1     21891.0067  \n",
       "2     18535.2132  "
      ]
     },
     "execution_count": 15,
     "metadata": {},
     "output_type": "execute_result"
    }
   ],
   "source": [
    "volume_df.head(3)"
   ]
  },
  {
   "cell_type": "code",
   "execution_count": 16,
   "metadata": {},
   "outputs": [
    {
     "data": {
      "text/plain": [
       "Text(0.5, 1.0, 'GBPUSD Hourly volume')"
      ]
     },
     "execution_count": 16,
     "metadata": {},
     "output_type": "execute_result"
    },
    {
     "data": {
      "image/png": "[encoded data removed]",
      "text/plain": [
       "<Figure size 576x576 with 1 Axes>"
      ]
     },
     "metadata": {
      "needs_background": "light"
     },
     "output_type": "display_data"
    }
   ],
   "source": [
    "# Hourly volume\n",
    "figsize(8, 8)\n",
    "\n",
    "plt.bar(volume_df.index, volume_df['sum'], align='center', alpha=0.7)\n",
    "plt.ylabel('Volume')\n",
    "plt.xticks(volume_df.index, range(24))\n",
    "plt.title('GBPUSD Hourly volume')"
   ]
  },
  {
   "cell_type": "code",
   "execution_count": 17,
   "metadata": {
    "scrolled": false
   },
   "outputs": [
    {
     "data": {
      "text/plain": [
       "Text(0.5, 1.0, 'GBPUSD Hourly Volatility')"
      ]
     },
     "execution_count": 17,
     "metadata": {},
     "output_type": "execute_result"
    },
    {
     "data": {
      "image/png": "[encoded data removed]",
      "text/plain": [
       "<Figure size 576x576 with 1 Axes>"
      ]
     },
     "metadata": {
      "needs_background": "light"
     },
     "output_type": "display_data"
    }
   ],
   "source": [
    "# Hourly volatility\n",
    "figsize(8, 8)\n",
    "\n",
    "plt.bar(volatility_df.index, volatility_df['mean'], align='center', alpha=0.7)\n",
    "plt.ylabel('Volatility')\n",
    "plt.xticks(volatility_df.index, range(24))\n",
    "plt.title('GBPUSD Hourly Volatility')"
   ]
  },
  {
   "cell_type": "markdown",
   "metadata": {},
   "source": [
    "# Save data for next step"
   ]
  },
  {
   "cell_type": "code",
   "execution_count": 23,
   "metadata": {},
   "outputs": [],
   "source": [
    "df.to_csv('data/GBPUSD_Candlestick_1_M_ASK_01.02.2018-01.02.2019_cleaned.csv', float_format='%.5f')"
   ]
  },
  {
   "cell_type": "markdown",
   "metadata": {},
   "source": [
    "# Clean data for test dataset"
   ]
  },
  {
   "cell_type": "code",
   "execution_count": 26,
   "metadata": {},
   "outputs": [
    {
     "name": "stdout",
     "output_type": "stream",
     "text": [
      "Row count = 118080\n"
     ]
    }
   ],
   "source": [
    "test_df = pd.read_csv(\n",
    "    'data/GBPUSD_Candlestick_1_M_ASK_01.02.2019-24.04.2019.csv',\n",
    "    header=0,\n",
    "    index_col='Gmt time',\n",
    "    names=['Gmt time', 'Open', 'High', 'Low', 'Close', 'Volume'],\n",
    "    parse_dates=['Gmt time'],\n",
    "    date_parser=dateparse)\n",
    "test_df.columns = ['open', 'high', 'low', 'close', 'volume']\n",
    "test_df.index.rename('time', inplace=True)\n",
    "print('Row count = %d' % len(test_df))"
   ]
  },
  {
   "cell_type": "code",
   "execution_count": 28,
   "metadata": {},
   "outputs": [
    {
     "name": "stdout",
     "output_type": "stream",
     "text": [
      "Invalid row count = 34557\n",
      "Row count = 83523\n"
     ]
    }
   ],
   "source": [
    "# remove invalid candle\n",
    "invalid_index = test_df[(test_df['high'] == test_df['low']) & (test_df['high'] == test_df['open']) &\n",
    "                   (test_df['open'] == test_df['close']) & (test_df['volume'] == 0)].index\n",
    "print('Invalid row count = %s'% len(invalid_index))\n",
    "\n",
    "test_df = test_df.drop(invalid_index)\n",
    "print('Row count = %d' % len(test_df))"
   ]
  },
  {
   "cell_type": "code",
   "execution_count": 29,
   "metadata": {},
   "outputs": [],
   "source": [
    "test_df.to_csv('data/GBPUSD_Candlestick_1_M_ASK_01.02.2019-24.04.2019_cleaned.csv', float_format='%.5f')\n"
   ]
  }
 ],
 "metadata": {
  "hide_input": false,
  "kernelspec": {
   "display_name": "Python 3",
   "language": "python",
   "name": "python3"
  },
  "language_info": {
   "codemirror_mode": {
    "name": "ipython",
    "version": 3
   },
   "file_extension": ".py",
   "mimetype": "text/x-python",
   "name": "python",
   "nbconvert_exporter": "python",
   "pygments_lexer": "ipython3",
   "version": "3.7.1"
  }
 },
 "nbformat": 4,
 "nbformat_minor": 2
}
