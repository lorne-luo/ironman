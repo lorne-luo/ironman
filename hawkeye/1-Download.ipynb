{
 "cells": [
  {
   "cell_type": "markdown",
   "metadata": {},
   "source": [
    "# Hawkeye\n",
    "\n",
    "This is a project using monte carlo stochastic process to predict stock price.\n",
    "\n",
    "**Step 1. Download history price and clean data**\n",
    "\n",
    "Step 2. [Use monte carlo simulate each stock's movement for 10000 times](/notebooks/forex/hawkeye/2_process.ipynb)\n",
    "\n",
    "Step 3. [Apply some heuristic rules to give stock recommendation](/notebooks/forex/hawkeye/3_recommendation.ipynb)"
   ]
  },
  {
   "cell_type": "code",
   "execution_count": 1,
   "metadata": {},
   "outputs": [],
   "source": [
    "import os\n",
    "import time\n",
    "import matplotlib.pyplot as plt\n",
    "import numpy as np\n",
    "import pandas as pd\n",
    "from alpha_vantage.timeseries import TimeSeries\n",
    "from decimal import Decimal\n",
    "ts = TimeSeries(key='Z8YBGA8971NL62IP', output_format='pandas', indexing_type='date', retries=3)\n",
    "\n",
    "def download_csv(code, local_priori=False):\n",
    "    path = f'/opt/hawkeye/price/{code}.csv'\n",
    "    if local_priori and os.path.exists(path):\n",
    "        df = pd.read_csv(path, index_col='date')\n",
    "    else:\n",
    "        df, meta_data = ts.get_daily_adjusted(symbol=f'{code}.AUS')\n",
    "        df.to_csv(path)\n",
    "    return df\n",
    "\n",
    "path = '/opt/hawkeye/result/20190517.csv'\n",
    "df = pd.read_csv(path)"
   ]
  },
  {
   "cell_type": "code",
   "execution_count": 2,
   "metadata": {},
   "outputs": [
    {
     "data": {
      "text/plain": [
       "105"
      ]
     },
     "execution_count": 2,
     "metadata": {},
     "output_type": "execute_result"
    }
   ],
   "source": [
    "df2 = df[(df['last_date'] != '2019-05-17') & (df['start price'] <= 1) & (df['start price'] > 0.5)]\n",
    "len(df2)"
   ]
  },
  {
   "cell_type": "code",
   "execution_count": 3,
   "metadata": {
    "scrolled": true
   },
   "outputs": [
    {
     "name": "stdout",
     "output_type": "stream",
     "text": [
      "0 8EC Done\n",
      "1 8VI Done\n",
      "2 AEG Done\n",
      "3 ACQ Done\n",
      "4 ADA Done\n",
      "5 ADT Done\n",
      "6 ASW Done\n",
      "7 AMN Done\n",
      "8 AGI Done\n",
      "9 AGH Done\n",
      "10 AYS Done\n",
      "11 AMH Done\n",
      "12 APL Done\n",
      "13 ATL Done\n",
      "14 ARA Done\n",
      "15 AHY Done\n",
      "16 APZ Done\n",
      "17 AMI Done\n",
      "18 ALF Done\n",
      "19 AVJ Done\n",
      "20 BTI Done\n",
      "21 BST Done\n",
      "22 BYI Done\n",
      "23 CXL Done\n",
      "24 CSS Done\n",
      "25 CVW Done\n",
      "26 CAM Done\n",
      "27 CMP Done\n",
      "28 CIE Done\n",
      "29 COE Done\n",
      "30 CUP Done\n",
      "31 CYG Done\n",
      "32 CLX Done\n",
      "33 DNK Done\n",
      "34 DCG Done\n",
      "35 DGO Done\n",
      "36 DFM Done\n",
      "37 DUB Done\n",
      "38 DWS Done\n",
      "39 EAS Done\n",
      "40 ECX Done\n",
      "41 EDC Done\n",
      "42 EAI Done\n",
      "43 EGI Done\n",
      "44 ELX Done\n",
      "45 ELS Done\n",
      "46 EBG Done\n",
      "47 FRI Done\n",
      "48 FLN Done\n",
      "49 FDV Done\n",
      "50 GLL Done\n",
      "51 GDG Done\n",
      "52 GC1 Done\n",
      "53 GOR Done\n",
      "54 GNG Done\n",
      "55 HLA Done\n",
      "56 HRR Done\n",
      "57 HFR Done\n",
      "58 HIT Done\n",
      "59 ID8 Done\n",
      "60 ISU Done\n",
      "61 KLL Done\n",
      "62 KAR Done\n",
      "63 KPG Done\n",
      "64 KTD Done\n",
      "65 KME Done\n",
      "66 LLO Done\n",
      "67 LPE Done\n",
      "68 MAI Done\n",
      "69 MYE Done\n",
      "70 MFD Done\n",
      "71 MYX Done\n",
      "72 MCM Done\n",
      "73 MHJ Done\n",
      "74 MA1 Done\n",
      "75 MOC Done\n",
      "76 MYR Done\n",
      "77 NCC Done\n",
      "78 NAC Done\n",
      "79 NSC Done\n",
      "85 RMS Done\n",
      "86 RKN Done\n",
      "87 RDF Done\n",
      "88 RMC Done\n",
      "89 RUL Done\n",
      "90 SLM Done\n",
      "91 SO4 Done\n",
      "92 SDI Done\n",
      "93 SHJ Done\n",
      "94 SHM Done\n",
      "95 SIG Done\n",
      "96 SIV Done\n",
      "97 SLR Done\n",
      "98 SXE Done\n",
      "99 S66 Done\n",
      "100 GAS Done\n",
      "101 SMN Done\n",
      "102 TLG Done\n",
      "103 TLX Done\n",
      "104 TER Done\n"
     ]
    }
   ],
   "source": [
    "for i in range(len(df2)):\n",
    "    code = df2.iloc[i]['code']\n",
    "    try:\n",
    "        download_csv(code, False)\n",
    "    except Exception as ex:\n",
    "        print(f'{i}. {code} raise error: {ex}')\n",
    "        time.sleep(21)\n",
    "        continue\n",
    "\n",
    "    print(i, code, 'Done')\n",
    "    time.sleep(21)"
   ]
  }
 ],
 "metadata": {
  "hide_input": false,
  "kernelspec": {
   "display_name": "Python 3",
   "language": "python",
   "name": "python3"
  },
  "language_info": {
   "codemirror_mode": {
    "name": "ipython",
    "version": 3
   },
   "file_extension": ".py",
   "mimetype": "text/x-python",
   "name": "python",
   "nbconvert_exporter": "python",
   "pygments_lexer": "ipython3",
   "version": "3.7.1"
  }
 },
 "nbformat": 4,
 "nbformat_minor": 2
}
